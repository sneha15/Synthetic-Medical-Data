{
  "cells": [
    {
      "cell_type": "markdown",
      "metadata": {
        "id": "vyY_t7G2mjlh"
      },
      "source": [
        "# 🏥 Hospital Patient Flow Simulation at IMH\n",
        "\n",
        "## 📄 Overview\n",
        "This document generates **synthetic hospital patient flow data** for a single day at the Institute of Mental Health (IMH), simulating realistic patient demographics and arrival patterns.\n",
        "\n",
        "---\n",
        "\n",
        "## 📅 Simulation Details\n",
        "\n",
        "- **Duration**: 1 working day (8:00 AM to 5:00 PM)\n",
        "- **Number of Patients**: 100\n",
        "\n",
        "---\n",
        "\n",
        "## ⏱️ Patient Arrival Times\n",
        "\n",
        "- **Distribution**: Simulated using a **non-homogeneous Poisson process**\n",
        "- **Pattern**:\n",
        "  - Lower arrival rates in the morning\n",
        "  - Peak arrival activity in the afternoon\n",
        "  - Lower arrival rate in the evening\n",
        "\n",
        "---\n",
        "\n",
        "## 🧍 Patient Demographics\n",
        "\n",
        "- **Age Range**: Random integers between 12 and 90\n",
        "- **Gender Distribution**: 50% Male, 50% Female (random assignment)\n",
        "\n",
        "---\n",
        "\n",
        "## 🧠 Health Conditions\n",
        "\n",
        "Each patient is randomly assigned one of the following mental health conditions according to the estimated population prevalence:\n",
        "\n",
        "| Condition                               | Estimated % |\n",
        "|-----------------------------------------|-------------|\n",
        "| Depression                              | 25%         |\n",
        "| Anxiety Disorders (incl. GAD)           | 20%         |\n",
        "| Obsessive-Compulsive Disorder (OCD)     | 12%         |\n",
        "| Schizophrenia                           | 10%         |\n",
        "| Bipolar Disorder                        | 8%          |\n",
        "| Alcohol Use Disorders                   | 7%          |\n",
        "| Dementia                                | 6%          |\n",
        "| Post-Traumatic Stress Disorder (PTSD)   | 5%          |\n",
        "| Personality Disorders                   | 4%          |\n",
        "| ADHD                                    | 3%          |\n",
        "\n",
        "---\n",
        "\n",
        "## 🛡️ Insurance Providers\n",
        "\n",
        "Patients are assigned a **uniform random insurance provider** from the following top 5:\n",
        "\n",
        "- AIA HealthShield\n",
        "- Prudential\n",
        "- Great Eastern\n",
        "- NTUC Income\n",
        "- HSBC\n",
        "\n",
        "---"
      ]
    },
    {
      "cell_type": "code",
      "execution_count": 24,
      "metadata": {
        "id": "mXLlGW10xAW9"
      },
      "outputs": [],
      "source": [
        "import pandas as pd\n",
        "import numpy as np\n",
        "import plotly.express as px\n",
        "from datetime import datetime, timedelta, time\n",
        "\n",
        "# Set seed for reproducibility\n",
        "np.random.seed(42)\n",
        "\n",
        "# Number of patients\n",
        "n_patients = 100\n",
        "\n",
        "# Generate patient IDs\n",
        "patient_ids = [f\"P{str(i+1).zfill(3)}\" for i in range(n_patients)]\n",
        "\n",
        "# Generate ages (uniform between 12 and 90)\n",
        "ages = np.random.randint(12, 91, size=n_patients)\n",
        "\n",
        "# Generate gender (50/50 split)\n",
        "genders = np.random.choice(['Male', 'Female'], size=n_patients)\n",
        "\n",
        "# Health conditions with specific probabilities\n",
        "conditions = [\n",
        "    ('Depression', 0.25),\n",
        "    ('Anxiety Disorders', 0.20),\n",
        "    ('OCD', 0.12),\n",
        "    ('Schizophrenia', 0.10),\n",
        "    ('Bipolar Disorder', 0.08),\n",
        "    ('Alcohol Use Disorders', 0.07),\n",
        "    ('Dementia', 0.06),\n",
        "    ('PTSD', 0.05),\n",
        "    ('Personality Disorders', 0.04),\n",
        "    ('ADHD', 0.03)\n",
        "]\n",
        "\n",
        "condition_names, condition_probs = zip(*conditions)\n",
        "health_conditions = np.random.choice(condition_names, size=n_patients, p=condition_probs)\n",
        "\n",
        "# Insurance providers (uniform probability)\n",
        "insurance_options = ['AIA', 'Prudential', 'Great Eastern', 'NTUC Income', 'HSBC']\n",
        "insurances = np.random.choice(insurance_options, size=n_patients)\n",
        "\n",
        "# Simulate arrival times using a non-homogeneous Poisson process\n",
        "base_datetime = datetime.strptime(\"08:00\", \"%H:%M\")\n",
        "end_datetime = base_datetime + timedelta(hours=9)\n",
        "total_minutes = int((end_datetime - base_datetime).total_seconds() / 60)\n",
        "\n",
        "time_profile = np.concatenate([\n",
        "    np.random.poisson(lam=0.3, size=180),\n",
        "    np.random.poisson(lam=1.2, size=180),\n",
        "    np.random.poisson(lam=0.5, size=180)\n",
        "])\n",
        "\n",
        "arrival_indices = np.where(time_profile > 0)[0]\n",
        "arrival_minutes = np.sort(np.random.choice(arrival_indices, size=n_patients, replace=False))\n",
        "arrival_times = [(base_datetime + timedelta(minutes=int(i))).time() for i in arrival_minutes]"
      ]
    },
    {
      "cell_type": "markdown",
      "metadata": {
        "id": "iCzxqG3VonhD"
      },
      "source": [
        "## 🧾 Check-In Desk Simulation\n",
        "\n",
        "This section models the **Check-In Desk process** as part of the hospital patient flow simulation.\n",
        "\n",
        "---\n",
        "\n",
        "### 🧑‍💼 Check-In Desk Setup\n",
        "\n",
        "- There is **1 check-in desk** available.\n",
        "- Patients are processed **on a first-come, first-served** basis.\n",
        "- Check-in starts:\n",
        "  - **Immediately upon patient arrival**, if the desk is free.\n",
        "  - **After the current patient**, if the desk is occupied.\n",
        "\n",
        "---\n",
        "\n",
        "### ⏱️ Check-In Duration\n",
        "\n",
        "- The **duration of check-in** is sampled from an **exponential distribution** (mean = 2 minutes).\n",
        "- The value is **clipped** between:\n",
        "  - **Minimum**: 1 minute  \n",
        "  - **Maximum**: 3 minutes\n",
        "\n",
        "---\n",
        "\n",
        "### 📊 Tracked Metrics per Patient\n",
        "\n",
        "For every patient:\n",
        "- **Check-in Start Time**\n",
        "- **Check-in End Time**\n",
        "- **Check-in Duration** (1 to 3 minutes)\n",
        "- **Wait Time** (if the desk is busy)\n",
        "- **Queue Size** upon arrival\n",
        "\n",
        "---"
      ]
    },
    {
      "cell_type": "code",
      "execution_count": 25,
      "metadata": {
        "id": "1T-pVeCoyAZF"
      },
      "outputs": [],
      "source": [
        "# Simulate check-in desk process\n",
        "checkin_start_times = []\n",
        "checkin_end_times = []\n",
        "checkin_wait_times = []\n",
        "checkin_durations = []\n",
        "patients_waiting_list = []\n",
        "\n",
        "ongoing_checkins = []\n",
        "\n",
        "for i, arrival_minute in enumerate(arrival_minutes):\n",
        "    arrival_time_minutes = arrival_minute + 8 * 60 # convert to minutes since midnight\n",
        "\n",
        "    # Add to waiting list\n",
        "    ongoing_checkins = [end for end in ongoing_checkins if end > arrival_time_minutes]\n",
        "\n",
        "    # Current queue length\n",
        "    queue_length = sum(end > arrival_time_minutes for end in ongoing_checkins)\n",
        "\n",
        "    # Determine check-in start time\n",
        "    checkin_start_minutes = max(arrival_time_minutes, max(ongoing_checkins) if ongoing_checkins else arrival_time_minutes)\n",
        "\n",
        "    # Sample check-in duration (1-3 min from exponential distribution)\n",
        "    raw_duration = np.random.exponential(scale=2)\n",
        "    duration = int(round(min(max(raw_duration, 1), 3)))\n",
        "\n",
        "    # Determine end time and wait time\n",
        "    checkin_end_minutes = checkin_start_minutes + duration\n",
        "    wait_time = int(round(checkin_start_minutes - arrival_time_minutes))\n",
        "\n",
        "    # Convert to time objects\n",
        "    checkin_start = time(int(checkin_start_minutes // 60), int(checkin_start_minutes % 60))\n",
        "    checkin_end = time(int(checkin_end_minutes // 60), int(checkin_end_minutes % 60))\n",
        "\n",
        "    # Store values\n",
        "    checkin_start_times.append(checkin_start)\n",
        "    checkin_end_times.append(checkin_end)\n",
        "    checkin_durations.append(duration)\n",
        "    checkin_wait_times.append(wait_time)\n",
        "    patients_waiting_list.append(queue_length)\n",
        "\n",
        "    # Update the check-in schedule\n",
        "    ongoing_checkins.append(checkin_end_minutes)"
      ]
    },
    {
      "cell_type": "markdown",
      "metadata": {
        "id": "ewXvoW01sr9n"
      },
      "source": [
        "## 🔄 update_queue(): Queue Management Function\n",
        "\n",
        "This utility function is used to **manage queues** in the hospital simulation. It ensures that only patients who are still **actively waiting** remain in the queue, and handles the addition of newly arriving patients.\n",
        "\n",
        "---\n",
        "\n",
        "### 🧠 Purpose\n",
        "\n",
        "- Adds a **new patient** to the queue.\n",
        "- **Removes** patients who have already been served (i.e., their wait has ended).\n",
        "- Ensures the queue is always **up-to-date and consistent**.\n",
        "\n",
        "---\n",
        "\n",
        "### 📥 Inputs\n",
        "\n",
        "| Parameter        |\n",
        "|------------------|\n",
        "| `queue`          |\n",
        "| `queue_starts`   |\n",
        "| `end_minutes`    |\n",
        "| `start_minutes`  |\n",
        "---\n",
        "\n",
        "### 📤 Outputs\n",
        "\n",
        "| Returns          |\n",
        "|------------------|\n",
        "| `queue`          |\n",
        "| `queue_starts`   |\n",
        "\n",
        "---\n",
        "\n",
        "### 🧮 Step-by-Step Logic\n",
        "\n",
        "1. **Initial Queue Check**:\n",
        "   - If `queue` is empty, add the new patient\n",
        "\n",
        "2. **Iterate Over Queue**:\n",
        "   - Loop through each patient's `queue_start` time.\n",
        "   - If a patient’s `start_time > end_minutes`, that patient is still waiting → add the new patient and stop checking further.\n",
        "   - Otherwise, mark the index to **delete**, as the patient has already moved on.\n",
        "\n",
        "3. **Clean Up Queue**:\n",
        "   - Remove all patients who have already been served using the list of marked deletion indices.\n",
        "\n",
        "4. **Final Check**:\n",
        "   - If all previous entries were removed and the queue is now empty, **add** the new patient to ensure no one is missed.\n",
        "\n",
        "5. **Return Updated Queue**:\n",
        "   - Return the `queue` and `queue_starts` with all updates applied.\n",
        "\n",
        "---\n"
      ]
    },
    {
      "cell_type": "code",
      "execution_count": 26,
      "metadata": {
        "id": "UX5nLc11vkmf"
      },
      "outputs": [],
      "source": [
        "def update_queue(queue, queue_starts, end_minutes, start_minutes):\n",
        "\n",
        "    if queue == []:\n",
        "        queue.append(end_minutes)\n",
        "        queue_starts.append(start_minutes)\n",
        "    else:\n",
        "        # We will track indices to delete after the loop\n",
        "        indices_to_delete = []\n",
        "\n",
        "        for j, t in enumerate(queue_starts):\n",
        "        # Cumulatively add patients to the queue\n",
        "            if t > end_minutes:\n",
        "                queue.append(end_minutes)\n",
        "                queue_starts.append(start_minutes)\n",
        "                break\n",
        "            # Remove patients who have already been assigned to a station, only keeping those who are waiting\n",
        "            else:\n",
        "                indices_to_delete.append(j)\n",
        "\n",
        "        # Now delete the indices that were marked\n",
        "        for idx in reversed(indices_to_delete): # Delete from the end to avoid shifting\n",
        "            del queue[idx]\n",
        "            del queue_starts[idx]\n",
        "\n",
        "        # If triage queue gets cleared out by above logic, still need to add the remaining patient to the queue\n",
        "        if queue == []:\n",
        "            queue.append(end_minutes)\n",
        "            queue_starts.append(start_minutes)\n",
        "\n",
        "    return queue, queue_starts\n"
      ]
    },
    {
      "cell_type": "markdown",
      "metadata": {
        "id": "VQ3DsvNkyLxW"
      },
      "source": [
        "## 🩺 Triage Station Simulation\n",
        "\n",
        "This section models the **triage process** patients go through immediately after check-in. It simulates how patients are routed to one of **two triage stations**, how wait times and queues are determined, and how patients are classified into **Emergency** or **Routine** categories.\n",
        "\n",
        "---\n",
        "\n",
        "### 🧠 Triage Station Setup\n",
        "\n",
        "- There are **2 triage stations** available: Station `A` and Station `B`.\n",
        "- Patients proceed to triage **immediately after completing check-in**.\n",
        "- Triage begins:\n",
        "  - **Immediately**, if a station is free.\n",
        "  - **After waiting**, if both stations are occupied.\n",
        "- Patients are classified as:\n",
        "  - **Emergency (20%)**: Prioritized in the queue.\n",
        "  - **Routine (80%)**: Processed on a **First-In-First-Out (FIFO)** basis.\n",
        "\n",
        "---\n",
        "\n",
        "### ⏱️ Triage Duration\n",
        "\n",
        "- The **duration of triage** is sampled from a **uniform distribution** between:\n",
        "  - **Minimum**: 3 minutes  \n",
        "  - **Maximum**: 5 minutes\n",
        "\n",
        "---\n",
        "\n",
        "### 📊 Tracked Metrics per Patient\n",
        "\n",
        "For every patient:\n",
        "- **Triage Start Time** (when triage begins)\n",
        "- **Triage End Time** (when triage ends)\n",
        "- **Triage Duration** (3 to 5 minutes)\n",
        "- **Wait Time for Triage** (time spent waiting after check-in)\n",
        "- **Number of Patients Ahead in Queue** (if any)\n",
        "- **Assigned Triage Station** (`A` or `B`)\n",
        "- **Triage Classification** (`Emergency` or `Routine`)\n",
        "\n",
        "---\n"
      ]
    },
    {
      "cell_type": "code",
      "execution_count": 27,
      "metadata": {
        "id": "40weEvh9G1-P"
      },
      "outputs": [],
      "source": [
        "# Simulate triage process\n",
        "triage_in_times = []\n",
        "triage_out_times = []\n",
        "triage_wait_times = []\n",
        "triage_durations = []\n",
        "triage_classification = []\n",
        "triage_station_assignment = []\n",
        "triage_waiting_list = []\n",
        "\n",
        "triage_station_end_times = {'A': None, 'B': None}\n",
        "triage_end_minutes_list = []\n",
        "\n",
        "triage_queue = []  # Keep track of patients waiting for triage\n",
        "triage_queue_starts = [] # Keep track of start times of patients\n",
        "\n",
        "for i, checkin_end in enumerate(checkin_end_times):\n",
        "    checkin_end_minutes = checkin_end.hour * 60 + checkin_end.minute\n",
        "    is_emergency = np.random.rand() < 0.20\n",
        "    triage_classification.append('Emergency' if is_emergency else 'Routine')\n",
        "\n",
        "    # Count number of patients waiting (in queue) including the current one if no station is free\n",
        "    available_station = None\n",
        "    for station, end_time in triage_station_end_times.items():\n",
        "      if end_time is None or end_time <= checkin_end_minutes:\n",
        "          triage_queue = []\n",
        "          triage_queue_starts = []\n",
        "          available_station = station\n",
        "          triage_start_minutes = max(checkin_end_minutes, triage_station_end_times[available_station] or 0)\n",
        "          break\n",
        "\n",
        "    soonest_station = min(triage_station_end_times.items(), key=lambda x: float('inf') if x[1] is None else x[1])\n",
        "\n",
        "    if available_station is None:\n",
        "\n",
        "        available_station = soonest_station[0]\n",
        "        triage_start_minutes = max(checkin_end_minutes, triage_station_end_times[available_station] or 0)\n",
        "\n",
        "        triage_queue, triage_queue_starts = update_queue(triage_queue, triage_queue_starts, checkin_end_minutes, triage_start_minutes)\n",
        "\n",
        "    waiting_count = len(triage_queue)\n",
        "    triage_waiting_list.append(waiting_count)\n",
        "\n",
        "    triage_duration = int(round(np.random.uniform(3, 5)))\n",
        "    triage_end_minutes = triage_start_minutes + triage_duration\n",
        "    triage_wait = triage_start_minutes - checkin_end_minutes\n",
        "\n",
        "    triage_in = time(triage_start_minutes // 60, triage_start_minutes % 60)\n",
        "    triage_out = time(triage_end_minutes // 60, triage_end_minutes % 60)\n",
        "\n",
        "    triage_in_times.append(triage_in)\n",
        "    triage_out_times.append(triage_out)\n",
        "    triage_durations.append(triage_duration)\n",
        "    triage_wait_times.append(triage_wait)\n",
        "    triage_station_assignment.append(available_station)\n",
        "\n",
        "    triage_station_end_times[available_station] = triage_end_minutes\n",
        "    triage_end_minutes_list.append(triage_end_minutes)\n",
        "\n",
        "\n"
      ]
    },
    {
      "cell_type": "markdown",
      "metadata": {
        "id": "9FDwzq2jDvhZ"
      },
      "source": [
        "### 🧮 `pop_next_patient()` Function Overview\n",
        "\n",
        "This function selects the **next patient** from the **emergency or routine queue** based on:\n",
        "\n",
        "- **Priority**: Emergency patients are always served before routine, as long as they are in the queue.\n",
        "- **FIFO Rule**: Within each category, patients are served in the order they arrived.\n",
        "\n",
        "#### 🔁 Returns\n",
        "- The selected patient's index and arrival time.\n",
        "- The updated emergency and routine queues after removing the selected patient.\n"
      ]
    },
    {
      "cell_type": "code",
      "execution_count": 28,
      "metadata": {
        "id": "0TfGVtdmyS3e"
      },
      "outputs": [],
      "source": [
        "def pop_next_patient(emergency_queue, routine_queue, doctor_end_times, next_doctor):\n",
        "    \"\"\"Return next patient from appropriate queue based on emergency priority and FIFO, along with updated queues.\"\"\"\n",
        "    if emergency_queue and routine_queue:\n",
        "        emergency_pid, emergency_arrival = emergency_queue[0]\n",
        "        routine_pid, routine_arrival = routine_queue[0]\n",
        "\n",
        "        if emergency_pid < routine_pid:\n",
        "            selected_queue = 'emergency'\n",
        "        else:\n",
        "            next_doctor_time = doctor_end_times[next_doctor]\n",
        "            if next_doctor_time >= emergency_arrival:\n",
        "                selected_queue = 'emergency'\n",
        "            elif next_doctor_time >= routine_arrival and next_doctor_time < emergency_arrival:\n",
        "                selected_queue = 'routine'\n",
        "\n",
        "        if selected_queue == 'emergency':\n",
        "            patient_idx, patient_arrival = emergency_queue.pop(0)\n",
        "        else:\n",
        "            patient_idx, patient_arrival = routine_queue.pop(0)\n",
        "\n",
        "    elif emergency_queue:\n",
        "        patient_idx, patient_arrival = emergency_queue.pop(0)\n",
        "\n",
        "    elif routine_queue:\n",
        "        patient_idx, patient_arrival = routine_queue.pop(0)\n",
        "\n",
        "    else:\n",
        "        patient_idx = patient_arrival = None  # fallback if both queues are empty\n",
        "\n",
        "    return patient_idx, patient_arrival, emergency_queue, routine_queue\n"
      ]
    },
    {
      "cell_type": "markdown",
      "metadata": {
        "id": "4cl1qSQw01yt"
      },
      "source": [
        "## 🩻 Doctor Consultation Simulation\n",
        "\n",
        "This section models the **doctor consultation process** that patients enter after completing triage. It includes logic for doctor assignment, priority handling for Emergency patients, FIFO for Routine patients, and tracking of wait, consultation times, emergency and routine queues.\n",
        "\n",
        "---\n",
        "\n",
        "### 🧠 Consultation Setup\n",
        "\n",
        "- There are **5 doctors** available: `A`, `B`, `C`, `D`, and `E`.\n",
        "- All doctors have the specialty **Psychiatry**.\n",
        "- Patients proceed to consultation **immediately after triage**, depending on doctor availability.\n",
        "- Patients are prioritized based on triage classification:\n",
        "  - **Emergency** patients are placed in a **priority queue**.\n",
        "  - **Routine** patients are placed in a **First-In-First-Out (FIFO)** queue.\n",
        "\n",
        "---\n",
        "\n",
        "### 🧬 Consultation Logic\n",
        "\n",
        "- If **one or more doctors are available**, a patient is assigned to the doctor with the **earliest available time**.\n",
        "- If **all doctors are busy**, the patient is assigned to the **first doctor who becomes available**.\n",
        "- Patients in the **Emergency queue** are always assigned first.\n",
        "  - Among emergencies, the one with the **earliest triage end time** is selected.\n",
        "- Routine patients are selected based on **earliest triage out time** (FIFO order).\n",
        "\n",
        "---\n",
        "\n",
        "### ⏱️ Consultation Duration\n",
        "\n",
        "- The **duration of consultation** is sampled from a **normal distribution** with:\n",
        "  - **Mean**: 17.5 minutes  \n",
        "  - **Standard Deviation**: 1.5 minutes  \n",
        "- Duration values are **clipped** between:\n",
        "  - **Minimum**: 15 minutes  \n",
        "  - **Maximum**: 20 minutes\n",
        "\n",
        "---\n",
        "\n",
        "### 📊 Tracked Metrics per Patient\n",
        "\n",
        "For every patient:\n",
        "- **Consultation Start Time** (`consultation_in_time`)\n",
        "- **Consultation End Time** (`consultation_out_time`)\n",
        "- **Total Consultation Time** (15 to 20 minutes)\n",
        "- **Waiting Time** before consultation (difference between triage out and consultation start)\n",
        "- **Assigned Doctor** (`A` to `E`)\n",
        "- **Doctor Specialty** (always \"Psychiatry\")\n",
        "- **Number of Patients Ahead in Emergency and Routine Queue**:\n",
        "  - If a doctor is available immediately, this value is **zero**.\n",
        "  - Otherwise, it reflects the number of emergency or routine patients waiting before this one (excluding those already in consultation).\n",
        "\n",
        "---"
      ]
    },
    {
      "cell_type": "code",
      "execution_count": 29,
      "metadata": {
        "id": "eHwZeVchjnpJ"
      },
      "outputs": [],
      "source": [
        "# Doctor Consultation according to Emergency or Routine Queue\n",
        "\n",
        "patient_ids = np.arange(n_patients)\n",
        "\n",
        "\n",
        "# Initialize tracking lists\n",
        "consultation_in_times = [None] * n_patients\n",
        "consultation_out_times = [None] * n_patients\n",
        "consultation_durations = [None] * n_patients\n",
        "consultation_wait_times = [None] * n_patients\n",
        "consultation_doctor = [None] * n_patients\n",
        "consultation_specialty = ['Psychiatry'] * n_patients\n",
        "routine_waiting_list = [None] * n_patients\n",
        "emergency_waiting_list = [None] * n_patients\n",
        "consultation_end_minutes_list = [None] * n_patients\n",
        "\n",
        "doctor_end_times = {doc: 0 for doc in ['A', 'B', 'C', 'D', 'E']}\n",
        "doctor_busy_slots = {doc: [] for doc in doctor_end_times}\n",
        "\n",
        "# Queues\n",
        "emergency_queue = []\n",
        "routine_queue = []\n",
        "\n",
        "# Simulation\n",
        "for i in patient_ids:\n",
        "    arrival_time = triage_end_minutes_list[i]\n",
        "    category = triage_classification[i]\n",
        "\n",
        "    # Add patient to appropriate queue\n",
        "    if category == 'Emergency':\n",
        "        emergency_queue.append((i, arrival_time))\n",
        "    else:\n",
        "        routine_queue.append((i, arrival_time))\n",
        "\n",
        "    # Step 1: While there are idle doctors before this patient's arrival, assign from queues\n",
        "    while True:\n",
        "        idle_doctors = {doc: end_time for doc, end_time in doctor_end_times.items() if end_time <= arrival_time}\n",
        "        # This loop breaks if there all doctors are busy or both queues are empty\n",
        "        if not idle_doctors or not (emergency_queue or routine_queue):\n",
        "          routine_waiting_list[i] = len(routine_queue)\n",
        "          emergency_waiting_list[i] = len(emergency_queue)\n",
        "          break\n",
        "\n",
        "        # Assign the next available doctor\n",
        "        next_doctor = min(idle_doctors, key=idle_doctors.get)\n",
        "\n",
        "        patient_idx, patient_arrival, emergency_queue, routine_queue = pop_next_patient(emergency_queue, routine_queue, doctor_end_times, next_doctor)\n",
        "\n",
        "\n",
        "        consultation_start = max(patient_arrival, doctor_end_times[next_doctor])\n",
        "        duration = int(round(np.clip(np.random.normal(loc=17.5, scale=1.5), 15, 20)))\n",
        "        consultation_end = consultation_start + duration\n",
        "\n",
        "        doctor_end_times[next_doctor] = consultation_end\n",
        "        doctor_busy_slots[next_doctor].append((consultation_start, consultation_end))\n",
        "\n",
        "        consultation_in_times[patient_idx] = time(consultation_start // 60, consultation_start % 60)\n",
        "        consultation_out_times[patient_idx] = time(min(23, consultation_end // 60), min(59, consultation_end % 60))\n",
        "        consultation_durations[patient_idx] = duration\n",
        "        consultation_wait_times[patient_idx] = consultation_start - patient_arrival\n",
        "        consultation_doctor[patient_idx] = next_doctor\n",
        "        consultation_end_minutes_list[patient_idx] = consultation_end\n",
        "\n",
        "# After processing all patients, assign remaining in queues when doctors are free\n",
        "while emergency_queue or routine_queue:\n",
        "\n",
        "    next_available_time = min(doctor_end_times.values())\n",
        "    idle_doctors = {doc: end_time for doc, end_time in doctor_end_times.items() if end_time == next_available_time}\n",
        "    next_doctor = min(idle_doctors, key=idle_doctors.get)\n",
        "\n",
        "    patient_idx, patient_arrival, emergency_queue, routine_queue = pop_next_patient(emergency_queue, routine_queue, doctor_end_times, next_doctor)\n",
        "\n",
        "    consultation_start = max(patient_arrival, doctor_end_times[next_doctor])\n",
        "    duration = int(round(np.clip(np.random.normal(loc=17.5, scale=1.5), 15, 20)))\n",
        "    consultation_end = consultation_start + duration\n",
        "\n",
        "    doctor_end_times[next_doctor] = consultation_end\n",
        "    doctor_busy_slots[next_doctor].append((consultation_start, consultation_end))\n",
        "\n",
        "    consultation_in_times[patient_idx] = time(consultation_start // 60, consultation_start % 60)\n",
        "    consultation_out_times[patient_idx] = time(min(23, consultation_end // 60), min(59, consultation_end % 60))\n",
        "    consultation_durations[patient_idx] = duration\n",
        "    consultation_wait_times[patient_idx] = consultation_start - patient_arrival\n",
        "    consultation_doctor[patient_idx] = next_doctor\n",
        "    consultation_end_minutes_list[patient_idx] = consultation_end\n"
      ]
    },
    {
      "cell_type": "markdown",
      "metadata": {
        "id": "7k0nJCD113ND"
      },
      "source": [
        "## 🧪 Diagnostic Test Assignment\n",
        "\n",
        "This section simulates the **assignment of patients to diagnostic tests** following their doctor consultation.\n",
        "\n",
        "---\n",
        "\n",
        "### 🎯 Assignment Logic\n",
        "\n",
        "- After consultation, patients may be referred to one of the following tests:\n",
        "  - **Blood Test** (20% probability)\n",
        "  - **Neuroimaging** (10% probability)\n",
        "  - **EEG** (10% probability)\n",
        "- The remaining **60% of patients are not assigned** any diagnostic test.\n",
        "\n",
        "---\n",
        "\n",
        "### 📊 Data Tracked\n",
        "\n",
        "For each patient:\n",
        "- **Patient ID**\n",
        "- **Consultation End Time** (used to determine test start time)\n",
        "- **Assigned Test Type** (or `None`)\n",
        "- **Triage Category** (Emergency or Routine)\n",
        "\n",
        "---\n"
      ]
    },
    {
      "cell_type": "code",
      "execution_count": 30,
      "metadata": {
        "id": "0U-ks8F67hur"
      },
      "outputs": [],
      "source": [
        "# Initialize test assignment probabilities\n",
        "np.random.seed(42)\n",
        "test_types = ['Blood Test', 'Neuroimaging', 'EEG']\n",
        "test_probs = [0.20, 0.10, 0.10]\n",
        "test_assignments = np.random.choice(\n",
        "    test_types + [None], size=n_patients,\n",
        "    p=[0.20, 0.10, 0.10, 1 - sum(test_probs)]\n",
        ")\n",
        "\n",
        "tests = pd.DataFrame({\n",
        "    'patient_id': patient_ids,\n",
        "    'consultation_end_min': consultation_end_minutes_list,\n",
        "    'test_type': test_assignments,\n",
        "    'category': triage_classification\n",
        "})\n"
      ]
    },
    {
      "cell_type": "markdown",
      "metadata": {
        "id": "2EG8khViDGw_"
      },
      "source": [
        "### ⚙️ `process_test()` Function Overview\n",
        "\n",
        "This function simulates the **execution of a diagnostic test** (Blood, Neuroimaging, or EEG) for a patient at a given station.\n",
        "\n",
        "#### 🔁 Workflow Summary\n",
        "- **Start Time**: Begins when either the patient arrives or the station becomes free (whichever is later).\n",
        "- **Duration**: Sampled from a **clipped normal distribution** based on given mean and std.\n",
        "- **Result Days**: Randomly selected **integer days** between `min_days` and `max_days` for number of days it took to get test results.\n",
        "- **End Time**: End time of test\n",
        "\n",
        "#### 📌 Updates Performed\n",
        "- Records **start and end times** of the test.\n",
        "- Records **test duration, patient waiting time and number of days for results** for test\n",
        "- Updates the **station's availability** (`test_end_times`).\n",
        "- Tracks:\n",
        "  - `test_in_times`, `test_out_times`\n",
        "  - `test_durations`, `test_wait_times`\n",
        "  - `test_station_assigned`, `test_result_days`\n",
        "\n",
        "#### ✅ Returns\n",
        "- Updated lists and dictionaries with the new test details for the given patient.\n",
        "\n",
        "This function ensures consistent tracking and timing for diagnostic stations handling tests.\n"
      ]
    },
    {
      "cell_type": "code",
      "execution_count": 31,
      "metadata": {
        "id": "ypx_Bv5H1uSp"
      },
      "outputs": [],
      "source": [
        "def process_test(\n",
        "    patient_idx,\n",
        "    patient_arrival,\n",
        "    next_station,\n",
        "    test_end_times,\n",
        "    diagnostic_tests,\n",
        "    test_in_times,\n",
        "    test_out_times,\n",
        "    test_durations,\n",
        "    test_wait_times,\n",
        "    test_station_assigned,\n",
        "    test_result_days,\n",
        "    mean,\n",
        "    std,\n",
        "    min_duration,\n",
        "    max_duration,\n",
        "    min_days,\n",
        "    max_days\n",
        "):\n",
        "    # Determine test start time based on availability\n",
        "    test_start = max(patient_arrival, test_end_times[next_station])\n",
        "\n",
        "    # Sample test duration from a clipped normal distribution\n",
        "    duration = int(round(np.clip(np.random.normal(mean, std), min_duration, max_duration)))\n",
        "\n",
        "    # Sample result days from a uniform integer distribution\n",
        "    result_days = np.random.randint(min_days, max_days + 1)\n",
        "\n",
        "    # Calculate test end time\n",
        "    test_end = test_start + duration\n",
        "\n",
        "    # Update end time for the station\n",
        "    test_end_times[next_station] = test_end\n",
        "\n",
        "    # Get patient ID\n",
        "    pid = diagnostic_tests.iloc[patient_idx]['patient_id']\n",
        "\n",
        "    # Store results\n",
        "    test_in_times[pid] = time(test_start // 60, test_start % 60)\n",
        "    test_out_times[pid] = time(min(23, test_end // 60), min(59, test_end % 60))\n",
        "    test_durations[pid] = duration\n",
        "    test_wait_times[pid] = test_start - patient_arrival\n",
        "    test_station_assigned[pid] = next_station\n",
        "    test_result_days[pid] = result_days\n",
        "\n",
        "    return (\n",
        "        test_end_times,\n",
        "        test_in_times,\n",
        "        test_out_times,\n",
        "        test_durations,\n",
        "        test_wait_times,\n",
        "        test_station_assigned,\n",
        "        test_result_days\n",
        "    )\n"
      ]
    },
    {
      "cell_type": "markdown",
      "metadata": {
        "id": "T2ZxwIzVB8PR"
      },
      "source": [
        "## 🧪 Diagnostic Tests Simulation\n",
        "\n",
        "This section simulates the **diagnostic testing stage** of patient flow, focusing on three types of tests: **Blood Test**, **Neuroimaging**, and **EEG**.\n",
        "\n",
        "---\n",
        "\n",
        "### 🔀 Test Assignment Logic\n",
        "\n",
        "- After consultation, patients are randomly assigned to one of the following tests:\n",
        "  - **20%** → Blood Test\n",
        "  - **10%** → Neuroimaging\n",
        "  - **10%** → EEG\n",
        "  - Remaining **60%** are not assigned any diagnostic test.\n",
        "- A new column `test_type` is added to reflect this assignment, with `null` values for patients not requiring further tests.\n",
        "\n",
        "---\n",
        "\n",
        "### 🏥 Test Station Setup\n",
        "\n",
        "Each test type is handled by **2 specialized stations**:\n",
        "\n",
        "| Test Type     | Stations |\n",
        "|---------------|----------|\n",
        "| Blood Test    | B1, B2   |\n",
        "| Neuroimaging  | N1, N2   |\n",
        "| EEG           | E1, E2   |\n",
        "\n",
        "Patients are routed to the first available station once their consultation ends.\n",
        "\n",
        "---\n",
        "\n",
        "### 🧑‍⚕️ Queue Management\n",
        "\n",
        "- Patients are **sorted by `consultation_out_time`** to maintain the correct order of flow.\n",
        "- They are added to two separate queues based on triage category:\n",
        "  - Emergency → `emergency_queue`\n",
        "  - Routine → `routine_queue`\n",
        "- When a station becomes free:\n",
        "  - It **checks the queues**, giving **priority to emergency patients**.\n",
        "  - Within each category, **First-In-First-Out** (FIFO) is enforced.\n",
        "\n",
        "---\n",
        "\n",
        "### ⏱️ Test Timing and Wait Tracking\n",
        "\n",
        "Each test type has specific timing characteristics:\n",
        "\n",
        "| Test Type     | Duration (mins)            | Result Days (Uniform Range) |\n",
        "|---------------|----------------------------|------------------------------|\n",
        "| Blood Test    | 10–15 (mean=12.5, std=1.5)  | 1–3 days                     |\n",
        "| Neuroimaging  | 30–60 (mean=45, std=7.5)    | 2–4 days                     |\n",
        "| EEG           | 45–60 (mean=52.5, std=5)    | 7–14 days                    |\n",
        "\n",
        "- A **normal distribution** is used for test durations, clipped to the valid range.\n",
        "- A **uniform distribution** (in days) determines when results will be available.\n",
        "- **Wait time** is computed as the difference between `consultation_out_time` and `test_in_time`.\n",
        "\n",
        "---\n",
        "\n",
        "### ⚙️ Processing Logic\n",
        "\n",
        "The diagnostic test workflow follows this sequence:\n",
        "\n",
        "1. **Patients filtered by test type**.\n",
        "2. **Sorted by consultation end time** to determine order.\n",
        "3. **Queued based on triage category**.\n",
        "4. **Assigned to first available station**\n",
        "5. **Test durations, wait times, and result days** computed.\n",
        "6. **All values tracked per patient** using the `process_test()` function.\n",
        "\n",
        "---\n",
        "\n",
        "### 📦 Output Tracked for Each Patient\n",
        "\n",
        "- `test_type`: Type of diagnostic test assigned (or `None`)\n",
        "- `test_in_time`: Time when test began\n",
        "- `test_out_time`: Time when test ended\n",
        "- `test_duration`: Total time spent in test\n",
        "- `test_wait_time`: Time waited after consultation before test began\n",
        "- `test_station_assigned`: Station that performed the test\n",
        "- `test_result_days`: Number of days until results become available\n",
        "\n",
        "---\n",
        "\n",
        "This simulation closely mirrors real-world clinical operations where emergency patients are prioritized, and patients flow through specialized diagnostic paths following consultation.\n"
      ]
    },
    {
      "cell_type": "code",
      "execution_count": 32,
      "metadata": {
        "id": "cLsl8BPb83un"
      },
      "outputs": [],
      "source": [
        "# Filter patients who need blood test and sort by consultation out times. Keep track of patient id and triage category\n",
        "blood_tests = tests[tests['test_type'] == 'Blood Test']\n",
        "blood_tests = blood_tests.sort_values(by='consultation_end_min').reset_index(drop=True)\n",
        "\n",
        "# Generate Flow for Blood Tests - Correct\n",
        "\n",
        "# Initialize tracking lists\n",
        "test_in_times = [None] * n_patients\n",
        "test_out_times = [None] * n_patients\n",
        "test_station_assigned = [None] * n_patients\n",
        "test_wait_times = [None] * n_patients\n",
        "test_durations = [None] * n_patients\n",
        "test_result_days = [None] * n_patients\n",
        "\n",
        "blood_test_end_times = {doc: 0 for doc in ['B1', 'B2']}\n",
        "\n",
        "# Blood Test Queues\n",
        "emergency_queue_blood = []\n",
        "routine_queue_blood = []\n",
        "\n",
        "# Simulation for blood test\n",
        "for idx, row in blood_tests.iterrows():\n",
        "\n",
        "  arrival_time = row['consultation_end_min']\n",
        "  category = row['category']\n",
        "\n",
        "  # Add patient to appropriate queue\n",
        "  if category == 'Emergency':\n",
        "    emergency_queue_blood.append((idx, arrival_time))\n",
        "  else:\n",
        "    routine_queue_blood.append((idx, arrival_time))\n",
        "\n",
        "  # Step 1: While there are idle stations before this patient's arrival, assign from queues\n",
        "  while True:\n",
        "    idle_blood_tests = {doc: end_time for doc, end_time in blood_test_end_times.items() if end_time <= arrival_time}\n",
        "\n",
        "    # This loop breaks if all stations are busy or both queues are empty\n",
        "    if not idle_blood_tests or not (emergency_queue_blood or routine_queue_blood):\n",
        "      break\n",
        "\n",
        "    # Assign the next available station\n",
        "    next_station = min(idle_blood_tests, key=idle_blood_tests.get)\n",
        "\n",
        "    patient_idx, patient_arrival, emergency_queue_blood, routine_queue_blood = pop_next_patient(emergency_queue_blood, routine_queue_blood, blood_test_end_times, next_station)\n",
        "\n",
        "    blood_test_end_times, test_in_times, test_out_times, test_durations, test_wait_times, test_station_assigned, test_result_days = process_test(patient_idx,patient_arrival,\n",
        "    next_station,blood_test_end_times,blood_tests,test_in_times,test_out_times,\n",
        "    test_durations,test_wait_times,test_station_assigned,test_result_days,\n",
        "    mean=12.5,std=1.5,min_duration=10,max_duration=15,min_days=1,max_days=3)\n",
        "\n",
        "while emergency_queue_blood or routine_queue_blood:\n",
        "\n",
        "  next_available_time = min(blood_test_end_times.values())\n",
        "  idle_blood_tests = {doc: end_time for doc, end_time in blood_test_end_times.items() if end_time == next_available_time}\n",
        "  next_station = min(idle_blood_tests, key=idle_blood_tests.get)\n",
        "\n",
        "  patient_idx, patient_arrival, emergency_queue_blood, routine_queue_blood = pop_next_patient(emergency_queue_blood, routine_queue_blood, blood_test_end_times, next_station)\n",
        "\n",
        "  blood_test_end_times, test_in_times, test_out_times, test_durations, test_wait_times,\n",
        "  test_station_assigned, test_result_days = process_test(patient_idx,patient_arrival,\n",
        "  next_station,blood_test_end_times,blood_tests,test_in_times,test_out_times,\n",
        "  test_durations,test_wait_times,test_station_assigned,test_result_days,\n",
        "  mean=12.5,std=1.5,min_duration=10,max_duration=15,min_days=1,max_days=3)\n",
        "\n",
        "\n",
        "\n",
        "\n"
      ]
    },
    {
      "cell_type": "code",
      "execution_count": 33,
      "metadata": {
        "id": "1zOs48ptmIfi"
      },
      "outputs": [],
      "source": [
        "# Neuroimaging Tests\n",
        "neuro_tests = tests[tests['test_type'] == 'Neuroimaging']\n",
        "neuro_tests = neuro_tests.sort_values(by='consultation_end_min').reset_index(drop=True)\n",
        "\n",
        "neuro_test_end_times = {doc: 0 for doc in ['N1', 'N2']}\n",
        "emergency_queue_neuro = []\n",
        "routine_queue_neuro = []\n",
        "\n",
        "for idx, row in neuro_tests.iterrows():\n",
        "    arrival_time = row['consultation_end_min']\n",
        "    category = row['category']\n",
        "\n",
        "    if category == 'Emergency':\n",
        "        emergency_queue_neuro.append((idx, arrival_time))\n",
        "    else:\n",
        "        routine_queue_neuro.append((idx, arrival_time))\n",
        "\n",
        "    while True:\n",
        "        idle_stations = {doc: end for doc, end in neuro_test_end_times.items() if end <= arrival_time}\n",
        "        if not idle_stations or not (emergency_queue_neuro or routine_queue_neuro):\n",
        "            break\n",
        "\n",
        "        next_station = min(idle_stations, key=idle_stations.get)\n",
        "\n",
        "        patient_idx, patient_arrival, emergency_queue_neuro, routine_queue_neuro = pop_next_patient(emergency_queue_neuro, routine_queue_neuro, neuro_test_end_times, next_station)\n",
        "\n",
        "        neuro_test_end_times, test_in_times, test_out_times, test_durations, test_wait_times, test_station_assigned, test_result_days = process_test(patient_idx,patient_arrival,\n",
        "        next_station,neuro_test_end_times,neuro_tests,test_in_times,test_out_times,\n",
        "        test_durations,test_wait_times,test_station_assigned,test_result_days,\n",
        "        mean=45,std=7.5,min_duration=30,max_duration=60,min_days=2,max_days=4)\n",
        "\n",
        "while emergency_queue_neuro or routine_queue_neuro:\n",
        "    next_available_time = min(neuro_test_end_times.values())\n",
        "    idle_stations = {doc: end for doc, end in neuro_test_end_times.items() if end == next_available_time}\n",
        "    next_station = min(idle_stations, key=idle_stations.get)\n",
        "\n",
        "    patient_idx, patient_arrival, emergency_queue_neuro, routine_queue_neuro = pop_next_patient(emergency_queue_neuro, routine_queue_neuro, neuro_test_end_times, next_station)\n",
        "\n",
        "    neuro_test_end_times, test_in_times, test_out_times, test_durations, test_wait_times, test_station_assigned, test_result_days = process_test(patient_idx,patient_arrival,\n",
        "    next_station,neuro_test_end_times,neuro_tests,test_in_times,test_out_times,\n",
        "    test_durations,test_wait_times,test_station_assigned,test_result_days,\n",
        "    mean=45,std=7.5,min_duration=30,max_duration=60,min_days=2,max_days=4)\n",
        "\n"
      ]
    },
    {
      "cell_type": "code",
      "execution_count": 34,
      "metadata": {
        "id": "iVqXKWfSmmjR"
      },
      "outputs": [],
      "source": [
        "# EEG Tests\n",
        "eeg_tests = tests[tests['test_type'] == 'EEG']\n",
        "eeg_tests = eeg_tests.sort_values(by='consultation_end_min').reset_index(drop=True)\n",
        "\n",
        "eeg_test_end_times = {doc: 0 for doc in ['E1', 'E2']}\n",
        "emergency_queue_eeg = []\n",
        "routine_queue_eeg = []\n",
        "\n",
        "for idx, row in eeg_tests.iterrows():\n",
        "    arrival_time = row['consultation_end_min']\n",
        "    category = row['category']\n",
        "\n",
        "    if category == 'Emergency':\n",
        "        emergency_queue_eeg.append((idx, arrival_time))\n",
        "    else:\n",
        "        routine_queue_eeg.append((idx, arrival_time))\n",
        "\n",
        "    while True:\n",
        "        idle_stations = {doc: end for doc, end in eeg_test_end_times.items() if end <= arrival_time}\n",
        "        if not idle_stations or not (emergency_queue_eeg or routine_queue_eeg):\n",
        "            break\n",
        "\n",
        "        next_station = min(idle_stations, key=idle_stations.get)\n",
        "\n",
        "        patient_idx, patient_arrival, emergency_queue_eeg, routine_queue_eeg = pop_next_patient(emergency_queue_eeg, routine_queue_eeg, eeg_test_end_times, next_station)\n",
        "\n",
        "        eeg_test_end_times, test_in_times, test_out_times, test_durations, test_wait_times, test_station_assigned, test_result_days = process_test(patient_idx,patient_arrival,\n",
        "        next_station,eeg_test_end_times,eeg_tests,test_in_times,test_out_times,\n",
        "        test_durations,test_wait_times,test_station_assigned,test_result_days,\n",
        "        mean=52.5,std=3.75,min_duration=45,max_duration=60,min_days=7,max_days=14)\n",
        "\n",
        "while emergency_queue_eeg or routine_queue_eeg:\n",
        "    next_available_time = min(eeg_test_end_times.values())\n",
        "    idle_stations = {doc: end for doc, end in eeg_test_end_times.items() if end == next_available_time}\n",
        "    next_station = min(idle_stations, key=idle_stations.get)\n",
        "\n",
        "    patient_idx, patient_arrival, emergency_queue_eeg, routine_queue_eeg = pop_next_patient(emergency_queue_eeg, routine_queue_eeg, eeg_test_end_times, next_station)\n",
        "\n",
        "    eeg_test_end_times, test_in_times, test_out_times, test_durations, test_wait_times, test_station_assigned, test_result_days = process_test(patient_idx,patient_arrival,\n",
        "    next_station,eeg_test_end_times,eeg_tests,test_in_times,test_out_times,\n",
        "    test_durations,test_wait_times,test_station_assigned,test_result_days,\n",
        "    mean=52.5,std=3.75,min_duration=45,max_duration=60,min_days=7,max_days=14)\n"
      ]
    },
    {
      "cell_type": "markdown",
      "metadata": {
        "id": "LfsQju8OAWtR"
      },
      "source": [
        "## 💊 Pharmacy Flow Simulation\n",
        "\n",
        "This section simulates the **pharmacy stage** in a clinic where patients collect their medications after consultation and/or diagnostic tests.\n",
        "\n",
        "### 🔄 Overview of Process\n",
        "- Each patient’s **prescription drop-off time** is determined as the later of their consultation or test end times.\n",
        "- Patients are sorted by drop-off time, and ties are resolved by sorting on patient ID.\n",
        "- The simulation uses **three pharmacists**: `P1`, `P2`, and `P3`.\n",
        "\n",
        "### 👥 Pharmacist Assignment\n",
        "- If a pharmacist is idle at the patient’s arrival time, that pharmacist is assigned.\n",
        "- If all are busy, the patient waits for the next available pharmacist.\n",
        "- The **pharmacy queue** is updated to track patients waiting.\n",
        "- There is no emergency queue in the pharmacy.\n",
        "\n",
        "### ⏱️ Processing Steps per Patient\n",
        "- **Medication finding time** is sampled from a **normal distribution (mean = 6, SD = 0.5)** and clipped to **5–7 minutes**.\n",
        "- **Explanation time** (pharmacist explains medication to patient) is sampled from a **normal distribution (mean = 4, SD = 0.5)** and clipped to **3–5 minutes**.\n",
        "- Start and end times are tracked and stored for both steps.\n",
        "\n",
        "### 📊 Tracked Metrics per Patient\n",
        "\n",
        "For every patient visiting the pharmacy:\n",
        "\n",
        "- **Pharmacy Arrival Time** (`arrival_time`)  \n",
        "  - Computed as the **later** of consultation end or diagnostic test end time.\n",
        "- **Assigned Pharmacist** (`P1`, `P2`, or `P3`)  \n",
        "  - Based on availability at arrival; if all busy, the **next available pharmacist** is assigned.\n",
        "- **Medication Finding Time** (`prescription_find_times`)  \n",
        "  - Sampled from a **normal distribution** (mean = 6 min, SD = 0.5 min), clipped to **5–7 minutes**.\n",
        "- **Explanation Time** (`patient_explaining_times`)  \n",
        "  - Sampled from a **normal distribution** (mean = 4 min, SD = 0.5 min), clipped to **3–5 minutes**.\n",
        "- **Pharmacy In/Out Time** (`pharmacist_in_times`, `pharmacist_out_times`)  \n",
        "  - In-time is when the pharmacist starts processing\n",
        "  - Out-time is is when pharmacist returns to the counter with the medication to meet the patient\n",
        "- **Prescription Collection Time** (`prescription_collection_times`)\n",
        "  - When patient has heard the pharmacist's explanation and exits the pharmacy with the medication\n",
        "- **Pharmacy Wait Time** (`pharmacy_wait_times`)  \n",
        "  - Time patient spends waiting for a pharmacist to be free.\n",
        "- **Pharmacy Queue** (`pharmacy_waiting_list`)\n",
        "  - Number of patients waiting for pharmacy\n",
        "- **Medication Availability** (`medication_status`)  \n",
        "  - Assigned randomly:\n",
        "    - 90% → `'Available'`\n",
        "    - 10% → `'Unavailable'`\n",
        "\n",
        "\n",
        "\n"
      ]
    },
    {
      "cell_type": "code",
      "execution_count": 35,
      "metadata": {
        "id": "9EQMN1pt81AV"
      },
      "outputs": [],
      "source": [
        "# Pharmacy\n",
        "\n",
        "# Initialize pharmacy lists\n",
        "prescription_dropoff_times = [None] * n_patients\n",
        "pharmacist_in_times = [None] * n_patients\n",
        "pharmacist_out_times = [None] * n_patients\n",
        "pharmacist_assigned = [None] * n_patients\n",
        "prescription_collection_times = [None] * n_patients\n",
        "\n",
        "prescription_find_times = [None] * n_patients\n",
        "patient_explaining_times = [None] * n_patients\n",
        "pharmacy_wait_times = [None] * n_patients\n",
        "medication_availability = [None] * n_patients\n",
        "pharmacy_waiting_list = [None] * n_patients\n",
        "\n",
        "pharmacy_queue = []\n",
        "pharmacy_queue_starts = []\n",
        "\n",
        "pharmacist_end_times = {doc: 0 for doc in ['P1', 'P2', 'P3']}\n",
        "prescription_dropoff_times = [max(t, c) if t and c else t or c for t, c in zip(test_out_times, consultation_out_times)]\n",
        "\n",
        "pharm = pd.DataFrame({\n",
        "    'patient_id': patient_ids,\n",
        "    'prescription_dropoff_times': prescription_dropoff_times\n",
        "})\n",
        "\n",
        "pharm = pharm.sort_values(by=['prescription_dropoff_times', 'patient_id']).reset_index(drop=True)\n",
        "\n",
        "for idx, row in pharm.iterrows():\n",
        "\n",
        "    pid = row['patient_id']\n",
        "    arrival_time = row['prescription_dropoff_times']\n",
        "    arrival_minutes = arrival_time.hour * 60 + arrival_time.minute\n",
        "\n",
        "\n",
        "    # Count number of patients waiting (in queue) including the current one if no station is free\n",
        "    idle_stations = {doc: end for doc, end in pharmacist_end_times.items() if end <= arrival_minutes}\n",
        "\n",
        "    if idle_stations:\n",
        "      pharmacy_queue = []\n",
        "      pharmacy_queue_starts = []\n",
        "      next_station = min(idle_stations, key=idle_stations.get)\n",
        "      pharmacist_start_minutes = max(arrival_minutes, pharmacist_end_times[next_station] or 0)\n",
        "\n",
        "    else:\n",
        "      next_station = min(pharmacist_end_times, key=pharmacist_end_times.get)\n",
        "      pharmacist_start_minutes = max(arrival_minutes, pharmacist_end_times[next_station] or 0)\n",
        "\n",
        "      pharmacy_queue, pharmacy_queue_starts = update_queue(pharmacy_queue, pharmacy_queue_starts, arrival_minutes, pharmacist_start_minutes)\n",
        "\n",
        "    waiting_count = len(pharmacy_queue)\n",
        "    pharmacy_waiting_list[pid] = waiting_count\n",
        "\n",
        "    pharmacist_in_times[pid] = time(pharmacist_start_minutes // 60, pharmacist_start_minutes % 60)\n",
        "    pharmacist_assigned[pid] = next_station\n",
        "    find_times = int(round(np.clip(np.random.normal(loc=6, scale=0.5), 5, 7)))\n",
        "    find_end = pharmacist_start_minutes + find_times\n",
        "    prescription_find_times[pid] = find_times\n",
        "    pharmacist_out_times[pid] = time(min(23, find_end // 60), min(59, find_end % 60))\n",
        "\n",
        "    explain_times = int(round(np.clip(np.random.normal(loc=4, scale=0.5), 3, 5)))\n",
        "    explain_end = find_end + explain_times\n",
        "    patient_explaining_times[pid] = explain_times\n",
        "    prescription_collection_times[pid] = time(min(23, explain_end // 60), min(59, explain_end % 60))\n",
        "\n",
        "    pharmacist_end_times[next_station] = explain_end\n",
        "    pharmacy_wait_times[pid] = find_end - arrival_minutes\n",
        "    medication_availability[pid] = np.random.choice(['Available', 'Unavailable'], p=[0.9, 0.1])\n"
      ]
    },
    {
      "cell_type": "markdown",
      "metadata": {
        "id": "X8B_82PQXo45"
      },
      "source": [
        "## 🧾 Billing Flow Simulation\n",
        "\n",
        "This section simulates the **billing stage** in a clinic, where patients pay for services after collecting their medications.\n",
        "\n",
        "### 🔄 Overview of Process\n",
        "- There are **two billing stations**: `B1` and `B2`.\n",
        "- Patients proceed to billing **immediately after collecting their medications**.\n",
        "- If a billing station is free, the patient is processed right away.\n",
        "- If both stations are busy, the patient is added to a **billing queue** and **waits for the next available station**.\n",
        "- The system follows a **First-In, First-Out (FIFO)** queue, based on `prescription_collection_time`.\n",
        "- There is no emergency queue\n",
        "\n",
        "### ⏱️ Processing Steps per Patient\n",
        "- **Billing duration** is sampled from a **normal distribution** (mean = 5.5, SD = 0.5) and **clipped to 4–7 minutes**.\n",
        "\n",
        "\n",
        "### 📊 Tracked Metrics per Patient\n",
        "\n",
        "For every patient visiting the billing counter:\n",
        "\n",
        "- **Billing Arrival Time** (`prescription_collection_times`)  \n",
        "  - Time at which the patient arrives at billing, directly after pharmacy.\n",
        "\n",
        "- **Assigned Billing Station** (`B1` or `B2`)  \n",
        "  - Determined by station availability; assigned immediately if a station is free.\n",
        "\n",
        "- **Billing In Time** (`billing_in_times`)  \n",
        "  - Timestamp when the patient’s billing begins.\n",
        "\n",
        "- **Billing Out Time** (`billing_out_times`)  \n",
        "  - Timestamp when billing is completed.\n",
        "\n",
        "- **Billing Duration** (`billing_durations`)  \n",
        "  - Duration of the billing process, **sampled from a normal distribution**, clipped to **4–7 minutes**.\n",
        "\n",
        "- **Billing Wait Time** (`billing_wait_times`)  \n",
        "  - Time spent waiting before billing begins if no station is free.\n",
        "\n",
        "- **Billing Queue Size** (`billing_waiting_list`)  \n",
        "  - Number of patients already in queue when the current patient arrives."
      ]
    },
    {
      "cell_type": "code",
      "execution_count": 36,
      "metadata": {
        "id": "FdDauPwW9Ve4"
      },
      "outputs": [],
      "source": [
        "# Billing\n",
        "\n",
        "# Initialize billing lists\n",
        "billing_in_times = [None] * n_patients\n",
        "billing_out_times = [None] * n_patients\n",
        "billing_station_assigned = [None] * n_patients\n",
        "billing_durations = [None] * n_patients\n",
        "billing_wait_times = [None] * n_patients\n",
        "\n",
        "# Billing Queue\n",
        "billing_waiting_list = [None] * n_patients\n",
        "billing_queue = []\n",
        "billing_queue_starts = []\n",
        "\n",
        "billing_end_times = {doc: 0 for doc in ['B1', 'B2']}\n",
        "\n",
        "billing = pd.DataFrame({\n",
        "    'patient_id': patient_ids,\n",
        "    'prescription_collection_times': prescription_collection_times\n",
        "})\n",
        "\n",
        "billing = billing.sort_values(by=['prescription_collection_times', 'patient_id']).reset_index(drop=True)\n",
        "\n",
        "for idx, row in billing.iterrows():\n",
        "\n",
        "    pid = row['patient_id']\n",
        "    arrival_time = row['prescription_collection_times']\n",
        "    arrival_minutes = arrival_time.hour * 60 + arrival_time.minute\n",
        "\n",
        "\n",
        "    # Count number of patients waiting (in queue) including the current one if no station is free\n",
        "    idle_stations = {doc: end for doc, end in billing_end_times.items() if end <= arrival_minutes}\n",
        "\n",
        "    if idle_stations:\n",
        "      billing_queue = []\n",
        "      billing_queue_starts = []\n",
        "      next_station = min(idle_stations, key=idle_stations.get)\n",
        "      billing_start_minutes = max(arrival_minutes, billing_end_times[next_station] or 0)\n",
        "\n",
        "    else:\n",
        "      next_station = min(billing_end_times, key=billing_end_times.get)\n",
        "      billing_start_minutes = max(arrival_minutes, billing_end_times[next_station] or 0)\n",
        "\n",
        "      billing_queue, billing_queue_starts = update_queue(billing_queue, billing_queue_starts, arrival_minutes, billing_start_minutes)\n",
        "\n",
        "    # patients waiting\n",
        "    waiting_count = len(billing_queue)\n",
        "    billing_waiting_list[pid] = waiting_count\n",
        "\n",
        "    # billing times\n",
        "    billing_in_times[pid] = time(billing_start_minutes // 60, billing_start_minutes % 60)\n",
        "    billing_station_assigned[pid] = next_station\n",
        "\n",
        "    billing_time = int(round(np.clip(np.random.normal(loc=5.5, scale=0.5), 4, 7)))\n",
        "    billing_end = billing_start_minutes + billing_time\n",
        "\n",
        "    billing_durations[pid] = billing_time\n",
        "    billing_out_times[pid] = time(min(23, billing_end // 60), min(59, billing_end % 60))\n",
        "\n",
        "    billing_wait_times[pid] = billing_start_minutes - arrival_minutes\n",
        "    billing_end_times[next_station] = billing_end\n"
      ]
    },
    {
      "cell_type": "markdown",
      "metadata": {
        "id": "MzwhYyC3Y2j4"
      },
      "source": [
        "### 🧾 Patient Flow DataFrame Creation\n",
        "\n",
        "This cell constructs a comprehensive **DataFrame** that captures each patient's journey through the clinic—from arrival and check-in to triage, consultation, diagnostic tests, pharmacy, and billing. It combines all relevant timestamps, durations, queue sizes, and station assignments into a single table for easy analysis. The resulting data is exported as a CSV file and the first 20 rows are displayed.\n"
      ]
    },
    {
      "cell_type": "code",
      "execution_count": 37,
      "metadata": {
        "colab": {
          "base_uri": "https://localhost:8080/",
          "height": 882
        },
        "id": "gZDrQUhNyQXl",
        "outputId": "0866a2fc-7183-41ae-facb-c1237a408f4c"
      },
      "outputs": [
        {
          "data": {
            "text/html": [
              "<div>\n",
              "<style scoped>\n",
              "    .dataframe tbody tr th:only-of-type {\n",
              "        vertical-align: middle;\n",
              "    }\n",
              "\n",
              "    .dataframe tbody tr th {\n",
              "        vertical-align: top;\n",
              "    }\n",
              "\n",
              "    .dataframe thead th {\n",
              "        text-align: right;\n",
              "    }\n",
              "</style>\n",
              "<table border=\"1\" class=\"dataframe\">\n",
              "  <thead>\n",
              "    <tr style=\"text-align: right;\">\n",
              "      <th></th>\n",
              "      <th>PatientID</th>\n",
              "      <th>Age</th>\n",
              "      <th>Gender</th>\n",
              "      <th>HealthCondition</th>\n",
              "      <th>Insurance</th>\n",
              "      <th>ArrivalTime</th>\n",
              "      <th>CheckInStart</th>\n",
              "      <th>CheckInEnd</th>\n",
              "      <th>CheckInDurationMin</th>\n",
              "      <th>CheckInWaitMin</th>\n",
              "      <th>...</th>\n",
              "      <th>PharmacyWaitMin</th>\n",
              "      <th>PharmacistAssigned</th>\n",
              "      <th>MedicationAvailability</th>\n",
              "      <th>PharmacyQueueSize</th>\n",
              "      <th>BillingIn</th>\n",
              "      <th>BillingOut</th>\n",
              "      <th>BillingDurationMin</th>\n",
              "      <th>BillingWaitMin</th>\n",
              "      <th>BillingStation</th>\n",
              "      <th>BillingQueueSize</th>\n",
              "    </tr>\n",
              "  </thead>\n",
              "  <tbody>\n",
              "    <tr>\n",
              "      <th>0</th>\n",
              "      <td>0</td>\n",
              "      <td>63</td>\n",
              "      <td>Female</td>\n",
              "      <td>Bipolar Disorder</td>\n",
              "      <td>AIA</td>\n",
              "      <td>08:28:00</td>\n",
              "      <td>08:28:00</td>\n",
              "      <td>08:29:00</td>\n",
              "      <td>1</td>\n",
              "      <td>0</td>\n",
              "      <td>...</td>\n",
              "      <td>6</td>\n",
              "      <td>P3</td>\n",
              "      <td>Available</td>\n",
              "      <td>0</td>\n",
              "      <td>09:48:00</td>\n",
              "      <td>09:54:00</td>\n",
              "      <td>6</td>\n",
              "      <td>0</td>\n",
              "      <td>B1</td>\n",
              "      <td>0</td>\n",
              "    </tr>\n",
              "    <tr>\n",
              "      <th>1</th>\n",
              "      <td>1</td>\n",
              "      <td>26</td>\n",
              "      <td>Female</td>\n",
              "      <td>Anxiety Disorders</td>\n",
              "      <td>NTUC Income</td>\n",
              "      <td>08:40:00</td>\n",
              "      <td>08:40:00</td>\n",
              "      <td>08:41:00</td>\n",
              "      <td>1</td>\n",
              "      <td>0</td>\n",
              "      <td>...</td>\n",
              "      <td>6</td>\n",
              "      <td>P1</td>\n",
              "      <td>Available</td>\n",
              "      <td>0</td>\n",
              "      <td>09:13:00</td>\n",
              "      <td>09:19:00</td>\n",
              "      <td>6</td>\n",
              "      <td>0</td>\n",
              "      <td>B1</td>\n",
              "      <td>0</td>\n",
              "    </tr>\n",
              "    <tr>\n",
              "      <th>2</th>\n",
              "      <td>2</td>\n",
              "      <td>83</td>\n",
              "      <td>Male</td>\n",
              "      <td>Depression</td>\n",
              "      <td>AIA</td>\n",
              "      <td>09:06:00</td>\n",
              "      <td>09:06:00</td>\n",
              "      <td>09:07:00</td>\n",
              "      <td>1</td>\n",
              "      <td>0</td>\n",
              "      <td>...</td>\n",
              "      <td>6</td>\n",
              "      <td>P2</td>\n",
              "      <td>Available</td>\n",
              "      <td>0</td>\n",
              "      <td>09:36:00</td>\n",
              "      <td>09:41:00</td>\n",
              "      <td>5</td>\n",
              "      <td>0</td>\n",
              "      <td>B2</td>\n",
              "      <td>0</td>\n",
              "    </tr>\n",
              "    <tr>\n",
              "      <th>3</th>\n",
              "      <td>3</td>\n",
              "      <td>72</td>\n",
              "      <td>Female</td>\n",
              "      <td>Depression</td>\n",
              "      <td>HSBC</td>\n",
              "      <td>09:27:00</td>\n",
              "      <td>09:27:00</td>\n",
              "      <td>09:28:00</td>\n",
              "      <td>1</td>\n",
              "      <td>0</td>\n",
              "      <td>...</td>\n",
              "      <td>7</td>\n",
              "      <td>P1</td>\n",
              "      <td>Available</td>\n",
              "      <td>0</td>\n",
              "      <td>10:01:00</td>\n",
              "      <td>10:07:00</td>\n",
              "      <td>6</td>\n",
              "      <td>0</td>\n",
              "      <td>B2</td>\n",
              "      <td>0</td>\n",
              "    </tr>\n",
              "    <tr>\n",
              "      <th>4</th>\n",
              "      <td>4</td>\n",
              "      <td>32</td>\n",
              "      <td>Male</td>\n",
              "      <td>Depression</td>\n",
              "      <td>NTUC Income</td>\n",
              "      <td>09:34:00</td>\n",
              "      <td>09:34:00</td>\n",
              "      <td>09:35:00</td>\n",
              "      <td>1</td>\n",
              "      <td>0</td>\n",
              "      <td>...</td>\n",
              "      <td>6</td>\n",
              "      <td>P3</td>\n",
              "      <td>Available</td>\n",
              "      <td>0</td>\n",
              "      <td>10:19:00</td>\n",
              "      <td>10:25:00</td>\n",
              "      <td>6</td>\n",
              "      <td>0</td>\n",
              "      <td>B2</td>\n",
              "      <td>0</td>\n",
              "    </tr>\n",
              "    <tr>\n",
              "      <th>5</th>\n",
              "      <td>5</td>\n",
              "      <td>86</td>\n",
              "      <td>Male</td>\n",
              "      <td>OCD</td>\n",
              "      <td>HSBC</td>\n",
              "      <td>09:35:00</td>\n",
              "      <td>09:35:00</td>\n",
              "      <td>09:36:00</td>\n",
              "      <td>1</td>\n",
              "      <td>0</td>\n",
              "      <td>...</td>\n",
              "      <td>6</td>\n",
              "      <td>P2</td>\n",
              "      <td>Available</td>\n",
              "      <td>0</td>\n",
              "      <td>10:18:00</td>\n",
              "      <td>10:24:00</td>\n",
              "      <td>6</td>\n",
              "      <td>0</td>\n",
              "      <td>B1</td>\n",
              "      <td>0</td>\n",
              "    </tr>\n",
              "    <tr>\n",
              "      <th>6</th>\n",
              "      <td>6</td>\n",
              "      <td>86</td>\n",
              "      <td>Female</td>\n",
              "      <td>Anxiety Disorders</td>\n",
              "      <td>Great Eastern</td>\n",
              "      <td>09:43:00</td>\n",
              "      <td>09:43:00</td>\n",
              "      <td>09:46:00</td>\n",
              "      <td>3</td>\n",
              "      <td>0</td>\n",
              "      <td>...</td>\n",
              "      <td>6</td>\n",
              "      <td>P1</td>\n",
              "      <td>Available</td>\n",
              "      <td>0</td>\n",
              "      <td>10:31:00</td>\n",
              "      <td>10:38:00</td>\n",
              "      <td>7</td>\n",
              "      <td>0</td>\n",
              "      <td>B1</td>\n",
              "      <td>0</td>\n",
              "    </tr>\n",
              "    <tr>\n",
              "      <th>7</th>\n",
              "      <td>7</td>\n",
              "      <td>35</td>\n",
              "      <td>Female</td>\n",
              "      <td>Depression</td>\n",
              "      <td>NTUC Income</td>\n",
              "      <td>10:13:00</td>\n",
              "      <td>10:13:00</td>\n",
              "      <td>10:14:00</td>\n",
              "      <td>1</td>\n",
              "      <td>0</td>\n",
              "      <td>...</td>\n",
              "      <td>6</td>\n",
              "      <td>P2</td>\n",
              "      <td>Available</td>\n",
              "      <td>0</td>\n",
              "      <td>10:45:00</td>\n",
              "      <td>10:51:00</td>\n",
              "      <td>6</td>\n",
              "      <td>0</td>\n",
              "      <td>B2</td>\n",
              "      <td>0</td>\n",
              "    </tr>\n",
              "    <tr>\n",
              "      <th>8</th>\n",
              "      <td>8</td>\n",
              "      <td>14</td>\n",
              "      <td>Male</td>\n",
              "      <td>Anxiety Disorders</td>\n",
              "      <td>Great Eastern</td>\n",
              "      <td>10:16:00</td>\n",
              "      <td>10:16:00</td>\n",
              "      <td>10:17:00</td>\n",
              "      <td>1</td>\n",
              "      <td>0</td>\n",
              "      <td>...</td>\n",
              "      <td>5</td>\n",
              "      <td>P3</td>\n",
              "      <td>Available</td>\n",
              "      <td>0</td>\n",
              "      <td>10:45:00</td>\n",
              "      <td>10:50:00</td>\n",
              "      <td>5</td>\n",
              "      <td>0</td>\n",
              "      <td>B1</td>\n",
              "      <td>0</td>\n",
              "    </tr>\n",
              "    <tr>\n",
              "      <th>9</th>\n",
              "      <td>9</td>\n",
              "      <td>33</td>\n",
              "      <td>Male</td>\n",
              "      <td>Depression</td>\n",
              "      <td>AIA</td>\n",
              "      <td>10:35:00</td>\n",
              "      <td>10:35:00</td>\n",
              "      <td>10:37:00</td>\n",
              "      <td>2</td>\n",
              "      <td>0</td>\n",
              "      <td>...</td>\n",
              "      <td>6</td>\n",
              "      <td>P1</td>\n",
              "      <td>Available</td>\n",
              "      <td>0</td>\n",
              "      <td>11:07:00</td>\n",
              "      <td>11:13:00</td>\n",
              "      <td>6</td>\n",
              "      <td>0</td>\n",
              "      <td>B1</td>\n",
              "      <td>0</td>\n",
              "    </tr>\n",
              "    <tr>\n",
              "      <th>10</th>\n",
              "      <td>10</td>\n",
              "      <td>64</td>\n",
              "      <td>Female</td>\n",
              "      <td>Bipolar Disorder</td>\n",
              "      <td>AIA</td>\n",
              "      <td>10:37:00</td>\n",
              "      <td>10:37:00</td>\n",
              "      <td>10:39:00</td>\n",
              "      <td>2</td>\n",
              "      <td>0</td>\n",
              "      <td>...</td>\n",
              "      <td>6</td>\n",
              "      <td>P1</td>\n",
              "      <td>Unavailable</td>\n",
              "      <td>0</td>\n",
              "      <td>11:21:00</td>\n",
              "      <td>11:26:00</td>\n",
              "      <td>5</td>\n",
              "      <td>1</td>\n",
              "      <td>B2</td>\n",
              "      <td>1</td>\n",
              "    </tr>\n",
              "    <tr>\n",
              "      <th>11</th>\n",
              "      <td>11</td>\n",
              "      <td>13</td>\n",
              "      <td>Female</td>\n",
              "      <td>Bipolar Disorder</td>\n",
              "      <td>NTUC Income</td>\n",
              "      <td>10:42:00</td>\n",
              "      <td>10:42:00</td>\n",
              "      <td>10:43:00</td>\n",
              "      <td>1</td>\n",
              "      <td>0</td>\n",
              "      <td>...</td>\n",
              "      <td>6</td>\n",
              "      <td>P3</td>\n",
              "      <td>Available</td>\n",
              "      <td>0</td>\n",
              "      <td>11:16:00</td>\n",
              "      <td>11:22:00</td>\n",
              "      <td>6</td>\n",
              "      <td>0</td>\n",
              "      <td>B1</td>\n",
              "      <td>0</td>\n",
              "    </tr>\n",
              "    <tr>\n",
              "      <th>12</th>\n",
              "      <td>12</td>\n",
              "      <td>41</td>\n",
              "      <td>Female</td>\n",
              "      <td>Depression</td>\n",
              "      <td>NTUC Income</td>\n",
              "      <td>10:43:00</td>\n",
              "      <td>10:43:00</td>\n",
              "      <td>10:44:00</td>\n",
              "      <td>1</td>\n",
              "      <td>0</td>\n",
              "      <td>...</td>\n",
              "      <td>6</td>\n",
              "      <td>P2</td>\n",
              "      <td>Available</td>\n",
              "      <td>0</td>\n",
              "      <td>11:15:00</td>\n",
              "      <td>11:21:00</td>\n",
              "      <td>6</td>\n",
              "      <td>0</td>\n",
              "      <td>B2</td>\n",
              "      <td>0</td>\n",
              "    </tr>\n",
              "    <tr>\n",
              "      <th>13</th>\n",
              "      <td>13</td>\n",
              "      <td>49</td>\n",
              "      <td>Male</td>\n",
              "      <td>ADHD</td>\n",
              "      <td>HSBC</td>\n",
              "      <td>10:44:00</td>\n",
              "      <td>10:44:00</td>\n",
              "      <td>10:45:00</td>\n",
              "      <td>1</td>\n",
              "      <td>0</td>\n",
              "      <td>...</td>\n",
              "      <td>9</td>\n",
              "      <td>P3</td>\n",
              "      <td>Unavailable</td>\n",
              "      <td>1</td>\n",
              "      <td>12:11:00</td>\n",
              "      <td>12:17:00</td>\n",
              "      <td>6</td>\n",
              "      <td>0</td>\n",
              "      <td>B1</td>\n",
              "      <td>0</td>\n",
              "    </tr>\n",
              "    <tr>\n",
              "      <th>14</th>\n",
              "      <td>14</td>\n",
              "      <td>13</td>\n",
              "      <td>Male</td>\n",
              "      <td>Anxiety Disorders</td>\n",
              "      <td>HSBC</td>\n",
              "      <td>10:52:00</td>\n",
              "      <td>10:52:00</td>\n",
              "      <td>10:55:00</td>\n",
              "      <td>3</td>\n",
              "      <td>0</td>\n",
              "      <td>...</td>\n",
              "      <td>13</td>\n",
              "      <td>P1</td>\n",
              "      <td>Unavailable</td>\n",
              "      <td>1</td>\n",
              "      <td>11:48:00</td>\n",
              "      <td>11:53:00</td>\n",
              "      <td>5</td>\n",
              "      <td>0</td>\n",
              "      <td>B2</td>\n",
              "      <td>0</td>\n",
              "    </tr>\n",
              "    <tr>\n",
              "      <th>15</th>\n",
              "      <td>15</td>\n",
              "      <td>75</td>\n",
              "      <td>Male</td>\n",
              "      <td>ADHD</td>\n",
              "      <td>Great Eastern</td>\n",
              "      <td>10:55:00</td>\n",
              "      <td>10:55:00</td>\n",
              "      <td>10:57:00</td>\n",
              "      <td>2</td>\n",
              "      <td>0</td>\n",
              "      <td>...</td>\n",
              "      <td>6</td>\n",
              "      <td>P3</td>\n",
              "      <td>Available</td>\n",
              "      <td>0</td>\n",
              "      <td>11:45:00</td>\n",
              "      <td>11:50:00</td>\n",
              "      <td>5</td>\n",
              "      <td>4</td>\n",
              "      <td>B1</td>\n",
              "      <td>1</td>\n",
              "    </tr>\n",
              "    <tr>\n",
              "      <th>16</th>\n",
              "      <td>16</td>\n",
              "      <td>71</td>\n",
              "      <td>Male</td>\n",
              "      <td>Anxiety Disorders</td>\n",
              "      <td>NTUC Income</td>\n",
              "      <td>11:01:00</td>\n",
              "      <td>11:01:00</td>\n",
              "      <td>11:02:00</td>\n",
              "      <td>1</td>\n",
              "      <td>0</td>\n",
              "      <td>...</td>\n",
              "      <td>15</td>\n",
              "      <td>P3</td>\n",
              "      <td>Available</td>\n",
              "      <td>2</td>\n",
              "      <td>12:31:00</td>\n",
              "      <td>12:36:00</td>\n",
              "      <td>5</td>\n",
              "      <td>0</td>\n",
              "      <td>B1</td>\n",
              "      <td>0</td>\n",
              "    </tr>\n",
              "    <tr>\n",
              "      <th>17</th>\n",
              "      <td>17</td>\n",
              "      <td>32</td>\n",
              "      <td>Male</td>\n",
              "      <td>Depression</td>\n",
              "      <td>AIA</td>\n",
              "      <td>11:04:00</td>\n",
              "      <td>11:04:00</td>\n",
              "      <td>11:07:00</td>\n",
              "      <td>3</td>\n",
              "      <td>0</td>\n",
              "      <td>...</td>\n",
              "      <td>6</td>\n",
              "      <td>P2</td>\n",
              "      <td>Available</td>\n",
              "      <td>0</td>\n",
              "      <td>11:39:00</td>\n",
              "      <td>11:45:00</td>\n",
              "      <td>6</td>\n",
              "      <td>0</td>\n",
              "      <td>B1</td>\n",
              "      <td>0</td>\n",
              "    </tr>\n",
              "    <tr>\n",
              "      <th>18</th>\n",
              "      <td>18</td>\n",
              "      <td>44</td>\n",
              "      <td>Male</td>\n",
              "      <td>Anxiety Disorders</td>\n",
              "      <td>HSBC</td>\n",
              "      <td>11:06:00</td>\n",
              "      <td>11:07:00</td>\n",
              "      <td>11:10:00</td>\n",
              "      <td>3</td>\n",
              "      <td>1</td>\n",
              "      <td>...</td>\n",
              "      <td>5</td>\n",
              "      <td>P1</td>\n",
              "      <td>Available</td>\n",
              "      <td>0</td>\n",
              "      <td>11:39:00</td>\n",
              "      <td>11:45:00</td>\n",
              "      <td>6</td>\n",
              "      <td>0</td>\n",
              "      <td>B2</td>\n",
              "      <td>0</td>\n",
              "    </tr>\n",
              "    <tr>\n",
              "      <th>19</th>\n",
              "      <td>19</td>\n",
              "      <td>87</td>\n",
              "      <td>Female</td>\n",
              "      <td>Schizophrenia</td>\n",
              "      <td>HSBC</td>\n",
              "      <td>11:07:00</td>\n",
              "      <td>11:10:00</td>\n",
              "      <td>11:12:00</td>\n",
              "      <td>2</td>\n",
              "      <td>3</td>\n",
              "      <td>...</td>\n",
              "      <td>8</td>\n",
              "      <td>P1</td>\n",
              "      <td>Unavailable</td>\n",
              "      <td>2</td>\n",
              "      <td>12:23:00</td>\n",
              "      <td>12:28:00</td>\n",
              "      <td>5</td>\n",
              "      <td>1</td>\n",
              "      <td>B1</td>\n",
              "      <td>1</td>\n",
              "    </tr>\n",
              "  </tbody>\n",
              "</table>\n",
              "<p>20 rows × 49 columns</p>\n",
              "</div>"
            ],
            "text/plain": [
              "    PatientID  Age  Gender    HealthCondition      Insurance ArrivalTime  \\\n",
              "0           0   63  Female   Bipolar Disorder            AIA    08:28:00   \n",
              "1           1   26  Female  Anxiety Disorders    NTUC Income    08:40:00   \n",
              "2           2   83    Male         Depression            AIA    09:06:00   \n",
              "3           3   72  Female         Depression           HSBC    09:27:00   \n",
              "4           4   32    Male         Depression    NTUC Income    09:34:00   \n",
              "5           5   86    Male                OCD           HSBC    09:35:00   \n",
              "6           6   86  Female  Anxiety Disorders  Great Eastern    09:43:00   \n",
              "7           7   35  Female         Depression    NTUC Income    10:13:00   \n",
              "8           8   14    Male  Anxiety Disorders  Great Eastern    10:16:00   \n",
              "9           9   33    Male         Depression            AIA    10:35:00   \n",
              "10         10   64  Female   Bipolar Disorder            AIA    10:37:00   \n",
              "11         11   13  Female   Bipolar Disorder    NTUC Income    10:42:00   \n",
              "12         12   41  Female         Depression    NTUC Income    10:43:00   \n",
              "13         13   49    Male               ADHD           HSBC    10:44:00   \n",
              "14         14   13    Male  Anxiety Disorders           HSBC    10:52:00   \n",
              "15         15   75    Male               ADHD  Great Eastern    10:55:00   \n",
              "16         16   71    Male  Anxiety Disorders    NTUC Income    11:01:00   \n",
              "17         17   32    Male         Depression            AIA    11:04:00   \n",
              "18         18   44    Male  Anxiety Disorders           HSBC    11:06:00   \n",
              "19         19   87  Female      Schizophrenia           HSBC    11:07:00   \n",
              "\n",
              "   CheckInStart CheckInEnd  CheckInDurationMin  CheckInWaitMin  ...  \\\n",
              "0      08:28:00   08:29:00                   1               0  ...   \n",
              "1      08:40:00   08:41:00                   1               0  ...   \n",
              "2      09:06:00   09:07:00                   1               0  ...   \n",
              "3      09:27:00   09:28:00                   1               0  ...   \n",
              "4      09:34:00   09:35:00                   1               0  ...   \n",
              "5      09:35:00   09:36:00                   1               0  ...   \n",
              "6      09:43:00   09:46:00                   3               0  ...   \n",
              "7      10:13:00   10:14:00                   1               0  ...   \n",
              "8      10:16:00   10:17:00                   1               0  ...   \n",
              "9      10:35:00   10:37:00                   2               0  ...   \n",
              "10     10:37:00   10:39:00                   2               0  ...   \n",
              "11     10:42:00   10:43:00                   1               0  ...   \n",
              "12     10:43:00   10:44:00                   1               0  ...   \n",
              "13     10:44:00   10:45:00                   1               0  ...   \n",
              "14     10:52:00   10:55:00                   3               0  ...   \n",
              "15     10:55:00   10:57:00                   2               0  ...   \n",
              "16     11:01:00   11:02:00                   1               0  ...   \n",
              "17     11:04:00   11:07:00                   3               0  ...   \n",
              "18     11:07:00   11:10:00                   3               1  ...   \n",
              "19     11:10:00   11:12:00                   2               3  ...   \n",
              "\n",
              "    PharmacyWaitMin PharmacistAssigned MedicationAvailability  \\\n",
              "0                 6                 P3              Available   \n",
              "1                 6                 P1              Available   \n",
              "2                 6                 P2              Available   \n",
              "3                 7                 P1              Available   \n",
              "4                 6                 P3              Available   \n",
              "5                 6                 P2              Available   \n",
              "6                 6                 P1              Available   \n",
              "7                 6                 P2              Available   \n",
              "8                 5                 P3              Available   \n",
              "9                 6                 P1              Available   \n",
              "10                6                 P1            Unavailable   \n",
              "11                6                 P3              Available   \n",
              "12                6                 P2              Available   \n",
              "13                9                 P3            Unavailable   \n",
              "14               13                 P1            Unavailable   \n",
              "15                6                 P3              Available   \n",
              "16               15                 P3              Available   \n",
              "17                6                 P2              Available   \n",
              "18                5                 P1              Available   \n",
              "19                8                 P1            Unavailable   \n",
              "\n",
              "    PharmacyQueueSize  BillingIn BillingOut BillingDurationMin  \\\n",
              "0                   0   09:48:00   09:54:00                  6   \n",
              "1                   0   09:13:00   09:19:00                  6   \n",
              "2                   0   09:36:00   09:41:00                  5   \n",
              "3                   0   10:01:00   10:07:00                  6   \n",
              "4                   0   10:19:00   10:25:00                  6   \n",
              "5                   0   10:18:00   10:24:00                  6   \n",
              "6                   0   10:31:00   10:38:00                  7   \n",
              "7                   0   10:45:00   10:51:00                  6   \n",
              "8                   0   10:45:00   10:50:00                  5   \n",
              "9                   0   11:07:00   11:13:00                  6   \n",
              "10                  0   11:21:00   11:26:00                  5   \n",
              "11                  0   11:16:00   11:22:00                  6   \n",
              "12                  0   11:15:00   11:21:00                  6   \n",
              "13                  1   12:11:00   12:17:00                  6   \n",
              "14                  1   11:48:00   11:53:00                  5   \n",
              "15                  0   11:45:00   11:50:00                  5   \n",
              "16                  2   12:31:00   12:36:00                  5   \n",
              "17                  0   11:39:00   11:45:00                  6   \n",
              "18                  0   11:39:00   11:45:00                  6   \n",
              "19                  2   12:23:00   12:28:00                  5   \n",
              "\n",
              "    BillingWaitMin BillingStation BillingQueueSize  \n",
              "0                0             B1                0  \n",
              "1                0             B1                0  \n",
              "2                0             B2                0  \n",
              "3                0             B2                0  \n",
              "4                0             B2                0  \n",
              "5                0             B1                0  \n",
              "6                0             B1                0  \n",
              "7                0             B2                0  \n",
              "8                0             B1                0  \n",
              "9                0             B1                0  \n",
              "10               1             B2                1  \n",
              "11               0             B1                0  \n",
              "12               0             B2                0  \n",
              "13               0             B1                0  \n",
              "14               0             B2                0  \n",
              "15               4             B1                1  \n",
              "16               0             B1                0  \n",
              "17               0             B1                0  \n",
              "18               0             B2                0  \n",
              "19               1             B1                1  \n",
              "\n",
              "[20 rows x 49 columns]"
            ]
          },
          "execution_count": 37,
          "metadata": {},
          "output_type": "execute_result"
        }
      ],
      "source": [
        "# Build DataFrame\n",
        "patients_df = pd.DataFrame({\n",
        "    'PatientID': patient_ids,\n",
        "    'Age': ages,\n",
        "    'Gender': genders,\n",
        "    'HealthCondition': health_conditions,\n",
        "    'Insurance': insurances,\n",
        "    'ArrivalTime': arrival_times,\n",
        "    'CheckInStart': checkin_start_times,\n",
        "    'CheckInEnd': checkin_end_times,\n",
        "    'CheckInDurationMin': checkin_durations,\n",
        "    'CheckInWaitMin': checkin_wait_times,\n",
        "    'PatientsWaitingCheckIn': patients_waiting_list,\n",
        "    'TriageIn': triage_in_times,\n",
        "    'TriageOut': triage_out_times,\n",
        "    'TriageDurationMin': triage_durations,\n",
        "    'TriageWaitMin': triage_wait_times,\n",
        "    'TriageCategory': triage_classification,\n",
        "    'TriageStation': triage_station_assignment,\n",
        "    'PatientsWaitingTriage': triage_waiting_list,\n",
        "    'ConsultationIn': consultation_in_times,\n",
        "    'ConsultationOut': consultation_out_times,\n",
        "    'TotalConsultationTimeMin': consultation_durations,\n",
        "    'ConsultationWaitMin': consultation_wait_times,\n",
        "    'Doctor': consultation_doctor,\n",
        "    'Specialty': consultation_specialty,\n",
        "    'RoutineQueueSize': routine_waiting_list,\n",
        "    'EmergencyQueueSize': emergency_waiting_list,\n",
        "    'DiagnosticTests': test_assignments,\n",
        "    'TestIn': test_in_times,\n",
        "    'TestOut': test_out_times,\n",
        "    'TestDurationMin': test_durations,\n",
        "    'TestWaitMin': test_wait_times,\n",
        "    'TestStation': test_station_assigned,\n",
        "    'TestResultDays': test_result_days,\n",
        "    'PrescriptionDropoff': prescription_dropoff_times,\n",
        "    'PharmacistIn': pharmacist_in_times,\n",
        "    'PharmacistOut' : pharmacist_out_times,\n",
        "    'PrescriptionFindTime' : prescription_find_times,\n",
        "    'PrescriptionCollectionTime' : prescription_collection_times,\n",
        "    'ExplanationTimeMin' : patient_explaining_times,\n",
        "    'PharmacyWaitMin' : pharmacy_wait_times,\n",
        "    'PharmacistAssigned' : pharmacist_assigned,\n",
        "    'MedicationAvailability' : medication_availability,\n",
        "    'PharmacyQueueSize' : pharmacy_waiting_list,\n",
        "    'BillingIn' : billing_in_times,\n",
        "    'BillingOut' : billing_out_times,\n",
        "    'BillingDurationMin' : billing_durations,\n",
        "    'BillingWaitMin' : billing_wait_times,\n",
        "    'BillingStation' : billing_station_assigned,\n",
        "    'BillingQueueSize' : billing_waiting_list\n",
        "\n",
        "})\n",
        "\n",
        "patients_df.to_csv('patient_flow_data.csv')\n",
        "patients_df.iloc[0:20]"
      ]
    },
    {
      "cell_type": "markdown",
      "metadata": {
        "id": "6u-yjdJVnWI2"
      },
      "source": [
        "### Patient Demographics Plots\n",
        "\n",
        "This visualization summarizes key demographic characteristics of the patients in the dataset using a set of six interactive Plotly subplots:\n",
        "\n",
        "- **Bar Plot**: Number of patients per disorder, based on the `HealthCondition` column.\n",
        "- **Pie Chart**: Distribution of insurance types (`Insurance`).\n",
        "- **Pie Chart**: Gender breakdown (`Gender`).\n",
        "- **Histogram**: Age distribution of patients in 10-year bins (`Age`).\n",
        "- **Pie Chart**: Percentage of Emergency vs Routine patients (`TriageCategory`).\n",
        "- **Pie Chart**: Medication availability across patients (`MedicationAvailability`)."
      ]
    },
    {
      "cell_type": "code",
      "execution_count": 38,
      "metadata": {
        "colab": {
          "base_uri": "https://localhost:8080/",
          "height": 917
        },
        "id": "r74Tes8wvBVd",
        "outputId": "d1a27c64-53ea-4304-fc24-e6d5d0c812cc"
      },
      "outputs": [
        {
          "data": {
            "application/vnd.plotly.v1+json": {
              "config": {
                "plotlyServerURL": "https://plot.ly"
              },
              "data": [
                {
                  "marker": {
                    "color": "indianred"
                  },
                  "name": "Disorder Count",
                  "type": "bar",
                  "x": [
                    "Anxiety Disorders",
                    "Depression",
                    "OCD",
                    "Bipolar Disorder",
                    "ADHD",
                    "Schizophrenia",
                    "Alcohol Use Disorders",
                    "Dementia",
                    "Personality Disorders",
                    "PTSD"
                  ],
                  "xaxis": "x",
                  "y": {
                    "bdata": "GBMODAgGBQUEAw==",
                    "dtype": "i1"
                  },
                  "yaxis": "y"
                },
                {
                  "domain": {
                    "x": [
                      0.55,
                      1
                    ],
                    "y": [
                      0.7777777777777778,
                      1
                    ]
                  },
                  "hoverinfo": "label+percent",
                  "labels": [
                    "NTUC Income",
                    "Prudential",
                    "HSBC",
                    "AIA",
                    "Great Eastern"
                  ],
                  "marker": {
                    "colors": [
                      "royalblue",
                      "lightblue",
                      "mediumpurple"
                    ]
                  },
                  "name": "Insurance",
                  "textinfo": "percent+label",
                  "textposition": "inside",
                  "type": "pie",
                  "values": {
                    "bdata": "FxcUEw8=",
                    "dtype": "i1"
                  }
                },
                {
                  "domain": {
                    "x": [
                      0,
                      0.45
                    ],
                    "y": [
                      0.3888888888888889,
                      0.6111111111111112
                    ]
                  },
                  "hoverinfo": "label+percent",
                  "labels": [
                    "Male",
                    "Female"
                  ],
                  "marker": {
                    "colors": [
                      "lightpink",
                      "lightgreen"
                    ]
                  },
                  "name": "Gender",
                  "textinfo": "percent+label",
                  "textposition": "inside",
                  "type": "pie",
                  "values": {
                    "bdata": "OSs=",
                    "dtype": "i1"
                  }
                },
                {
                  "marker": {
                    "color": "steelblue"
                  },
                  "name": "Age",
                  "type": "histogram",
                  "x": {
                    "bdata": "PxpTSCBWViMOIUANKTENS0cgLFdFITxGNUcaSUk6ST5CSw4+EiBUMh0PRxkUQA1HUjcTOi5ZLz0PDRFBD0FKHTctVUkZOxpTWUkzQCMlRzQoGjhMUhQME0oWEy4uLBA0JxJUUw==",
                    "dtype": "i1"
                  },
                  "xaxis": "x2",
                  "xbins": {
                    "end": 100,
                    "size": 10,
                    "start": 0
                  },
                  "yaxis": "y2"
                },
                {
                  "domain": {
                    "x": [
                      0,
                      0.45
                    ],
                    "y": [
                      0,
                      0.22222222222222224
                    ]
                  },
                  "hoverinfo": "label+percent",
                  "labels": [
                    "Routine",
                    "Emergency"
                  ],
                  "marker": {
                    "colors": [
                      "tomato",
                      "gold"
                    ]
                  },
                  "name": "Triage Category",
                  "textinfo": "percent+label",
                  "textposition": "inside",
                  "type": "pie",
                  "values": {
                    "bdata": "Vg4=",
                    "dtype": "i1"
                  }
                },
                {
                  "domain": {
                    "x": [
                      0.55,
                      1
                    ],
                    "y": [
                      0,
                      0.22222222222222224
                    ]
                  },
                  "hoverinfo": "label+percent",
                  "labels": [
                    "Available",
                    "Unavailable"
                  ],
                  "marker": {
                    "colors": [
                      "mediumseagreen",
                      "salmon"
                    ]
                  },
                  "name": "Medication Availability",
                  "textinfo": "percent+label",
                  "textposition": "inside",
                  "type": "pie",
                  "values": {
                    "bdata": "Vg4=",
                    "dtype": "i1"
                  }
                }
              ],
              "layout": {
                "annotations": [
                  {
                    "font": {
                      "size": 16
                    },
                    "showarrow": false,
                    "text": "Number of Patients per Disorder",
                    "x": 0.225,
                    "xanchor": "center",
                    "xref": "paper",
                    "y": 1,
                    "yanchor": "bottom",
                    "yref": "paper"
                  },
                  {
                    "font": {
                      "size": 16
                    },
                    "showarrow": false,
                    "text": "Insurance Distribution",
                    "x": 0.775,
                    "xanchor": "center",
                    "xref": "paper",
                    "y": 1,
                    "yanchor": "bottom",
                    "yref": "paper"
                  },
                  {
                    "font": {
                      "size": 16
                    },
                    "showarrow": false,
                    "text": "Gender Distribution",
                    "x": 0.225,
                    "xanchor": "center",
                    "xref": "paper",
                    "y": 0.6111111111111112,
                    "yanchor": "bottom",
                    "yref": "paper"
                  },
                  {
                    "font": {
                      "size": 16
                    },
                    "showarrow": false,
                    "text": "Age Distribution (10-Year Bins)",
                    "x": 0.775,
                    "xanchor": "center",
                    "xref": "paper",
                    "y": 0.6111111111111112,
                    "yanchor": "bottom",
                    "yref": "paper"
                  },
                  {
                    "font": {
                      "size": 16
                    },
                    "showarrow": false,
                    "text": "Triage Category",
                    "x": 0.225,
                    "xanchor": "center",
                    "xref": "paper",
                    "y": 0.22222222222222224,
                    "yanchor": "bottom",
                    "yref": "paper"
                  },
                  {
                    "font": {
                      "size": 16
                    },
                    "showarrow": false,
                    "text": "Medication Availability",
                    "x": 0.775,
                    "xanchor": "center",
                    "xref": "paper",
                    "y": 0.22222222222222224,
                    "yanchor": "bottom",
                    "yref": "paper"
                  }
                ],
                "height": 900,
                "showlegend": false,
                "template": {
                  "data": {
                    "bar": [
                      {
                        "error_x": {
                          "color": "#2a3f5f"
                        },
                        "error_y": {
                          "color": "#2a3f5f"
                        },
                        "marker": {
                          "line": {
                            "color": "white",
                            "width": 0.5
                          },
                          "pattern": {
                            "fillmode": "overlay",
                            "size": 10,
                            "solidity": 0.2
                          }
                        },
                        "type": "bar"
                      }
                    ],
                    "barpolar": [
                      {
                        "marker": {
                          "line": {
                            "color": "white",
                            "width": 0.5
                          },
                          "pattern": {
                            "fillmode": "overlay",
                            "size": 10,
                            "solidity": 0.2
                          }
                        },
                        "type": "barpolar"
                      }
                    ],
                    "carpet": [
                      {
                        "aaxis": {
                          "endlinecolor": "#2a3f5f",
                          "gridcolor": "#C8D4E3",
                          "linecolor": "#C8D4E3",
                          "minorgridcolor": "#C8D4E3",
                          "startlinecolor": "#2a3f5f"
                        },
                        "baxis": {
                          "endlinecolor": "#2a3f5f",
                          "gridcolor": "#C8D4E3",
                          "linecolor": "#C8D4E3",
                          "minorgridcolor": "#C8D4E3",
                          "startlinecolor": "#2a3f5f"
                        },
                        "type": "carpet"
                      }
                    ],
                    "choropleth": [
                      {
                        "colorbar": {
                          "outlinewidth": 0,
                          "ticks": ""
                        },
                        "type": "choropleth"
                      }
                    ],
                    "contour": [
                      {
                        "colorbar": {
                          "outlinewidth": 0,
                          "ticks": ""
                        },
                        "colorscale": [
                          [
                            0,
                            "#0d0887"
                          ],
                          [
                            0.1111111111111111,
                            "#46039f"
                          ],
                          [
                            0.2222222222222222,
                            "#7201a8"
                          ],
                          [
                            0.3333333333333333,
                            "#9c179e"
                          ],
                          [
                            0.4444444444444444,
                            "#bd3786"
                          ],
                          [
                            0.5555555555555556,
                            "#d8576b"
                          ],
                          [
                            0.6666666666666666,
                            "#ed7953"
                          ],
                          [
                            0.7777777777777778,
                            "#fb9f3a"
                          ],
                          [
                            0.8888888888888888,
                            "#fdca26"
                          ],
                          [
                            1,
                            "#f0f921"
                          ]
                        ],
                        "type": "contour"
                      }
                    ],
                    "contourcarpet": [
                      {
                        "colorbar": {
                          "outlinewidth": 0,
                          "ticks": ""
                        },
                        "type": "contourcarpet"
                      }
                    ],
                    "heatmap": [
                      {
                        "colorbar": {
                          "outlinewidth": 0,
                          "ticks": ""
                        },
                        "colorscale": [
                          [
                            0,
                            "#0d0887"
                          ],
                          [
                            0.1111111111111111,
                            "#46039f"
                          ],
                          [
                            0.2222222222222222,
                            "#7201a8"
                          ],
                          [
                            0.3333333333333333,
                            "#9c179e"
                          ],
                          [
                            0.4444444444444444,
                            "#bd3786"
                          ],
                          [
                            0.5555555555555556,
                            "#d8576b"
                          ],
                          [
                            0.6666666666666666,
                            "#ed7953"
                          ],
                          [
                            0.7777777777777778,
                            "#fb9f3a"
                          ],
                          [
                            0.8888888888888888,
                            "#fdca26"
                          ],
                          [
                            1,
                            "#f0f921"
                          ]
                        ],
                        "type": "heatmap"
                      }
                    ],
                    "histogram": [
                      {
                        "marker": {
                          "pattern": {
                            "fillmode": "overlay",
                            "size": 10,
                            "solidity": 0.2
                          }
                        },
                        "type": "histogram"
                      }
                    ],
                    "histogram2d": [
                      {
                        "colorbar": {
                          "outlinewidth": 0,
                          "ticks": ""
                        },
                        "colorscale": [
                          [
                            0,
                            "#0d0887"
                          ],
                          [
                            0.1111111111111111,
                            "#46039f"
                          ],
                          [
                            0.2222222222222222,
                            "#7201a8"
                          ],
                          [
                            0.3333333333333333,
                            "#9c179e"
                          ],
                          [
                            0.4444444444444444,
                            "#bd3786"
                          ],
                          [
                            0.5555555555555556,
                            "#d8576b"
                          ],
                          [
                            0.6666666666666666,
                            "#ed7953"
                          ],
                          [
                            0.7777777777777778,
                            "#fb9f3a"
                          ],
                          [
                            0.8888888888888888,
                            "#fdca26"
                          ],
                          [
                            1,
                            "#f0f921"
                          ]
                        ],
                        "type": "histogram2d"
                      }
                    ],
                    "histogram2dcontour": [
                      {
                        "colorbar": {
                          "outlinewidth": 0,
                          "ticks": ""
                        },
                        "colorscale": [
                          [
                            0,
                            "#0d0887"
                          ],
                          [
                            0.1111111111111111,
                            "#46039f"
                          ],
                          [
                            0.2222222222222222,
                            "#7201a8"
                          ],
                          [
                            0.3333333333333333,
                            "#9c179e"
                          ],
                          [
                            0.4444444444444444,
                            "#bd3786"
                          ],
                          [
                            0.5555555555555556,
                            "#d8576b"
                          ],
                          [
                            0.6666666666666666,
                            "#ed7953"
                          ],
                          [
                            0.7777777777777778,
                            "#fb9f3a"
                          ],
                          [
                            0.8888888888888888,
                            "#fdca26"
                          ],
                          [
                            1,
                            "#f0f921"
                          ]
                        ],
                        "type": "histogram2dcontour"
                      }
                    ],
                    "mesh3d": [
                      {
                        "colorbar": {
                          "outlinewidth": 0,
                          "ticks": ""
                        },
                        "type": "mesh3d"
                      }
                    ],
                    "parcoords": [
                      {
                        "line": {
                          "colorbar": {
                            "outlinewidth": 0,
                            "ticks": ""
                          }
                        },
                        "type": "parcoords"
                      }
                    ],
                    "pie": [
                      {
                        "automargin": true,
                        "type": "pie"
                      }
                    ],
                    "scatter": [
                      {
                        "fillpattern": {
                          "fillmode": "overlay",
                          "size": 10,
                          "solidity": 0.2
                        },
                        "type": "scatter"
                      }
                    ],
                    "scatter3d": [
                      {
                        "line": {
                          "colorbar": {
                            "outlinewidth": 0,
                            "ticks": ""
                          }
                        },
                        "marker": {
                          "colorbar": {
                            "outlinewidth": 0,
                            "ticks": ""
                          }
                        },
                        "type": "scatter3d"
                      }
                    ],
                    "scattercarpet": [
                      {
                        "marker": {
                          "colorbar": {
                            "outlinewidth": 0,
                            "ticks": ""
                          }
                        },
                        "type": "scattercarpet"
                      }
                    ],
                    "scattergeo": [
                      {
                        "marker": {
                          "colorbar": {
                            "outlinewidth": 0,
                            "ticks": ""
                          }
                        },
                        "type": "scattergeo"
                      }
                    ],
                    "scattergl": [
                      {
                        "marker": {
                          "colorbar": {
                            "outlinewidth": 0,
                            "ticks": ""
                          }
                        },
                        "type": "scattergl"
                      }
                    ],
                    "scattermap": [
                      {
                        "marker": {
                          "colorbar": {
                            "outlinewidth": 0,
                            "ticks": ""
                          }
                        },
                        "type": "scattermap"
                      }
                    ],
                    "scattermapbox": [
                      {
                        "marker": {
                          "colorbar": {
                            "outlinewidth": 0,
                            "ticks": ""
                          }
                        },
                        "type": "scattermapbox"
                      }
                    ],
                    "scatterpolar": [
                      {
                        "marker": {
                          "colorbar": {
                            "outlinewidth": 0,
                            "ticks": ""
                          }
                        },
                        "type": "scatterpolar"
                      }
                    ],
                    "scatterpolargl": [
                      {
                        "marker": {
                          "colorbar": {
                            "outlinewidth": 0,
                            "ticks": ""
                          }
                        },
                        "type": "scatterpolargl"
                      }
                    ],
                    "scatterternary": [
                      {
                        "marker": {
                          "colorbar": {
                            "outlinewidth": 0,
                            "ticks": ""
                          }
                        },
                        "type": "scatterternary"
                      }
                    ],
                    "surface": [
                      {
                        "colorbar": {
                          "outlinewidth": 0,
                          "ticks": ""
                        },
                        "colorscale": [
                          [
                            0,
                            "#0d0887"
                          ],
                          [
                            0.1111111111111111,
                            "#46039f"
                          ],
                          [
                            0.2222222222222222,
                            "#7201a8"
                          ],
                          [
                            0.3333333333333333,
                            "#9c179e"
                          ],
                          [
                            0.4444444444444444,
                            "#bd3786"
                          ],
                          [
                            0.5555555555555556,
                            "#d8576b"
                          ],
                          [
                            0.6666666666666666,
                            "#ed7953"
                          ],
                          [
                            0.7777777777777778,
                            "#fb9f3a"
                          ],
                          [
                            0.8888888888888888,
                            "#fdca26"
                          ],
                          [
                            1,
                            "#f0f921"
                          ]
                        ],
                        "type": "surface"
                      }
                    ],
                    "table": [
                      {
                        "cells": {
                          "fill": {
                            "color": "#EBF0F8"
                          },
                          "line": {
                            "color": "white"
                          }
                        },
                        "header": {
                          "fill": {
                            "color": "#C8D4E3"
                          },
                          "line": {
                            "color": "white"
                          }
                        },
                        "type": "table"
                      }
                    ]
                  },
                  "layout": {
                    "annotationdefaults": {
                      "arrowcolor": "#2a3f5f",
                      "arrowhead": 0,
                      "arrowwidth": 1
                    },
                    "autotypenumbers": "strict",
                    "coloraxis": {
                      "colorbar": {
                        "outlinewidth": 0,
                        "ticks": ""
                      }
                    },
                    "colorscale": {
                      "diverging": [
                        [
                          0,
                          "#8e0152"
                        ],
                        [
                          0.1,
                          "#c51b7d"
                        ],
                        [
                          0.2,
                          "#de77ae"
                        ],
                        [
                          0.3,
                          "#f1b6da"
                        ],
                        [
                          0.4,
                          "#fde0ef"
                        ],
                        [
                          0.5,
                          "#f7f7f7"
                        ],
                        [
                          0.6,
                          "#e6f5d0"
                        ],
                        [
                          0.7,
                          "#b8e186"
                        ],
                        [
                          0.8,
                          "#7fbc41"
                        ],
                        [
                          0.9,
                          "#4d9221"
                        ],
                        [
                          1,
                          "#276419"
                        ]
                      ],
                      "sequential": [
                        [
                          0,
                          "#0d0887"
                        ],
                        [
                          0.1111111111111111,
                          "#46039f"
                        ],
                        [
                          0.2222222222222222,
                          "#7201a8"
                        ],
                        [
                          0.3333333333333333,
                          "#9c179e"
                        ],
                        [
                          0.4444444444444444,
                          "#bd3786"
                        ],
                        [
                          0.5555555555555556,
                          "#d8576b"
                        ],
                        [
                          0.6666666666666666,
                          "#ed7953"
                        ],
                        [
                          0.7777777777777778,
                          "#fb9f3a"
                        ],
                        [
                          0.8888888888888888,
                          "#fdca26"
                        ],
                        [
                          1,
                          "#f0f921"
                        ]
                      ],
                      "sequentialminus": [
                        [
                          0,
                          "#0d0887"
                        ],
                        [
                          0.1111111111111111,
                          "#46039f"
                        ],
                        [
                          0.2222222222222222,
                          "#7201a8"
                        ],
                        [
                          0.3333333333333333,
                          "#9c179e"
                        ],
                        [
                          0.4444444444444444,
                          "#bd3786"
                        ],
                        [
                          0.5555555555555556,
                          "#d8576b"
                        ],
                        [
                          0.6666666666666666,
                          "#ed7953"
                        ],
                        [
                          0.7777777777777778,
                          "#fb9f3a"
                        ],
                        [
                          0.8888888888888888,
                          "#fdca26"
                        ],
                        [
                          1,
                          "#f0f921"
                        ]
                      ]
                    },
                    "colorway": [
                      "#636efa",
                      "#EF553B",
                      "#00cc96",
                      "#ab63fa",
                      "#FFA15A",
                      "#19d3f3",
                      "#FF6692",
                      "#B6E880",
                      "#FF97FF",
                      "#FECB52"
                    ],
                    "font": {
                      "color": "#2a3f5f"
                    },
                    "geo": {
                      "bgcolor": "white",
                      "lakecolor": "white",
                      "landcolor": "white",
                      "showlakes": true,
                      "showland": true,
                      "subunitcolor": "#C8D4E3"
                    },
                    "hoverlabel": {
                      "align": "left"
                    },
                    "hovermode": "closest",
                    "mapbox": {
                      "style": "light"
                    },
                    "paper_bgcolor": "white",
                    "plot_bgcolor": "white",
                    "polar": {
                      "angularaxis": {
                        "gridcolor": "#EBF0F8",
                        "linecolor": "#EBF0F8",
                        "ticks": ""
                      },
                      "bgcolor": "white",
                      "radialaxis": {
                        "gridcolor": "#EBF0F8",
                        "linecolor": "#EBF0F8",
                        "ticks": ""
                      }
                    },
                    "scene": {
                      "xaxis": {
                        "backgroundcolor": "white",
                        "gridcolor": "#DFE8F3",
                        "gridwidth": 2,
                        "linecolor": "#EBF0F8",
                        "showbackground": true,
                        "ticks": "",
                        "zerolinecolor": "#EBF0F8"
                      },
                      "yaxis": {
                        "backgroundcolor": "white",
                        "gridcolor": "#DFE8F3",
                        "gridwidth": 2,
                        "linecolor": "#EBF0F8",
                        "showbackground": true,
                        "ticks": "",
                        "zerolinecolor": "#EBF0F8"
                      },
                      "zaxis": {
                        "backgroundcolor": "white",
                        "gridcolor": "#DFE8F3",
                        "gridwidth": 2,
                        "linecolor": "#EBF0F8",
                        "showbackground": true,
                        "ticks": "",
                        "zerolinecolor": "#EBF0F8"
                      }
                    },
                    "shapedefaults": {
                      "line": {
                        "color": "#2a3f5f"
                      }
                    },
                    "ternary": {
                      "aaxis": {
                        "gridcolor": "#DFE8F3",
                        "linecolor": "#A2B1C6",
                        "ticks": ""
                      },
                      "baxis": {
                        "gridcolor": "#DFE8F3",
                        "linecolor": "#A2B1C6",
                        "ticks": ""
                      },
                      "bgcolor": "white",
                      "caxis": {
                        "gridcolor": "#DFE8F3",
                        "linecolor": "#A2B1C6",
                        "ticks": ""
                      }
                    },
                    "title": {
                      "x": 0.05
                    },
                    "xaxis": {
                      "automargin": true,
                      "gridcolor": "#EBF0F8",
                      "linecolor": "#EBF0F8",
                      "ticks": "",
                      "title": {
                        "standoff": 15
                      },
                      "zerolinecolor": "#EBF0F8",
                      "zerolinewidth": 2
                    },
                    "yaxis": {
                      "automargin": true,
                      "gridcolor": "#EBF0F8",
                      "linecolor": "#EBF0F8",
                      "ticks": "",
                      "title": {
                        "standoff": 15
                      },
                      "zerolinecolor": "#EBF0F8",
                      "zerolinewidth": 2
                    }
                  }
                },
                "title": {
                  "text": "Patient Demographics Overview",
                  "x": 0.5
                },
                "width": 1000,
                "xaxis": {
                  "anchor": "y",
                  "domain": [
                    0,
                    0.45
                  ]
                },
                "xaxis2": {
                  "anchor": "y2",
                  "domain": [
                    0.55,
                    1
                  ],
                  "title": {
                    "text": "Age (years)"
                  }
                },
                "yaxis": {
                  "anchor": "x",
                  "domain": [
                    0.7777777777777778,
                    1
                  ],
                  "title": {
                    "text": "Number of Patients"
                  }
                },
                "yaxis2": {
                  "anchor": "x2",
                  "domain": [
                    0.3888888888888889,
                    0.6111111111111112
                  ],
                  "title": {
                    "text": "Number of Patients"
                  }
                }
              }
            }
          },
          "metadata": {},
          "output_type": "display_data"
        }
      ],
      "source": [
        "import plotly.graph_objects as go\n",
        "from plotly.subplots import make_subplots\n",
        "import pandas as pd\n",
        "\n",
        "\n",
        "# Create subplots\n",
        "fig = make_subplots(\n",
        "    rows=3, cols=2,\n",
        "    subplot_titles=[\n",
        "        \"Number of Patients per Disorder\",\n",
        "        \"Insurance Distribution\",\n",
        "        \"Gender Distribution\",\n",
        "        \"Age Distribution (10-Year Bins)\",\n",
        "        \"Triage Category\",\n",
        "        \"Medication Availability\"\n",
        "    ],\n",
        "    specs=[[{\"type\": \"bar\"}, {\"type\": \"pie\"}],\n",
        "           [{\"type\": \"pie\"}, {\"type\": \"histogram\"}],\n",
        "           [{\"type\": \"pie\"}, {\"type\": \"pie\"}]]\n",
        ")\n",
        "\n",
        "# 1. Bar plot - HealthCondition\n",
        "condition_counts = patients_df['HealthCondition'].value_counts()\n",
        "fig.add_trace(\n",
        "    go.Bar(\n",
        "        x=condition_counts.index,\n",
        "        y=condition_counts.values,\n",
        "        marker_color='indianred',\n",
        "        name=\"Disorder Count\"\n",
        "    ),\n",
        "    row=1, col=1\n",
        ")\n",
        "fig.update_yaxes(title_text=\"Number of Patients\", row=1, col=1)\n",
        "\n",
        "# 2. Pie chart - Insurance\n",
        "insurance_counts = patients_df['Insurance'].value_counts()\n",
        "fig.add_trace(\n",
        "    go.Pie(\n",
        "        labels=insurance_counts.index,\n",
        "        values=insurance_counts.values,\n",
        "        marker=dict(colors=['royalblue', 'lightblue', 'mediumpurple']),\n",
        "        name=\"Insurance\",\n",
        "        textposition='inside',\n",
        "        textinfo='percent+label',\n",
        "        hoverinfo='label+percent'\n",
        "    ),\n",
        "    row=1, col=2\n",
        ")\n",
        "\n",
        "\n",
        "# 3. Pie chart - Gender\n",
        "gender_counts = patients_df['Gender'].value_counts()\n",
        "fig.add_trace(\n",
        "    go.Pie(\n",
        "        labels=gender_counts.index,\n",
        "        values=gender_counts.values,\n",
        "        marker=dict(colors=['lightpink', 'lightgreen']),\n",
        "        name=\"Gender\",\n",
        "        textposition='inside',\n",
        "        textinfo='percent+label',\n",
        "        hoverinfo='label+percent'\n",
        "    ),\n",
        "    row=2, col=1\n",
        ")\n",
        "\n",
        "# 4. Histogram - Age\n",
        "fig.add_trace(\n",
        "    go.Histogram(\n",
        "        x=patients_df['Age'],\n",
        "        xbins=dict(start=0, end=100, size=10),\n",
        "        marker_color='steelblue',\n",
        "        name=\"Age\"\n",
        "    ),\n",
        "    row=2, col=2\n",
        ")\n",
        "fig.update_xaxes(title_text=\"Age (years)\", row=2, col=2)\n",
        "fig.update_yaxes(title_text=\"Number of Patients\", row=2, col=2)\n",
        "\n",
        "\n",
        "# 5. Pie chart - TriageCategory\n",
        "triage_counts = patients_df['TriageCategory'].value_counts()\n",
        "fig.add_trace(\n",
        "    go.Pie(\n",
        "        labels=triage_counts.index,\n",
        "        values=triage_counts.values,\n",
        "        marker=dict(colors=['tomato', 'gold']),\n",
        "        name=\"Triage Category\",\n",
        "        textposition='inside',\n",
        "        textinfo='percent+label',\n",
        "        hoverinfo='label+percent'\n",
        "    ),\n",
        "    row=3, col=1\n",
        ")\n",
        "\n",
        "# 6. Pie chart - MedicationAvailability\n",
        "medication_counts = patients_df['MedicationAvailability'].value_counts()\n",
        "fig.add_trace(\n",
        "    go.Pie(\n",
        "        labels=medication_counts.index,\n",
        "        values=medication_counts.values,\n",
        "        marker=dict(colors=['mediumseagreen', 'salmon']),\n",
        "        name=\"Medication Availability\",\n",
        "        textposition='inside',\n",
        "        textinfo='percent+label',\n",
        "        hoverinfo='label+percent'\n",
        "    ),\n",
        "    row=3, col=2\n",
        ")\n",
        "\n",
        "# Layout settings\n",
        "fig.update_layout(\n",
        "    height=900,\n",
        "    width=1000,\n",
        "    title_text=\"Patient Demographics Overview\",\n",
        "    title_x=0.5,\n",
        "    showlegend=False,\n",
        "    template=\"plotly_white\"\n",
        ")\n",
        "\n",
        "fig.show()\n"
      ]
    },
    {
      "cell_type": "markdown",
      "metadata": {
        "id": "K2xOknGcWc1D"
      },
      "source": [
        "### Clinic Flow Mapping – Sankey Diagram\n",
        "\n",
        "This visualization shows the flow of patients through different stages of the clinic using a **Sankey diagram**.\n",
        "\n",
        "A **Sankey diagram** is used to visualize flow between stages, with the width of each link proportional to the quantity of flow. It’s especially useful for mapping how patients move through a system and branch into different paths.\n",
        "\n",
        "#### Patient Journey:\n",
        "- **Check-In → Triage → Consultation**\n",
        "- After Consultation, patients either:\n",
        "  - Go directly to **Pharmacy** if no tests are needed\n",
        "  - Or proceed to **one of three diagnostic tests**:\n",
        "    - Blood Test\n",
        "    - Neuroimaging\n",
        "    - EEG\n",
        "- All patients eventually reach **Pharmacy → Billing**\n",
        "\n",
        "The plot reflects actual patient counts from the dataset at each transition.\n"
      ]
    },
    {
      "cell_type": "code",
      "execution_count": 39,
      "metadata": {
        "colab": {
          "base_uri": "https://localhost:8080/",
          "height": 517
        },
        "id": "n6t0LlHtG0Lq",
        "outputId": "75b94e7e-f9e0-4658-8aef-7ea19d3e8865"
      },
      "outputs": [
        {
          "data": {
            "application/vnd.plotly.v1+json": {
              "config": {
                "plotlyServerURL": "https://plot.ly"
              },
              "data": [
                {
                  "link": {
                    "color": [
                      "rgba(173, 216, 230, 0.5)",
                      "rgba(144, 238, 144, 0.5)",
                      "rgba(255, 182, 193, 0.5)",
                      "rgba(255, 255, 224, 0.5)",
                      "rgba(221, 160, 221, 0.5)",
                      "rgba(240, 230, 140, 0.5)",
                      "rgba(255, 228, 225, 0.5)",
                      "rgba(175, 238, 238, 0.5)",
                      "rgba(250, 235, 215, 0.5)",
                      "rgba(255, 239, 213, 0.5)"
                    ],
                    "source": [
                      0,
                      1,
                      2,
                      2,
                      2,
                      2,
                      3,
                      4,
                      5,
                      6
                    ],
                    "target": [
                      1,
                      2,
                      3,
                      4,
                      5,
                      6,
                      6,
                      6,
                      6,
                      7
                    ],
                    "value": [
                      100,
                      100,
                      28,
                      6,
                      12,
                      54,
                      28,
                      6,
                      12,
                      100
                    ]
                  },
                  "node": {
                    "color": [
                      "#6baed6",
                      "#9ecae1",
                      "#c6dbef",
                      "#fdae6b",
                      "#fd8d3c",
                      "#e6550d",
                      "#a1d99b",
                      "#74c476"
                    ],
                    "label": [
                      "Check-In",
                      "Triage",
                      "Consultation",
                      "Blood Test",
                      "Neuroimaging",
                      "EEG",
                      "Pharmacy",
                      "Billing"
                    ],
                    "line": {
                      "color": "black",
                      "width": 0.5
                    },
                    "pad": 20,
                    "thickness": 20
                  },
                  "type": "sankey"
                }
              ],
              "layout": {
                "font": {
                  "size": 12
                },
                "height": 500,
                "template": {
                  "data": {
                    "bar": [
                      {
                        "error_x": {
                          "color": "#2a3f5f"
                        },
                        "error_y": {
                          "color": "#2a3f5f"
                        },
                        "marker": {
                          "line": {
                            "color": "#E5ECF6",
                            "width": 0.5
                          },
                          "pattern": {
                            "fillmode": "overlay",
                            "size": 10,
                            "solidity": 0.2
                          }
                        },
                        "type": "bar"
                      }
                    ],
                    "barpolar": [
                      {
                        "marker": {
                          "line": {
                            "color": "#E5ECF6",
                            "width": 0.5
                          },
                          "pattern": {
                            "fillmode": "overlay",
                            "size": 10,
                            "solidity": 0.2
                          }
                        },
                        "type": "barpolar"
                      }
                    ],
                    "carpet": [
                      {
                        "aaxis": {
                          "endlinecolor": "#2a3f5f",
                          "gridcolor": "white",
                          "linecolor": "white",
                          "minorgridcolor": "white",
                          "startlinecolor": "#2a3f5f"
                        },
                        "baxis": {
                          "endlinecolor": "#2a3f5f",
                          "gridcolor": "white",
                          "linecolor": "white",
                          "minorgridcolor": "white",
                          "startlinecolor": "#2a3f5f"
                        },
                        "type": "carpet"
                      }
                    ],
                    "choropleth": [
                      {
                        "colorbar": {
                          "outlinewidth": 0,
                          "ticks": ""
                        },
                        "type": "choropleth"
                      }
                    ],
                    "contour": [
                      {
                        "colorbar": {
                          "outlinewidth": 0,
                          "ticks": ""
                        },
                        "colorscale": [
                          [
                            0,
                            "#0d0887"
                          ],
                          [
                            0.1111111111111111,
                            "#46039f"
                          ],
                          [
                            0.2222222222222222,
                            "#7201a8"
                          ],
                          [
                            0.3333333333333333,
                            "#9c179e"
                          ],
                          [
                            0.4444444444444444,
                            "#bd3786"
                          ],
                          [
                            0.5555555555555556,
                            "#d8576b"
                          ],
                          [
                            0.6666666666666666,
                            "#ed7953"
                          ],
                          [
                            0.7777777777777778,
                            "#fb9f3a"
                          ],
                          [
                            0.8888888888888888,
                            "#fdca26"
                          ],
                          [
                            1,
                            "#f0f921"
                          ]
                        ],
                        "type": "contour"
                      }
                    ],
                    "contourcarpet": [
                      {
                        "colorbar": {
                          "outlinewidth": 0,
                          "ticks": ""
                        },
                        "type": "contourcarpet"
                      }
                    ],
                    "heatmap": [
                      {
                        "colorbar": {
                          "outlinewidth": 0,
                          "ticks": ""
                        },
                        "colorscale": [
                          [
                            0,
                            "#0d0887"
                          ],
                          [
                            0.1111111111111111,
                            "#46039f"
                          ],
                          [
                            0.2222222222222222,
                            "#7201a8"
                          ],
                          [
                            0.3333333333333333,
                            "#9c179e"
                          ],
                          [
                            0.4444444444444444,
                            "#bd3786"
                          ],
                          [
                            0.5555555555555556,
                            "#d8576b"
                          ],
                          [
                            0.6666666666666666,
                            "#ed7953"
                          ],
                          [
                            0.7777777777777778,
                            "#fb9f3a"
                          ],
                          [
                            0.8888888888888888,
                            "#fdca26"
                          ],
                          [
                            1,
                            "#f0f921"
                          ]
                        ],
                        "type": "heatmap"
                      }
                    ],
                    "histogram": [
                      {
                        "marker": {
                          "pattern": {
                            "fillmode": "overlay",
                            "size": 10,
                            "solidity": 0.2
                          }
                        },
                        "type": "histogram"
                      }
                    ],
                    "histogram2d": [
                      {
                        "colorbar": {
                          "outlinewidth": 0,
                          "ticks": ""
                        },
                        "colorscale": [
                          [
                            0,
                            "#0d0887"
                          ],
                          [
                            0.1111111111111111,
                            "#46039f"
                          ],
                          [
                            0.2222222222222222,
                            "#7201a8"
                          ],
                          [
                            0.3333333333333333,
                            "#9c179e"
                          ],
                          [
                            0.4444444444444444,
                            "#bd3786"
                          ],
                          [
                            0.5555555555555556,
                            "#d8576b"
                          ],
                          [
                            0.6666666666666666,
                            "#ed7953"
                          ],
                          [
                            0.7777777777777778,
                            "#fb9f3a"
                          ],
                          [
                            0.8888888888888888,
                            "#fdca26"
                          ],
                          [
                            1,
                            "#f0f921"
                          ]
                        ],
                        "type": "histogram2d"
                      }
                    ],
                    "histogram2dcontour": [
                      {
                        "colorbar": {
                          "outlinewidth": 0,
                          "ticks": ""
                        },
                        "colorscale": [
                          [
                            0,
                            "#0d0887"
                          ],
                          [
                            0.1111111111111111,
                            "#46039f"
                          ],
                          [
                            0.2222222222222222,
                            "#7201a8"
                          ],
                          [
                            0.3333333333333333,
                            "#9c179e"
                          ],
                          [
                            0.4444444444444444,
                            "#bd3786"
                          ],
                          [
                            0.5555555555555556,
                            "#d8576b"
                          ],
                          [
                            0.6666666666666666,
                            "#ed7953"
                          ],
                          [
                            0.7777777777777778,
                            "#fb9f3a"
                          ],
                          [
                            0.8888888888888888,
                            "#fdca26"
                          ],
                          [
                            1,
                            "#f0f921"
                          ]
                        ],
                        "type": "histogram2dcontour"
                      }
                    ],
                    "mesh3d": [
                      {
                        "colorbar": {
                          "outlinewidth": 0,
                          "ticks": ""
                        },
                        "type": "mesh3d"
                      }
                    ],
                    "parcoords": [
                      {
                        "line": {
                          "colorbar": {
                            "outlinewidth": 0,
                            "ticks": ""
                          }
                        },
                        "type": "parcoords"
                      }
                    ],
                    "pie": [
                      {
                        "automargin": true,
                        "type": "pie"
                      }
                    ],
                    "scatter": [
                      {
                        "fillpattern": {
                          "fillmode": "overlay",
                          "size": 10,
                          "solidity": 0.2
                        },
                        "type": "scatter"
                      }
                    ],
                    "scatter3d": [
                      {
                        "line": {
                          "colorbar": {
                            "outlinewidth": 0,
                            "ticks": ""
                          }
                        },
                        "marker": {
                          "colorbar": {
                            "outlinewidth": 0,
                            "ticks": ""
                          }
                        },
                        "type": "scatter3d"
                      }
                    ],
                    "scattercarpet": [
                      {
                        "marker": {
                          "colorbar": {
                            "outlinewidth": 0,
                            "ticks": ""
                          }
                        },
                        "type": "scattercarpet"
                      }
                    ],
                    "scattergeo": [
                      {
                        "marker": {
                          "colorbar": {
                            "outlinewidth": 0,
                            "ticks": ""
                          }
                        },
                        "type": "scattergeo"
                      }
                    ],
                    "scattergl": [
                      {
                        "marker": {
                          "colorbar": {
                            "outlinewidth": 0,
                            "ticks": ""
                          }
                        },
                        "type": "scattergl"
                      }
                    ],
                    "scattermap": [
                      {
                        "marker": {
                          "colorbar": {
                            "outlinewidth": 0,
                            "ticks": ""
                          }
                        },
                        "type": "scattermap"
                      }
                    ],
                    "scattermapbox": [
                      {
                        "marker": {
                          "colorbar": {
                            "outlinewidth": 0,
                            "ticks": ""
                          }
                        },
                        "type": "scattermapbox"
                      }
                    ],
                    "scatterpolar": [
                      {
                        "marker": {
                          "colorbar": {
                            "outlinewidth": 0,
                            "ticks": ""
                          }
                        },
                        "type": "scatterpolar"
                      }
                    ],
                    "scatterpolargl": [
                      {
                        "marker": {
                          "colorbar": {
                            "outlinewidth": 0,
                            "ticks": ""
                          }
                        },
                        "type": "scatterpolargl"
                      }
                    ],
                    "scatterternary": [
                      {
                        "marker": {
                          "colorbar": {
                            "outlinewidth": 0,
                            "ticks": ""
                          }
                        },
                        "type": "scatterternary"
                      }
                    ],
                    "surface": [
                      {
                        "colorbar": {
                          "outlinewidth": 0,
                          "ticks": ""
                        },
                        "colorscale": [
                          [
                            0,
                            "#0d0887"
                          ],
                          [
                            0.1111111111111111,
                            "#46039f"
                          ],
                          [
                            0.2222222222222222,
                            "#7201a8"
                          ],
                          [
                            0.3333333333333333,
                            "#9c179e"
                          ],
                          [
                            0.4444444444444444,
                            "#bd3786"
                          ],
                          [
                            0.5555555555555556,
                            "#d8576b"
                          ],
                          [
                            0.6666666666666666,
                            "#ed7953"
                          ],
                          [
                            0.7777777777777778,
                            "#fb9f3a"
                          ],
                          [
                            0.8888888888888888,
                            "#fdca26"
                          ],
                          [
                            1,
                            "#f0f921"
                          ]
                        ],
                        "type": "surface"
                      }
                    ],
                    "table": [
                      {
                        "cells": {
                          "fill": {
                            "color": "#EBF0F8"
                          },
                          "line": {
                            "color": "white"
                          }
                        },
                        "header": {
                          "fill": {
                            "color": "#C8D4E3"
                          },
                          "line": {
                            "color": "white"
                          }
                        },
                        "type": "table"
                      }
                    ]
                  },
                  "layout": {
                    "annotationdefaults": {
                      "arrowcolor": "#2a3f5f",
                      "arrowhead": 0,
                      "arrowwidth": 1
                    },
                    "autotypenumbers": "strict",
                    "coloraxis": {
                      "colorbar": {
                        "outlinewidth": 0,
                        "ticks": ""
                      }
                    },
                    "colorscale": {
                      "diverging": [
                        [
                          0,
                          "#8e0152"
                        ],
                        [
                          0.1,
                          "#c51b7d"
                        ],
                        [
                          0.2,
                          "#de77ae"
                        ],
                        [
                          0.3,
                          "#f1b6da"
                        ],
                        [
                          0.4,
                          "#fde0ef"
                        ],
                        [
                          0.5,
                          "#f7f7f7"
                        ],
                        [
                          0.6,
                          "#e6f5d0"
                        ],
                        [
                          0.7,
                          "#b8e186"
                        ],
                        [
                          0.8,
                          "#7fbc41"
                        ],
                        [
                          0.9,
                          "#4d9221"
                        ],
                        [
                          1,
                          "#276419"
                        ]
                      ],
                      "sequential": [
                        [
                          0,
                          "#0d0887"
                        ],
                        [
                          0.1111111111111111,
                          "#46039f"
                        ],
                        [
                          0.2222222222222222,
                          "#7201a8"
                        ],
                        [
                          0.3333333333333333,
                          "#9c179e"
                        ],
                        [
                          0.4444444444444444,
                          "#bd3786"
                        ],
                        [
                          0.5555555555555556,
                          "#d8576b"
                        ],
                        [
                          0.6666666666666666,
                          "#ed7953"
                        ],
                        [
                          0.7777777777777778,
                          "#fb9f3a"
                        ],
                        [
                          0.8888888888888888,
                          "#fdca26"
                        ],
                        [
                          1,
                          "#f0f921"
                        ]
                      ],
                      "sequentialminus": [
                        [
                          0,
                          "#0d0887"
                        ],
                        [
                          0.1111111111111111,
                          "#46039f"
                        ],
                        [
                          0.2222222222222222,
                          "#7201a8"
                        ],
                        [
                          0.3333333333333333,
                          "#9c179e"
                        ],
                        [
                          0.4444444444444444,
                          "#bd3786"
                        ],
                        [
                          0.5555555555555556,
                          "#d8576b"
                        ],
                        [
                          0.6666666666666666,
                          "#ed7953"
                        ],
                        [
                          0.7777777777777778,
                          "#fb9f3a"
                        ],
                        [
                          0.8888888888888888,
                          "#fdca26"
                        ],
                        [
                          1,
                          "#f0f921"
                        ]
                      ]
                    },
                    "colorway": [
                      "#636efa",
                      "#EF553B",
                      "#00cc96",
                      "#ab63fa",
                      "#FFA15A",
                      "#19d3f3",
                      "#FF6692",
                      "#B6E880",
                      "#FF97FF",
                      "#FECB52"
                    ],
                    "font": {
                      "color": "#2a3f5f"
                    },
                    "geo": {
                      "bgcolor": "white",
                      "lakecolor": "white",
                      "landcolor": "#E5ECF6",
                      "showlakes": true,
                      "showland": true,
                      "subunitcolor": "white"
                    },
                    "hoverlabel": {
                      "align": "left"
                    },
                    "hovermode": "closest",
                    "mapbox": {
                      "style": "light"
                    },
                    "paper_bgcolor": "white",
                    "plot_bgcolor": "#E5ECF6",
                    "polar": {
                      "angularaxis": {
                        "gridcolor": "white",
                        "linecolor": "white",
                        "ticks": ""
                      },
                      "bgcolor": "#E5ECF6",
                      "radialaxis": {
                        "gridcolor": "white",
                        "linecolor": "white",
                        "ticks": ""
                      }
                    },
                    "scene": {
                      "xaxis": {
                        "backgroundcolor": "#E5ECF6",
                        "gridcolor": "white",
                        "gridwidth": 2,
                        "linecolor": "white",
                        "showbackground": true,
                        "ticks": "",
                        "zerolinecolor": "white"
                      },
                      "yaxis": {
                        "backgroundcolor": "#E5ECF6",
                        "gridcolor": "white",
                        "gridwidth": 2,
                        "linecolor": "white",
                        "showbackground": true,
                        "ticks": "",
                        "zerolinecolor": "white"
                      },
                      "zaxis": {
                        "backgroundcolor": "#E5ECF6",
                        "gridcolor": "white",
                        "gridwidth": 2,
                        "linecolor": "white",
                        "showbackground": true,
                        "ticks": "",
                        "zerolinecolor": "white"
                      }
                    },
                    "shapedefaults": {
                      "line": {
                        "color": "#2a3f5f"
                      }
                    },
                    "ternary": {
                      "aaxis": {
                        "gridcolor": "white",
                        "linecolor": "white",
                        "ticks": ""
                      },
                      "baxis": {
                        "gridcolor": "white",
                        "linecolor": "white",
                        "ticks": ""
                      },
                      "bgcolor": "#E5ECF6",
                      "caxis": {
                        "gridcolor": "white",
                        "linecolor": "white",
                        "ticks": ""
                      }
                    },
                    "title": {
                      "x": 0.05
                    },
                    "xaxis": {
                      "automargin": true,
                      "gridcolor": "white",
                      "linecolor": "white",
                      "ticks": "",
                      "title": {
                        "standoff": 15
                      },
                      "zerolinecolor": "white",
                      "zerolinewidth": 2
                    },
                    "yaxis": {
                      "automargin": true,
                      "gridcolor": "white",
                      "linecolor": "white",
                      "ticks": "",
                      "title": {
                        "standoff": 15
                      },
                      "zerolinecolor": "white",
                      "zerolinewidth": 2
                    }
                  }
                },
                "title": {
                  "text": "Patient Flow Through Clinic – Sankey Diagram"
                },
                "width": 1000
              }
            }
          },
          "metadata": {},
          "output_type": "display_data"
        }
      ],
      "source": [
        "import plotly.graph_objects as go\n",
        "\n",
        "# Patient Flow: Check-In → Triage → Consultation → Diagnostics (Blood Test, Neuroimaging, EEG) → Pharmacy → Billing\n",
        "\n",
        "# Count how many patients went through each test\n",
        "test_counts = patients_df['DiagnosticTests'].value_counts()\n",
        "total_patients = len(patients_df)\n",
        "patients_with_test = patients_df[patients_df['DiagnosticTests'].notna()]\n",
        "patients_without_test = total_patients - len(patients_with_test)\n",
        "\n",
        "# ------------------- Sankey Diagram -------------------\n",
        "\n",
        "stages = [\n",
        "    \"Check-In\", \"Triage\", \"Consultation\",\n",
        "    \"Blood Test\", \"Neuroimaging\", \"EEG\", \"Pharmacy\", \"Billing\"\n",
        "]\n",
        "stage_idx = {name: i for i, name in enumerate(stages)}\n",
        "\n",
        "sankey_links = {\n",
        "    ('Check-In', 'Triage'): total_patients,\n",
        "    ('Triage', 'Consultation'): total_patients,\n",
        "    ('Consultation', 'Blood Test'): test_counts.get('Blood Test', 0),\n",
        "    ('Consultation', 'Neuroimaging'): test_counts.get('Neuroimaging', 0),\n",
        "    ('Consultation', 'EEG'): test_counts.get('EEG', 0),\n",
        "    ('Consultation', 'Pharmacy'): patients_without_test,\n",
        "    ('Blood Test', 'Pharmacy'): test_counts.get('Blood Test', 0),\n",
        "    ('Neuroimaging', 'Pharmacy'): test_counts.get('Neuroimaging', 0),\n",
        "    ('EEG', 'Pharmacy'): test_counts.get('EEG', 0),\n",
        "    ('Pharmacy', 'Billing'): total_patients,\n",
        "}\n",
        "\n",
        "sankey_fig = go.Figure(data=[go.Sankey(\n",
        "    node=dict(\n",
        "        pad=20,\n",
        "        thickness=20,\n",
        "        line=dict(color=\"black\", width=0.5),\n",
        "        label=stages,\n",
        "        color=[\"#6baed6\", \"#9ecae1\", \"#c6dbef\", \"#fdae6b\", \"#fd8d3c\", \"#e6550d\", \"#a1d99b\", \"#74c476\"]\n",
        "    ),\n",
        "    link=dict(\n",
        "        source=[stage_idx[s[0]] for s in sankey_links.keys()],\n",
        "        target=[stage_idx[s[1]] for s in sankey_links.keys()],\n",
        "        value=list(sankey_links.values()),\n",
        "        color = [\"rgba(173, 216, 230, 0.5)\",  # LightBlue\n",
        "                      \"rgba(144, 238, 144, 0.5)\",  # LightGreen\n",
        "                      \"rgba(255, 182, 193, 0.5)\",  # LightPink\n",
        "                      \"rgba(255, 255, 224, 0.5)\",  # LightYellow\n",
        "                      \"rgba(221, 160, 221, 0.5)\",  # Plum\n",
        "                      \"rgba(240, 230, 140, 0.5)\",  # Khaki\n",
        "                      \"rgba(255, 228, 225, 0.5)\",  # MistyRose\n",
        "                      \"rgba(175, 238, 238, 0.5)\",  # PaleTurquoise\n",
        "                      \"rgba(250, 235, 215, 0.5)\",  # AntiqueWhite\n",
        "                      \"rgba(255, 239, 213, 0.5)\"   # PapayaWhip\n",
        "                      ]\n",
        "    )\n",
        ")])\n",
        "\n",
        "sankey_fig.update_layout(\n",
        "    title_text=\"Patient Flow Through Clinic – Sankey Diagram\",\n",
        "    font_size=12,\n",
        "    height=500,\n",
        "    width=1000\n",
        ")\n",
        "\n",
        "# Show plot\n",
        "sankey_fig.show()\n"
      ]
    },
    {
      "cell_type": "markdown",
      "metadata": {
        "id": "txeye4186WgG"
      },
      "source": [
        "### 🕒 Gantt-Style Chart: Patient Timelines Through the Clinic\n",
        "\n",
        "This Gantt-style visualization shows the flow of 10 randomly sampled patients through various clinic stages on **May 15, 2025**. The stages include:\n",
        "\n",
        "- Check-In\n",
        "- Triage\n",
        "- Consultation\n",
        "- Test\n",
        "- Pharmacy\n",
        "- Billing\n",
        "\n",
        "Each patient's journey is represented as a horizontal bar, color-coded by stage. The chart helps identify bottlenecks and overlaps in patient processing times.\n",
        "\n",
        "📊 **Use case**: Visual audit of patient flow, clinic efficiency, and resource allocation.\n",
        "\n",
        "🔍 **Sample size**: 10 patients  \n",
        "📅 **Date used**: May 15, 2025  \n",
        "🎨 **Chart type**: Interactive timeline (Gantt style)\n"
      ]
    },
    {
      "cell_type": "code",
      "execution_count": 40,
      "metadata": {
        "colab": {
          "base_uri": "https://localhost:8080/",
          "height": 1000
        },
        "id": "SKwMgJ6o0Zo1",
        "outputId": "b620737f-e16d-44f9-b0a2-a360421f8445"
      },
      "outputs": [
        {
          "data": {
            "application/vnd.plotly.v1+json": {
              "config": {
                "plotlyServerURL": "https://plot.ly"
              },
              "data": [
                {
                  "base": [
                    "2025-05-15T14:48:00.000000000",
                    "2025-05-15T12:41:00.000000000",
                    "2025-05-15T13:42:00.000000000",
                    "2025-05-15T12:21:00.000000000",
                    "2025-05-15T12:19:00.000000000",
                    "2025-05-15T12:06:00.000000000",
                    "2025-05-15T11:17:00.000000000",
                    "2025-05-15T14:15:00.000000000",
                    "2025-05-15T10:37:00.000000000",
                    "2025-05-15T08:28:00.000000000"
                  ],
                  "hovertemplate": "Clinic Stage=Check-In<br>Start=%{base}<br>End=%{x}<br>Patient ID=%{y}<extra></extra>",
                  "legendgroup": "Check-In",
                  "marker": {
                    "color": "#636efa",
                    "pattern": {
                      "shape": ""
                    }
                  },
                  "name": "Check-In",
                  "orientation": "h",
                  "showlegend": true,
                  "textposition": "auto",
                  "type": "bar",
                  "width": 1.5,
                  "x": {
                    "bdata": "IL8CAMDUAQDA1AEAYOoAAMDUAQDA1AEAYOoAACC/AgDA1AEAYOoAAA==",
                    "dtype": "i4"
                  },
                  "xaxis": "x",
                  "y": {
                    "bdata": "UzVGLSwnFlAKAA==",
                    "dtype": "i1"
                  },
                  "yaxis": "y"
                },
                {
                  "base": [
                    "2025-05-15T14:51:00.000000000",
                    "2025-05-15T12:43:00.000000000",
                    "2025-05-15T13:44:00.000000000",
                    "2025-05-15T12:22:00.000000000",
                    "2025-05-15T12:21:00.000000000",
                    "2025-05-15T12:08:00.000000000",
                    "2025-05-15T11:19:00.000000000",
                    "2025-05-15T14:18:00.000000000",
                    "2025-05-15T10:39:00.000000000",
                    "2025-05-15T08:29:00.000000000"
                  ],
                  "hovertemplate": "Clinic Stage=Triage<br>Start=%{base}<br>End=%{x}<br>Patient ID=%{y}<extra></extra>",
                  "legendgroup": "Triage",
                  "marker": {
                    "color": "#EF553B",
                    "pattern": {
                      "shape": ""
                    }
                  },
                  "name": "Triage",
                  "orientation": "h",
                  "showlegend": true,
                  "textposition": "auto",
                  "type": "bar",
                  "width": 1.5,
                  "x": {
                    "bdata": "gKkDAICpAwDgkwQAIL8CAICpAwCAqQMAgKkDACC/AgDgkwQAIL8CAA==",
                    "dtype": "i4"
                  },
                  "xaxis": "x",
                  "y": {
                    "bdata": "UzVGLSwnFlAKAA==",
                    "dtype": "i1"
                  },
                  "yaxis": "y"
                },
                {
                  "base": [
                    "2025-05-15T15:00:00.000000000",
                    "2025-05-15T13:18:00.000000000",
                    "2025-05-15T14:11:00.000000000",
                    "2025-05-15T12:55:00.000000000",
                    "2025-05-15T12:52:00.000000000",
                    "2025-05-15T12:17:00.000000000",
                    "2025-05-15T11:30:00.000000000",
                    "2025-05-15T14:47:00.000000000",
                    "2025-05-15T10:44:00.000000000",
                    "2025-05-15T08:32:00.000000000"
                  ],
                  "hovertemplate": "Clinic Stage=Consultation<br>Start=%{base}<br>End=%{x}<br>Patient ID=%{y}<extra></extra>",
                  "legendgroup": "Consultation",
                  "marker": {
                    "color": "#00cc96",
                    "pattern": {
                      "shape": ""
                    }
                  },
                  "name": "Consultation",
                  "orientation": "h",
                  "showlegend": true,
                  "textposition": "auto",
                  "type": "bar",
                  "width": 1.5,
                  "x": {
                    "bdata": "YJAPAACmDgAgZREAwHoQAACmDgBgkA8AAKYOAGCQDwCguw0AYJAPAA==",
                    "dtype": "i4"
                  },
                  "xaxis": "x",
                  "y": {
                    "bdata": "UzVGLSwnFlAKAA==",
                    "dtype": "i1"
                  },
                  "yaxis": "y"
                },
                {
                  "base": [
                    "2025-05-15T15:17:00.000000000",
                    "2025-05-15T13:08:00.000000000",
                    "2025-05-15T11:58:00.000000000",
                    "2025-05-15T10:59:00.000000000",
                    "2025-05-15T08:49:00.000000000"
                  ],
                  "hovertemplate": "Clinic Stage=Test<br>Start=%{base}<br>End=%{x}<br>Patient ID=%{y}<extra></extra>",
                  "legendgroup": "Test",
                  "marker": {
                    "color": "#ab63fa",
                    "pattern": {
                      "shape": ""
                    }
                  },
                  "name": "Test",
                  "orientation": "h",
                  "showlegend": true,
                  "textposition": "auto",
                  "type": "bar",
                  "width": 1.5,
                  "x": {
                    "bdata": "gPwKAACfJADAxi0AIBIKAGDcLAA=",
                    "dtype": "i4"
                  },
                  "xaxis": "x",
                  "y": {
                    "bdata": "UywWCgA=",
                    "dtype": "i1"
                  },
                  "yaxis": "y"
                },
                {
                  "base": [
                    "2025-05-15T15:29:00.000000000",
                    "2025-05-15T13:34:00.000000000",
                    "2025-05-15T14:30:00.000000000",
                    "2025-05-15T13:13:00.000000000",
                    "2025-05-15T13:48:00.000000000",
                    "2025-05-15T12:34:00.000000000",
                    "2025-05-15T12:48:00.000000000",
                    "2025-05-15T15:04:00.000000000",
                    "2025-05-15T11:10:00.000000000",
                    "2025-05-15T09:38:00.000000000"
                  ],
                  "hovertemplate": "Clinic Stage=Pharmacy<br>Start=%{base}<br>End=%{x}<br>Patient ID=%{y}<extra></extra>",
                  "legendgroup": "Pharmacy",
                  "marker": {
                    "color": "#FFA15A",
                    "pattern": {
                      "shape": ""
                    }
                  },
                  "name": "Pharmacy",
                  "orientation": "h",
                  "showlegend": true,
                  "textposition": "auto",
                  "type": "bar",
                  "width": 1.5,
                  "x": {
                    "bdata": "wCcJAKC7DQDAJwkAYJAPAODmCwCAohkAoA4VAEDRDADAJwkAwCcJAA==",
                    "dtype": "i4"
                  },
                  "xaxis": "x",
                  "y": {
                    "bdata": "UzVGLSwnFlAKAA==",
                    "dtype": "i1"
                  },
                  "yaxis": "y"
                },
                {
                  "base": [
                    "2025-05-15T15:39:00.000000000",
                    "2025-05-15T13:49:00.000000000",
                    "2025-05-15T14:40:00.000000000",
                    "2025-05-15T13:30:00.000000000",
                    "2025-05-15T14:01:00.000000000",
                    "2025-05-15T13:06:00.000000000",
                    "2025-05-15T13:11:00.000000000",
                    "2025-05-15T15:19:00.000000000",
                    "2025-05-15T11:21:00.000000000",
                    "2025-05-15T09:48:00.000000000"
                  ],
                  "hovertemplate": "Clinic Stage=Billing<br>Start=%{base}<br>End=%{x}<br>Patient ID=%{y}<extra></extra>",
                  "legendgroup": "Billing",
                  "marker": {
                    "color": "#19d3f3",
                    "pattern": {
                      "shape": ""
                    }
                  },
                  "name": "Billing",
                  "orientation": "h",
                  "showlegend": true,
                  "textposition": "auto",
                  "type": "bar",
                  "width": 1.5,
                  "x": {
                    "bdata": "QH4FAOCTBACgaAYA4JMEAOCTBABAfgUA4JMEAEB+BQDgkwQAQH4FAA==",
                    "dtype": "i4"
                  },
                  "xaxis": "x",
                  "y": {
                    "bdata": "UzVGLSwnFlAKAA==",
                    "dtype": "i1"
                  },
                  "yaxis": "y"
                }
              ],
              "layout": {
                "barmode": "overlay",
                "height": 1000,
                "legend": {
                  "title": {
                    "text": "Clinic Stage"
                  },
                  "tracegroupgap": 0
                },
                "margin": {
                  "b": 40,
                  "l": 50,
                  "r": 50,
                  "t": 80
                },
                "paper_bgcolor": "rgb(245, 245, 245)",
                "plot_bgcolor": "rgb(245, 245, 245)",
                "template": {
                  "data": {
                    "bar": [
                      {
                        "error_x": {
                          "color": "#2a3f5f"
                        },
                        "error_y": {
                          "color": "#2a3f5f"
                        },
                        "marker": {
                          "line": {
                            "color": "#E5ECF6",
                            "width": 0.5
                          },
                          "pattern": {
                            "fillmode": "overlay",
                            "size": 10,
                            "solidity": 0.2
                          }
                        },
                        "type": "bar"
                      }
                    ],
                    "barpolar": [
                      {
                        "marker": {
                          "line": {
                            "color": "#E5ECF6",
                            "width": 0.5
                          },
                          "pattern": {
                            "fillmode": "overlay",
                            "size": 10,
                            "solidity": 0.2
                          }
                        },
                        "type": "barpolar"
                      }
                    ],
                    "carpet": [
                      {
                        "aaxis": {
                          "endlinecolor": "#2a3f5f",
                          "gridcolor": "white",
                          "linecolor": "white",
                          "minorgridcolor": "white",
                          "startlinecolor": "#2a3f5f"
                        },
                        "baxis": {
                          "endlinecolor": "#2a3f5f",
                          "gridcolor": "white",
                          "linecolor": "white",
                          "minorgridcolor": "white",
                          "startlinecolor": "#2a3f5f"
                        },
                        "type": "carpet"
                      }
                    ],
                    "choropleth": [
                      {
                        "colorbar": {
                          "outlinewidth": 0,
                          "ticks": ""
                        },
                        "type": "choropleth"
                      }
                    ],
                    "contour": [
                      {
                        "colorbar": {
                          "outlinewidth": 0,
                          "ticks": ""
                        },
                        "colorscale": [
                          [
                            0,
                            "#0d0887"
                          ],
                          [
                            0.1111111111111111,
                            "#46039f"
                          ],
                          [
                            0.2222222222222222,
                            "#7201a8"
                          ],
                          [
                            0.3333333333333333,
                            "#9c179e"
                          ],
                          [
                            0.4444444444444444,
                            "#bd3786"
                          ],
                          [
                            0.5555555555555556,
                            "#d8576b"
                          ],
                          [
                            0.6666666666666666,
                            "#ed7953"
                          ],
                          [
                            0.7777777777777778,
                            "#fb9f3a"
                          ],
                          [
                            0.8888888888888888,
                            "#fdca26"
                          ],
                          [
                            1,
                            "#f0f921"
                          ]
                        ],
                        "type": "contour"
                      }
                    ],
                    "contourcarpet": [
                      {
                        "colorbar": {
                          "outlinewidth": 0,
                          "ticks": ""
                        },
                        "type": "contourcarpet"
                      }
                    ],
                    "heatmap": [
                      {
                        "colorbar": {
                          "outlinewidth": 0,
                          "ticks": ""
                        },
                        "colorscale": [
                          [
                            0,
                            "#0d0887"
                          ],
                          [
                            0.1111111111111111,
                            "#46039f"
                          ],
                          [
                            0.2222222222222222,
                            "#7201a8"
                          ],
                          [
                            0.3333333333333333,
                            "#9c179e"
                          ],
                          [
                            0.4444444444444444,
                            "#bd3786"
                          ],
                          [
                            0.5555555555555556,
                            "#d8576b"
                          ],
                          [
                            0.6666666666666666,
                            "#ed7953"
                          ],
                          [
                            0.7777777777777778,
                            "#fb9f3a"
                          ],
                          [
                            0.8888888888888888,
                            "#fdca26"
                          ],
                          [
                            1,
                            "#f0f921"
                          ]
                        ],
                        "type": "heatmap"
                      }
                    ],
                    "histogram": [
                      {
                        "marker": {
                          "pattern": {
                            "fillmode": "overlay",
                            "size": 10,
                            "solidity": 0.2
                          }
                        },
                        "type": "histogram"
                      }
                    ],
                    "histogram2d": [
                      {
                        "colorbar": {
                          "outlinewidth": 0,
                          "ticks": ""
                        },
                        "colorscale": [
                          [
                            0,
                            "#0d0887"
                          ],
                          [
                            0.1111111111111111,
                            "#46039f"
                          ],
                          [
                            0.2222222222222222,
                            "#7201a8"
                          ],
                          [
                            0.3333333333333333,
                            "#9c179e"
                          ],
                          [
                            0.4444444444444444,
                            "#bd3786"
                          ],
                          [
                            0.5555555555555556,
                            "#d8576b"
                          ],
                          [
                            0.6666666666666666,
                            "#ed7953"
                          ],
                          [
                            0.7777777777777778,
                            "#fb9f3a"
                          ],
                          [
                            0.8888888888888888,
                            "#fdca26"
                          ],
                          [
                            1,
                            "#f0f921"
                          ]
                        ],
                        "type": "histogram2d"
                      }
                    ],
                    "histogram2dcontour": [
                      {
                        "colorbar": {
                          "outlinewidth": 0,
                          "ticks": ""
                        },
                        "colorscale": [
                          [
                            0,
                            "#0d0887"
                          ],
                          [
                            0.1111111111111111,
                            "#46039f"
                          ],
                          [
                            0.2222222222222222,
                            "#7201a8"
                          ],
                          [
                            0.3333333333333333,
                            "#9c179e"
                          ],
                          [
                            0.4444444444444444,
                            "#bd3786"
                          ],
                          [
                            0.5555555555555556,
                            "#d8576b"
                          ],
                          [
                            0.6666666666666666,
                            "#ed7953"
                          ],
                          [
                            0.7777777777777778,
                            "#fb9f3a"
                          ],
                          [
                            0.8888888888888888,
                            "#fdca26"
                          ],
                          [
                            1,
                            "#f0f921"
                          ]
                        ],
                        "type": "histogram2dcontour"
                      }
                    ],
                    "mesh3d": [
                      {
                        "colorbar": {
                          "outlinewidth": 0,
                          "ticks": ""
                        },
                        "type": "mesh3d"
                      }
                    ],
                    "parcoords": [
                      {
                        "line": {
                          "colorbar": {
                            "outlinewidth": 0,
                            "ticks": ""
                          }
                        },
                        "type": "parcoords"
                      }
                    ],
                    "pie": [
                      {
                        "automargin": true,
                        "type": "pie"
                      }
                    ],
                    "scatter": [
                      {
                        "fillpattern": {
                          "fillmode": "overlay",
                          "size": 10,
                          "solidity": 0.2
                        },
                        "type": "scatter"
                      }
                    ],
                    "scatter3d": [
                      {
                        "line": {
                          "colorbar": {
                            "outlinewidth": 0,
                            "ticks": ""
                          }
                        },
                        "marker": {
                          "colorbar": {
                            "outlinewidth": 0,
                            "ticks": ""
                          }
                        },
                        "type": "scatter3d"
                      }
                    ],
                    "scattercarpet": [
                      {
                        "marker": {
                          "colorbar": {
                            "outlinewidth": 0,
                            "ticks": ""
                          }
                        },
                        "type": "scattercarpet"
                      }
                    ],
                    "scattergeo": [
                      {
                        "marker": {
                          "colorbar": {
                            "outlinewidth": 0,
                            "ticks": ""
                          }
                        },
                        "type": "scattergeo"
                      }
                    ],
                    "scattergl": [
                      {
                        "marker": {
                          "colorbar": {
                            "outlinewidth": 0,
                            "ticks": ""
                          }
                        },
                        "type": "scattergl"
                      }
                    ],
                    "scattermap": [
                      {
                        "marker": {
                          "colorbar": {
                            "outlinewidth": 0,
                            "ticks": ""
                          }
                        },
                        "type": "scattermap"
                      }
                    ],
                    "scattermapbox": [
                      {
                        "marker": {
                          "colorbar": {
                            "outlinewidth": 0,
                            "ticks": ""
                          }
                        },
                        "type": "scattermapbox"
                      }
                    ],
                    "scatterpolar": [
                      {
                        "marker": {
                          "colorbar": {
                            "outlinewidth": 0,
                            "ticks": ""
                          }
                        },
                        "type": "scatterpolar"
                      }
                    ],
                    "scatterpolargl": [
                      {
                        "marker": {
                          "colorbar": {
                            "outlinewidth": 0,
                            "ticks": ""
                          }
                        },
                        "type": "scatterpolargl"
                      }
                    ],
                    "scatterternary": [
                      {
                        "marker": {
                          "colorbar": {
                            "outlinewidth": 0,
                            "ticks": ""
                          }
                        },
                        "type": "scatterternary"
                      }
                    ],
                    "surface": [
                      {
                        "colorbar": {
                          "outlinewidth": 0,
                          "ticks": ""
                        },
                        "colorscale": [
                          [
                            0,
                            "#0d0887"
                          ],
                          [
                            0.1111111111111111,
                            "#46039f"
                          ],
                          [
                            0.2222222222222222,
                            "#7201a8"
                          ],
                          [
                            0.3333333333333333,
                            "#9c179e"
                          ],
                          [
                            0.4444444444444444,
                            "#bd3786"
                          ],
                          [
                            0.5555555555555556,
                            "#d8576b"
                          ],
                          [
                            0.6666666666666666,
                            "#ed7953"
                          ],
                          [
                            0.7777777777777778,
                            "#fb9f3a"
                          ],
                          [
                            0.8888888888888888,
                            "#fdca26"
                          ],
                          [
                            1,
                            "#f0f921"
                          ]
                        ],
                        "type": "surface"
                      }
                    ],
                    "table": [
                      {
                        "cells": {
                          "fill": {
                            "color": "#EBF0F8"
                          },
                          "line": {
                            "color": "white"
                          }
                        },
                        "header": {
                          "fill": {
                            "color": "#C8D4E3"
                          },
                          "line": {
                            "color": "white"
                          }
                        },
                        "type": "table"
                      }
                    ]
                  },
                  "layout": {
                    "annotationdefaults": {
                      "arrowcolor": "#2a3f5f",
                      "arrowhead": 0,
                      "arrowwidth": 1
                    },
                    "autotypenumbers": "strict",
                    "coloraxis": {
                      "colorbar": {
                        "outlinewidth": 0,
                        "ticks": ""
                      }
                    },
                    "colorscale": {
                      "diverging": [
                        [
                          0,
                          "#8e0152"
                        ],
                        [
                          0.1,
                          "#c51b7d"
                        ],
                        [
                          0.2,
                          "#de77ae"
                        ],
                        [
                          0.3,
                          "#f1b6da"
                        ],
                        [
                          0.4,
                          "#fde0ef"
                        ],
                        [
                          0.5,
                          "#f7f7f7"
                        ],
                        [
                          0.6,
                          "#e6f5d0"
                        ],
                        [
                          0.7,
                          "#b8e186"
                        ],
                        [
                          0.8,
                          "#7fbc41"
                        ],
                        [
                          0.9,
                          "#4d9221"
                        ],
                        [
                          1,
                          "#276419"
                        ]
                      ],
                      "sequential": [
                        [
                          0,
                          "#0d0887"
                        ],
                        [
                          0.1111111111111111,
                          "#46039f"
                        ],
                        [
                          0.2222222222222222,
                          "#7201a8"
                        ],
                        [
                          0.3333333333333333,
                          "#9c179e"
                        ],
                        [
                          0.4444444444444444,
                          "#bd3786"
                        ],
                        [
                          0.5555555555555556,
                          "#d8576b"
                        ],
                        [
                          0.6666666666666666,
                          "#ed7953"
                        ],
                        [
                          0.7777777777777778,
                          "#fb9f3a"
                        ],
                        [
                          0.8888888888888888,
                          "#fdca26"
                        ],
                        [
                          1,
                          "#f0f921"
                        ]
                      ],
                      "sequentialminus": [
                        [
                          0,
                          "#0d0887"
                        ],
                        [
                          0.1111111111111111,
                          "#46039f"
                        ],
                        [
                          0.2222222222222222,
                          "#7201a8"
                        ],
                        [
                          0.3333333333333333,
                          "#9c179e"
                        ],
                        [
                          0.4444444444444444,
                          "#bd3786"
                        ],
                        [
                          0.5555555555555556,
                          "#d8576b"
                        ],
                        [
                          0.6666666666666666,
                          "#ed7953"
                        ],
                        [
                          0.7777777777777778,
                          "#fb9f3a"
                        ],
                        [
                          0.8888888888888888,
                          "#fdca26"
                        ],
                        [
                          1,
                          "#f0f921"
                        ]
                      ]
                    },
                    "colorway": [
                      "#636efa",
                      "#EF553B",
                      "#00cc96",
                      "#ab63fa",
                      "#FFA15A",
                      "#19d3f3",
                      "#FF6692",
                      "#B6E880",
                      "#FF97FF",
                      "#FECB52"
                    ],
                    "font": {
                      "color": "#2a3f5f"
                    },
                    "geo": {
                      "bgcolor": "white",
                      "lakecolor": "white",
                      "landcolor": "#E5ECF6",
                      "showlakes": true,
                      "showland": true,
                      "subunitcolor": "white"
                    },
                    "hoverlabel": {
                      "align": "left"
                    },
                    "hovermode": "closest",
                    "mapbox": {
                      "style": "light"
                    },
                    "paper_bgcolor": "white",
                    "plot_bgcolor": "#E5ECF6",
                    "polar": {
                      "angularaxis": {
                        "gridcolor": "white",
                        "linecolor": "white",
                        "ticks": ""
                      },
                      "bgcolor": "#E5ECF6",
                      "radialaxis": {
                        "gridcolor": "white",
                        "linecolor": "white",
                        "ticks": ""
                      }
                    },
                    "scene": {
                      "xaxis": {
                        "backgroundcolor": "#E5ECF6",
                        "gridcolor": "white",
                        "gridwidth": 2,
                        "linecolor": "white",
                        "showbackground": true,
                        "ticks": "",
                        "zerolinecolor": "white"
                      },
                      "yaxis": {
                        "backgroundcolor": "#E5ECF6",
                        "gridcolor": "white",
                        "gridwidth": 2,
                        "linecolor": "white",
                        "showbackground": true,
                        "ticks": "",
                        "zerolinecolor": "white"
                      },
                      "zaxis": {
                        "backgroundcolor": "#E5ECF6",
                        "gridcolor": "white",
                        "gridwidth": 2,
                        "linecolor": "white",
                        "showbackground": true,
                        "ticks": "",
                        "zerolinecolor": "white"
                      }
                    },
                    "shapedefaults": {
                      "line": {
                        "color": "#2a3f5f"
                      }
                    },
                    "ternary": {
                      "aaxis": {
                        "gridcolor": "white",
                        "linecolor": "white",
                        "ticks": ""
                      },
                      "baxis": {
                        "gridcolor": "white",
                        "linecolor": "white",
                        "ticks": ""
                      },
                      "bgcolor": "#E5ECF6",
                      "caxis": {
                        "gridcolor": "white",
                        "linecolor": "white",
                        "ticks": ""
                      }
                    },
                    "title": {
                      "x": 0.05
                    },
                    "xaxis": {
                      "automargin": true,
                      "gridcolor": "white",
                      "linecolor": "white",
                      "ticks": "",
                      "title": {
                        "standoff": 15
                      },
                      "zerolinecolor": "white",
                      "zerolinewidth": 2
                    },
                    "yaxis": {
                      "automargin": true,
                      "gridcolor": "white",
                      "linecolor": "white",
                      "ticks": "",
                      "title": {
                        "standoff": 15
                      },
                      "zerolinecolor": "white",
                      "zerolinewidth": 2
                    }
                  }
                },
                "title": {
                  "text": "🕒 Patient Timelines Through the Clinic"
                },
                "xaxis": {
                  "anchor": "y",
                  "domain": [
                    0,
                    1
                  ],
                  "type": "date"
                },
                "yaxis": {
                  "anchor": "x",
                  "autorange": "reversed",
                  "domain": [
                    0,
                    1
                  ],
                  "title": {
                    "text": "Patient ID"
                  }
                }
              }
            }
          },
          "metadata": {},
          "output_type": "display_data"
        }
      ],
      "source": [
        "from datetime import datetime, date, time\n",
        "\n",
        "# Sample size\n",
        "sample_size = 10\n",
        "sample_df = patients_df.sample(n=sample_size, random_state=42).copy()\n",
        "\n",
        "# Define the base date to use\n",
        "base_date = date(2025, 5, 15)\n",
        "\n",
        "# Convert all time columns to datetime using the fixed base date\n",
        "time_cols = [\n",
        "    'CheckInStart', 'CheckInEnd',\n",
        "    'TriageIn', 'TriageOut',\n",
        "    'ConsultationIn', 'ConsultationOut',\n",
        "    'TestIn', 'TestOut',\n",
        "    'PrescriptionDropoff', 'PrescriptionCollectionTime',\n",
        "    'BillingIn', 'BillingOut'\n",
        "]\n",
        "\n",
        "# Combine time with base_date to create full datetime\n",
        "for col in time_cols:\n",
        "    sample_df[col] = sample_df[col].apply(\n",
        "        lambda t: datetime.combine(base_date, t) if pd.notnull(t) else pd.NaT\n",
        "    )\n",
        "\n",
        "# Create long-form DataFrame for Gantt chart\n",
        "timeline_data = []\n",
        "for _, row in sample_df.iterrows():\n",
        "    pid = row['PatientID']\n",
        "    timeline_data.extend([\n",
        "        {'PatientID': pid, 'Stage': 'Check-In', 'Start': row['CheckInStart'], 'End': row['CheckInEnd']},\n",
        "        {'PatientID': pid, 'Stage': 'Triage', 'Start': row['TriageIn'], 'End': row['TriageOut']},\n",
        "        {'PatientID': pid, 'Stage': 'Consultation', 'Start': row['ConsultationIn'], 'End': row['ConsultationOut']},\n",
        "        {'PatientID': pid, 'Stage': 'Test', 'Start': row['TestIn'], 'End': row['TestOut']},\n",
        "        {'PatientID': pid, 'Stage': 'Pharmacy', 'Start': row['PrescriptionDropoff'], 'End': row['PrescriptionCollectionTime']},\n",
        "        {'PatientID': pid, 'Stage': 'Billing', 'Start': row['BillingIn'], 'End': row['BillingOut']},\n",
        "    ])\n",
        "\n",
        "timeline_df = pd.DataFrame(timeline_data)\n",
        "\n",
        "# Drop rows with missing start or end times\n",
        "timeline_df.dropna(subset=['Start', 'End'], inplace=True)\n",
        "\n",
        "# Plot using Plotly Express\n",
        "fig = px.timeline(\n",
        "    timeline_df,\n",
        "    x_start=\"Start\", x_end=\"End\",\n",
        "    y=\"PatientID\",\n",
        "    color=\"Stage\",\n",
        "    title=\"🕒 Patient Timelines Through the Clinic\",\n",
        "    labels={\"PatientID\": \"Patient ID\", \"Stage\": \"Clinic Stage\"},\n",
        ")\n",
        "\n",
        "# Uniform and larger bar thickness\n",
        "fig.update_traces(width=1.5)  # Adjust this value (0.2 to 0.6) to control bar height\n",
        "\n",
        "# Improve appearance\n",
        "fig.update_yaxes(autorange=\"reversed\")\n",
        "fig.update_layout(\n",
        "    height=1000,\n",
        "    margin=dict(l=50, r=50, t=80, b=40),\n",
        "    plot_bgcolor='rgb(245, 245, 245)',\n",
        "    paper_bgcolor='rgb(245, 245, 245)',\n",
        ")\n",
        "\n",
        "fig.show()\n"
      ]
    },
    {
      "cell_type": "markdown",
      "metadata": {
        "id": "lpgzMWK-eKWx"
      },
      "source": [
        "### 📦 Box Plot: Processing Time per Station\n",
        "\n",
        "This box plot visualizes the **distribution of processing times** (in minutes) across key clinical stations:  \n",
        "**Check-In, Triage, Consultation, Diagnostic Tests (Blood Test, Neuroimaging, EEG), Pharmacy,** and **Billing**.\n",
        "\n",
        "- Each box represents the **median**, **interquartile range (Q1–Q3)**, and **outliers**.\n",
        "- Diagnostic tests include only patients routed to those tests.\n",
        "- Helps identify time-intensive stages and variability across stations."
      ]
    },
    {
      "cell_type": "code",
      "execution_count": 41,
      "metadata": {
        "colab": {
          "base_uri": "https://localhost:8080/",
          "height": 542
        },
        "id": "rmYULTJJN6Q5",
        "outputId": "cb0b469c-fb0f-42e7-e311-c7f4d24cabee"
      },
      "outputs": [
        {
          "data": {
            "application/vnd.plotly.v1+json": {
              "config": {
                "plotlyServerURL": "https://plot.ly"
              },
              "data": [
                {
                  "fillcolor": "rgba(93, 164, 214, 0.5)",
                  "line": {
                    "width": 2
                  },
                  "name": "Check-In",
                  "type": "box",
                  "whiskerwidth": 1,
                  "y": {
                    "bdata": "AQEBAQEBAwEBAgIBAQEDAgEDAwIDAQEBAQIDAQEBAwEBAQEDAwEDAgMBAQECAQEBAgECAwECAQMBAgMDAgECAwIBAwICAQIBAgECAwEDAQMDAgMDAQECAwMDAQMBAgEBAQECAQ==",
                    "dtype": "i1"
                  }
                },
                {
                  "fillcolor": "rgba(255, 144, 14, 0.5)",
                  "line": {
                    "width": 2
                  },
                  "name": "Triage",
                  "type": "box",
                  "whiskerwidth": 1,
                  "y": {
                    "bdata": "AwMEBAQEAwQEBAUFAwQDAwQEBAUEBAQDAwQEBQUDBQUDBAUEBQUEBAQEAwMEAwQFBAQEAwQEAwMDAwMDBQQEBQQEBAMDAwUEBQQFBAQDAwUDBAMEBAQFBQMDBAUFAwMEBAMFBA==",
                    "dtype": "i1"
                  }
                },
                {
                  "fillcolor": "rgba(44, 160, 101, 0.5)",
                  "line": {
                    "width": 2
                  },
                  "name": "Consultation",
                  "type": "box",
                  "whiskerwidth": 1,
                  "y": {
                    "bdata": "ERIPEhEQEhIPEQ8SEhASEBASEBERERARERISEA8TEhQQERETERMTEREQERMQEhAQEREPFBEQExETEA8RDxISExAPEBETFBMSExEREhASEhQREhIREBMQEBMTERESEBATEhMQEQ==",
                    "dtype": "i1"
                  }
                },
                {
                  "fillcolor": "rgba(255, 65, 54, 0.5)",
                  "line": {
                    "width": 2
                  },
                  "name": "Pharmacy",
                  "type": "box",
                  "whiskerwidth": 1,
                  "y": {
                    "bdata": "CgsKCwoKCgkJCQoKCgoJCwsKCQoKCQoJCgoJCwkKCwsKCgoKCgsKDAsLCgkKCAoLCwsKCgkKCAoKCwoKCAoLCgoKCwoIDAoLCgoLCgoLCwoLCgoKCgoKCwoKCgsKCgoJCgoJDA==",
                    "dtype": "i1"
                  }
                },
                {
                  "fillcolor": "rgba(207, 114, 255, 0.5)",
                  "line": {
                    "width": 2
                  },
                  "name": "Billing",
                  "type": "box",
                  "whiskerwidth": 1,
                  "y": {
                    "bdata": "BgYFBgYGBwYFBgUGBgYFBQUGBgUEBQUFBgYFBQYFBgYFBAUGBgUGBgUFBgUFBQQGBQUFBgUFBQYFBQUFBgUGBgYGBQYFBgcFBQUGBQYFBQUGBgUGBgUFBQYGBQUFBQUGBQYFBQ==",
                    "dtype": "i1"
                  }
                },
                {
                  "fillcolor": "rgba(127, 96, 0, 0.5)",
                  "line": {
                    "width": 2
                  },
                  "name": "Blood Test",
                  "type": "box",
                  "whiskerwidth": 1,
                  "y": {
                    "bdata": "AAAAAAAA+H8AAAAAAAD4fwAAAAAAAPh/AAAAAAAA+H8AAAAAAAAqQAAAAAAAAChAAAAAAAAAKkAAAAAAAAD4fwAAAAAAAPh/AAAAAAAA+H8AAAAAAAAmQAAAAAAAAPh/AAAAAAAA+H8AAAAAAAD4fwAAAAAAAC5AAAAAAAAALEAAAAAAAAD4fwAAAAAAAPh/AAAAAAAA+H8AAAAAAAD4fwAAAAAAAPh/AAAAAAAAKkAAAAAAAAD4fwAAAAAAAPh/AAAAAAAA+H8AAAAAAAD4fwAAAAAAACxAAAAAAAAA+H8AAAAAAAD4fwAAAAAAAChAAAAAAAAA+H8AAAAAAAAsQAAAAAAAACZAAAAAAAAA+H8AAAAAAAD4fwAAAAAAAPh/AAAAAAAA+H8AAAAAAAAoQAAAAAAAAPh/AAAAAAAA+H8AAAAAAAAsQAAAAAAAAPh/AAAAAAAAKEAAAAAAAAD4fwAAAAAAAPh/AAAAAAAA+H8AAAAAAAD4fwAAAAAAAPh/AAAAAAAA+H8AAAAAAAAqQAAAAAAAAPh/AAAAAAAA+H8AAAAAAAD4fwAAAAAAAPh/AAAAAAAA+H8AAAAAAAD4fwAAAAAAAChAAAAAAAAAKEAAAAAAAAAoQAAAAAAAAPh/AAAAAAAA+H8AAAAAAAD4fwAAAAAAAPh/AAAAAAAA+H8AAAAAAAD4fwAAAAAAAPh/AAAAAAAAKkAAAAAAAAD4fwAAAAAAACRAAAAAAAAA+H8AAAAAAAD4fwAAAAAAAChAAAAAAAAAKEAAAAAAAAD4fwAAAAAAAPh/AAAAAAAA+H8AAAAAAAD4fwAAAAAAACRAAAAAAAAA+H8AAAAAAAAoQAAAAAAAAPh/AAAAAAAA+H8AAAAAAAD4fwAAAAAAAChAAAAAAAAA+H8AAAAAAAD4fwAAAAAAAPh/AAAAAAAA+H8AAAAAAAD4fwAAAAAAAPh/AAAAAAAAKEAAAAAAAAD4fwAAAAAAAPh/AAAAAAAA+H8AAAAAAAD4fwAAAAAAAPh/AAAAAAAA+H8AAAAAAAD4fwAAAAAAAChAAAAAAAAAKEA=",
                    "dtype": "f8"
                  }
                },
                {
                  "fillcolor": "rgba(127, 166, 238, 0.5)",
                  "line": {
                    "width": 2
                  },
                  "name": "Neuroimaging",
                  "type": "box",
                  "whiskerwidth": 1,
                  "y": {
                    "bdata": "AAAAAAAA+H8AAAAAAAD4fwAAAAAAAPh/AAAAAAAA+H8AAAAAAAD4fwAAAAAAAPh/AAAAAAAA+H8AAAAAAAD4fwAAAAAAAPh/AAAAAAAA+H8AAAAAAAD4fwAAAAAAAPh/AAAAAAAA+H8AAAAAAIBJQAAAAAAAAPh/AAAAAAAA+H8AAAAAAAD4fwAAAAAAAPh/AAAAAAAA+H8AAAAAAABCQAAAAAAAAPh/AAAAAAAA+H8AAAAAAABJQAAAAAAAAPh/AAAAAAAA+H8AAAAAAAD4fwAAAAAAAPh/AAAAAAAA+H8AAAAAAAD4fwAAAAAAAPh/AAAAAAAA+H8AAAAAAAD4fwAAAAAAAPh/AAAAAAAA+H8AAAAAAAD4fwAAAAAAAPh/AAAAAAAA+H8AAAAAAAD4fwAAAAAAAPh/AAAAAAAA+H8AAAAAAAD4fwAAAAAAAPh/AAAAAAAA+H8AAAAAAAD4fwAAAAAAAERAAAAAAAAA+H8AAAAAAAD4fwAAAAAAAPh/AAAAAAAA+H8AAAAAAAD4fwAAAAAAAPh/AAAAAAAA+H8AAAAAAAD4fwAAAAAAAPh/AAAAAAAA+H8AAAAAAAD4fwAAAAAAAPh/AAAAAAAA+H8AAAAAAAD4fwAAAAAAAPh/AAAAAAAA+H8AAAAAAIBIQAAAAAAAAPh/AAAAAAAA+H8AAAAAAABOQAAAAAAAAPh/AAAAAAAA+H8AAAAAAAD4fwAAAAAAAPh/AAAAAAAA+H8AAAAAAAD4fwAAAAAAAPh/AAAAAAAA+H8AAAAAAAD4fwAAAAAAAPh/AAAAAAAA+H8AAAAAAAD4fwAAAAAAAPh/AAAAAAAA+H8AAAAAAAD4fwAAAAAAAPh/AAAAAAAA+H8AAAAAAAD4fwAAAAAAAPh/AAAAAAAA+H8AAAAAAAD4fwAAAAAAAPh/AAAAAAAA+H8AAAAAAAD4fwAAAAAAAPh/AAAAAAAA+H8AAAAAAAD4fwAAAAAAAPh/AAAAAAAA+H8AAAAAAAD4fwAAAAAAAPh/AAAAAAAA+H8AAAAAAAD4fwAAAAAAAPh/AAAAAAAA+H8=",
                    "dtype": "f8"
                  }
                },
                {
                  "fillcolor": "rgba(234, 153, 153, 0.5)",
                  "line": {
                    "width": 2
                  },
                  "name": "EEG",
                  "type": "box",
                  "whiskerwidth": 1,
                  "y": {
                    "bdata": "AAAAAACASEAAAAAAAAD4fwAAAAAAAPh/AAAAAAAA+H8AAAAAAAD4fwAAAAAAAPh/AAAAAAAA+H8AAAAAAAD4fwAAAAAAAPh/AAAAAAAA+H8AAAAAAAD4fwAAAAAAAPh/AAAAAAAA+H8AAAAAAAD4fwAAAAAAAPh/AAAAAAAA+H8AAAAAAABJQAAAAAAAAPh/AAAAAAAA+H8AAAAAAAD4fwAAAAAAAPh/AAAAAAAA+H8AAAAAAAD4fwAAAAAAgE1AAAAAAAAA+H8AAAAAAAD4fwAAAAAAAPh/AAAAAAAA+H8AAAAAAAD4fwAAAAAAAPh/AAAAAAAA+H8AAAAAAAD4fwAAAAAAAPh/AAAAAAAA+H8AAAAAAAD4fwAAAAAAAPh/AAAAAAAATEAAAAAAAAD4fwAAAAAAAPh/AAAAAAAA+H8AAAAAAAD4fwAAAAAAAPh/AAAAAAAA+H8AAAAAAAD4fwAAAAAAAPh/AAAAAAAA+H8AAAAAAIBHQAAAAAAAAPh/AAAAAAAA+H8AAAAAAAD4fwAAAAAAAPh/AAAAAAAA+H8AAAAAAAD4fwAAAAAAAPh/AAAAAAAA+H8AAAAAAAD4fwAAAAAAAPh/AAAAAAAA+H8AAAAAAAD4fwAAAAAAgEpAAAAAAACAS0AAAAAAAAD4fwAAAAAAAPh/AAAAAACASEAAAAAAAAD4fwAAAAAAAPh/AAAAAAAA+H8AAAAAAAD4fwAAAAAAAPh/AAAAAAAA+H8AAAAAAAD4fwAAAAAAAPh/AAAAAAAA+H8AAAAAAAD4fwAAAAAAAPh/AAAAAAAA+H8AAAAAAAD4fwAAAAAAAPh/AAAAAAAASUAAAAAAAAD4fwAAAAAAAPh/AAAAAAAA+H8AAAAAAIBJQAAAAAAAAPh/AAAAAACASUAAAAAAAIBLQAAAAAAAAPh/AAAAAAAA+H8AAAAAAAD4fwAAAAAAAPh/AAAAAAAA+H8AAAAAAAD4fwAAAAAAAPh/AAAAAAAA+H8AAAAAAAD4fwAAAAAAAPh/AAAAAAAA+H8AAAAAAAD4fwAAAAAAAPh/AAAAAAAA+H8=",
                    "dtype": "f8"
                  }
                }
              ],
              "layout": {
                "margin": {
                  "b": 80,
                  "l": 40,
                  "r": 30,
                  "t": 100
                },
                "paper_bgcolor": "rgb(243, 243, 243)",
                "plot_bgcolor": "rgb(243, 243, 243)",
                "showlegend": false,
                "template": {
                  "data": {
                    "bar": [
                      {
                        "error_x": {
                          "color": "#2a3f5f"
                        },
                        "error_y": {
                          "color": "#2a3f5f"
                        },
                        "marker": {
                          "line": {
                            "color": "#E5ECF6",
                            "width": 0.5
                          },
                          "pattern": {
                            "fillmode": "overlay",
                            "size": 10,
                            "solidity": 0.2
                          }
                        },
                        "type": "bar"
                      }
                    ],
                    "barpolar": [
                      {
                        "marker": {
                          "line": {
                            "color": "#E5ECF6",
                            "width": 0.5
                          },
                          "pattern": {
                            "fillmode": "overlay",
                            "size": 10,
                            "solidity": 0.2
                          }
                        },
                        "type": "barpolar"
                      }
                    ],
                    "carpet": [
                      {
                        "aaxis": {
                          "endlinecolor": "#2a3f5f",
                          "gridcolor": "white",
                          "linecolor": "white",
                          "minorgridcolor": "white",
                          "startlinecolor": "#2a3f5f"
                        },
                        "baxis": {
                          "endlinecolor": "#2a3f5f",
                          "gridcolor": "white",
                          "linecolor": "white",
                          "minorgridcolor": "white",
                          "startlinecolor": "#2a3f5f"
                        },
                        "type": "carpet"
                      }
                    ],
                    "choropleth": [
                      {
                        "colorbar": {
                          "outlinewidth": 0,
                          "ticks": ""
                        },
                        "type": "choropleth"
                      }
                    ],
                    "contour": [
                      {
                        "colorbar": {
                          "outlinewidth": 0,
                          "ticks": ""
                        },
                        "colorscale": [
                          [
                            0,
                            "#0d0887"
                          ],
                          [
                            0.1111111111111111,
                            "#46039f"
                          ],
                          [
                            0.2222222222222222,
                            "#7201a8"
                          ],
                          [
                            0.3333333333333333,
                            "#9c179e"
                          ],
                          [
                            0.4444444444444444,
                            "#bd3786"
                          ],
                          [
                            0.5555555555555556,
                            "#d8576b"
                          ],
                          [
                            0.6666666666666666,
                            "#ed7953"
                          ],
                          [
                            0.7777777777777778,
                            "#fb9f3a"
                          ],
                          [
                            0.8888888888888888,
                            "#fdca26"
                          ],
                          [
                            1,
                            "#f0f921"
                          ]
                        ],
                        "type": "contour"
                      }
                    ],
                    "contourcarpet": [
                      {
                        "colorbar": {
                          "outlinewidth": 0,
                          "ticks": ""
                        },
                        "type": "contourcarpet"
                      }
                    ],
                    "heatmap": [
                      {
                        "colorbar": {
                          "outlinewidth": 0,
                          "ticks": ""
                        },
                        "colorscale": [
                          [
                            0,
                            "#0d0887"
                          ],
                          [
                            0.1111111111111111,
                            "#46039f"
                          ],
                          [
                            0.2222222222222222,
                            "#7201a8"
                          ],
                          [
                            0.3333333333333333,
                            "#9c179e"
                          ],
                          [
                            0.4444444444444444,
                            "#bd3786"
                          ],
                          [
                            0.5555555555555556,
                            "#d8576b"
                          ],
                          [
                            0.6666666666666666,
                            "#ed7953"
                          ],
                          [
                            0.7777777777777778,
                            "#fb9f3a"
                          ],
                          [
                            0.8888888888888888,
                            "#fdca26"
                          ],
                          [
                            1,
                            "#f0f921"
                          ]
                        ],
                        "type": "heatmap"
                      }
                    ],
                    "histogram": [
                      {
                        "marker": {
                          "pattern": {
                            "fillmode": "overlay",
                            "size": 10,
                            "solidity": 0.2
                          }
                        },
                        "type": "histogram"
                      }
                    ],
                    "histogram2d": [
                      {
                        "colorbar": {
                          "outlinewidth": 0,
                          "ticks": ""
                        },
                        "colorscale": [
                          [
                            0,
                            "#0d0887"
                          ],
                          [
                            0.1111111111111111,
                            "#46039f"
                          ],
                          [
                            0.2222222222222222,
                            "#7201a8"
                          ],
                          [
                            0.3333333333333333,
                            "#9c179e"
                          ],
                          [
                            0.4444444444444444,
                            "#bd3786"
                          ],
                          [
                            0.5555555555555556,
                            "#d8576b"
                          ],
                          [
                            0.6666666666666666,
                            "#ed7953"
                          ],
                          [
                            0.7777777777777778,
                            "#fb9f3a"
                          ],
                          [
                            0.8888888888888888,
                            "#fdca26"
                          ],
                          [
                            1,
                            "#f0f921"
                          ]
                        ],
                        "type": "histogram2d"
                      }
                    ],
                    "histogram2dcontour": [
                      {
                        "colorbar": {
                          "outlinewidth": 0,
                          "ticks": ""
                        },
                        "colorscale": [
                          [
                            0,
                            "#0d0887"
                          ],
                          [
                            0.1111111111111111,
                            "#46039f"
                          ],
                          [
                            0.2222222222222222,
                            "#7201a8"
                          ],
                          [
                            0.3333333333333333,
                            "#9c179e"
                          ],
                          [
                            0.4444444444444444,
                            "#bd3786"
                          ],
                          [
                            0.5555555555555556,
                            "#d8576b"
                          ],
                          [
                            0.6666666666666666,
                            "#ed7953"
                          ],
                          [
                            0.7777777777777778,
                            "#fb9f3a"
                          ],
                          [
                            0.8888888888888888,
                            "#fdca26"
                          ],
                          [
                            1,
                            "#f0f921"
                          ]
                        ],
                        "type": "histogram2dcontour"
                      }
                    ],
                    "mesh3d": [
                      {
                        "colorbar": {
                          "outlinewidth": 0,
                          "ticks": ""
                        },
                        "type": "mesh3d"
                      }
                    ],
                    "parcoords": [
                      {
                        "line": {
                          "colorbar": {
                            "outlinewidth": 0,
                            "ticks": ""
                          }
                        },
                        "type": "parcoords"
                      }
                    ],
                    "pie": [
                      {
                        "automargin": true,
                        "type": "pie"
                      }
                    ],
                    "scatter": [
                      {
                        "fillpattern": {
                          "fillmode": "overlay",
                          "size": 10,
                          "solidity": 0.2
                        },
                        "type": "scatter"
                      }
                    ],
                    "scatter3d": [
                      {
                        "line": {
                          "colorbar": {
                            "outlinewidth": 0,
                            "ticks": ""
                          }
                        },
                        "marker": {
                          "colorbar": {
                            "outlinewidth": 0,
                            "ticks": ""
                          }
                        },
                        "type": "scatter3d"
                      }
                    ],
                    "scattercarpet": [
                      {
                        "marker": {
                          "colorbar": {
                            "outlinewidth": 0,
                            "ticks": ""
                          }
                        },
                        "type": "scattercarpet"
                      }
                    ],
                    "scattergeo": [
                      {
                        "marker": {
                          "colorbar": {
                            "outlinewidth": 0,
                            "ticks": ""
                          }
                        },
                        "type": "scattergeo"
                      }
                    ],
                    "scattergl": [
                      {
                        "marker": {
                          "colorbar": {
                            "outlinewidth": 0,
                            "ticks": ""
                          }
                        },
                        "type": "scattergl"
                      }
                    ],
                    "scattermap": [
                      {
                        "marker": {
                          "colorbar": {
                            "outlinewidth": 0,
                            "ticks": ""
                          }
                        },
                        "type": "scattermap"
                      }
                    ],
                    "scattermapbox": [
                      {
                        "marker": {
                          "colorbar": {
                            "outlinewidth": 0,
                            "ticks": ""
                          }
                        },
                        "type": "scattermapbox"
                      }
                    ],
                    "scatterpolar": [
                      {
                        "marker": {
                          "colorbar": {
                            "outlinewidth": 0,
                            "ticks": ""
                          }
                        },
                        "type": "scatterpolar"
                      }
                    ],
                    "scatterpolargl": [
                      {
                        "marker": {
                          "colorbar": {
                            "outlinewidth": 0,
                            "ticks": ""
                          }
                        },
                        "type": "scatterpolargl"
                      }
                    ],
                    "scatterternary": [
                      {
                        "marker": {
                          "colorbar": {
                            "outlinewidth": 0,
                            "ticks": ""
                          }
                        },
                        "type": "scatterternary"
                      }
                    ],
                    "surface": [
                      {
                        "colorbar": {
                          "outlinewidth": 0,
                          "ticks": ""
                        },
                        "colorscale": [
                          [
                            0,
                            "#0d0887"
                          ],
                          [
                            0.1111111111111111,
                            "#46039f"
                          ],
                          [
                            0.2222222222222222,
                            "#7201a8"
                          ],
                          [
                            0.3333333333333333,
                            "#9c179e"
                          ],
                          [
                            0.4444444444444444,
                            "#bd3786"
                          ],
                          [
                            0.5555555555555556,
                            "#d8576b"
                          ],
                          [
                            0.6666666666666666,
                            "#ed7953"
                          ],
                          [
                            0.7777777777777778,
                            "#fb9f3a"
                          ],
                          [
                            0.8888888888888888,
                            "#fdca26"
                          ],
                          [
                            1,
                            "#f0f921"
                          ]
                        ],
                        "type": "surface"
                      }
                    ],
                    "table": [
                      {
                        "cells": {
                          "fill": {
                            "color": "#EBF0F8"
                          },
                          "line": {
                            "color": "white"
                          }
                        },
                        "header": {
                          "fill": {
                            "color": "#C8D4E3"
                          },
                          "line": {
                            "color": "white"
                          }
                        },
                        "type": "table"
                      }
                    ]
                  },
                  "layout": {
                    "annotationdefaults": {
                      "arrowcolor": "#2a3f5f",
                      "arrowhead": 0,
                      "arrowwidth": 1
                    },
                    "autotypenumbers": "strict",
                    "coloraxis": {
                      "colorbar": {
                        "outlinewidth": 0,
                        "ticks": ""
                      }
                    },
                    "colorscale": {
                      "diverging": [
                        [
                          0,
                          "#8e0152"
                        ],
                        [
                          0.1,
                          "#c51b7d"
                        ],
                        [
                          0.2,
                          "#de77ae"
                        ],
                        [
                          0.3,
                          "#f1b6da"
                        ],
                        [
                          0.4,
                          "#fde0ef"
                        ],
                        [
                          0.5,
                          "#f7f7f7"
                        ],
                        [
                          0.6,
                          "#e6f5d0"
                        ],
                        [
                          0.7,
                          "#b8e186"
                        ],
                        [
                          0.8,
                          "#7fbc41"
                        ],
                        [
                          0.9,
                          "#4d9221"
                        ],
                        [
                          1,
                          "#276419"
                        ]
                      ],
                      "sequential": [
                        [
                          0,
                          "#0d0887"
                        ],
                        [
                          0.1111111111111111,
                          "#46039f"
                        ],
                        [
                          0.2222222222222222,
                          "#7201a8"
                        ],
                        [
                          0.3333333333333333,
                          "#9c179e"
                        ],
                        [
                          0.4444444444444444,
                          "#bd3786"
                        ],
                        [
                          0.5555555555555556,
                          "#d8576b"
                        ],
                        [
                          0.6666666666666666,
                          "#ed7953"
                        ],
                        [
                          0.7777777777777778,
                          "#fb9f3a"
                        ],
                        [
                          0.8888888888888888,
                          "#fdca26"
                        ],
                        [
                          1,
                          "#f0f921"
                        ]
                      ],
                      "sequentialminus": [
                        [
                          0,
                          "#0d0887"
                        ],
                        [
                          0.1111111111111111,
                          "#46039f"
                        ],
                        [
                          0.2222222222222222,
                          "#7201a8"
                        ],
                        [
                          0.3333333333333333,
                          "#9c179e"
                        ],
                        [
                          0.4444444444444444,
                          "#bd3786"
                        ],
                        [
                          0.5555555555555556,
                          "#d8576b"
                        ],
                        [
                          0.6666666666666666,
                          "#ed7953"
                        ],
                        [
                          0.7777777777777778,
                          "#fb9f3a"
                        ],
                        [
                          0.8888888888888888,
                          "#fdca26"
                        ],
                        [
                          1,
                          "#f0f921"
                        ]
                      ]
                    },
                    "colorway": [
                      "#636efa",
                      "#EF553B",
                      "#00cc96",
                      "#ab63fa",
                      "#FFA15A",
                      "#19d3f3",
                      "#FF6692",
                      "#B6E880",
                      "#FF97FF",
                      "#FECB52"
                    ],
                    "font": {
                      "color": "#2a3f5f"
                    },
                    "geo": {
                      "bgcolor": "white",
                      "lakecolor": "white",
                      "landcolor": "#E5ECF6",
                      "showlakes": true,
                      "showland": true,
                      "subunitcolor": "white"
                    },
                    "hoverlabel": {
                      "align": "left"
                    },
                    "hovermode": "closest",
                    "mapbox": {
                      "style": "light"
                    },
                    "paper_bgcolor": "white",
                    "plot_bgcolor": "#E5ECF6",
                    "polar": {
                      "angularaxis": {
                        "gridcolor": "white",
                        "linecolor": "white",
                        "ticks": ""
                      },
                      "bgcolor": "#E5ECF6",
                      "radialaxis": {
                        "gridcolor": "white",
                        "linecolor": "white",
                        "ticks": ""
                      }
                    },
                    "scene": {
                      "xaxis": {
                        "backgroundcolor": "#E5ECF6",
                        "gridcolor": "white",
                        "gridwidth": 2,
                        "linecolor": "white",
                        "showbackground": true,
                        "ticks": "",
                        "zerolinecolor": "white"
                      },
                      "yaxis": {
                        "backgroundcolor": "#E5ECF6",
                        "gridcolor": "white",
                        "gridwidth": 2,
                        "linecolor": "white",
                        "showbackground": true,
                        "ticks": "",
                        "zerolinecolor": "white"
                      },
                      "zaxis": {
                        "backgroundcolor": "#E5ECF6",
                        "gridcolor": "white",
                        "gridwidth": 2,
                        "linecolor": "white",
                        "showbackground": true,
                        "ticks": "",
                        "zerolinecolor": "white"
                      }
                    },
                    "shapedefaults": {
                      "line": {
                        "color": "#2a3f5f"
                      }
                    },
                    "ternary": {
                      "aaxis": {
                        "gridcolor": "white",
                        "linecolor": "white",
                        "ticks": ""
                      },
                      "baxis": {
                        "gridcolor": "white",
                        "linecolor": "white",
                        "ticks": ""
                      },
                      "bgcolor": "#E5ECF6",
                      "caxis": {
                        "gridcolor": "white",
                        "linecolor": "white",
                        "ticks": ""
                      }
                    },
                    "title": {
                      "x": 0.05
                    },
                    "xaxis": {
                      "automargin": true,
                      "gridcolor": "white",
                      "linecolor": "white",
                      "ticks": "",
                      "title": {
                        "standoff": 15
                      },
                      "zerolinecolor": "white",
                      "zerolinewidth": 2
                    },
                    "yaxis": {
                      "automargin": true,
                      "gridcolor": "white",
                      "linecolor": "white",
                      "ticks": "",
                      "title": {
                        "standoff": 15
                      },
                      "zerolinecolor": "white",
                      "zerolinewidth": 2
                    }
                  }
                },
                "title": {
                  "text": "Processing Time per Station (Minutes)"
                },
                "yaxis": {
                  "autorange": true,
                  "dtick": 5,
                  "gridcolor": "rgb(255, 255, 255)",
                  "gridwidth": 1,
                  "showgrid": true,
                  "zeroline": true,
                  "zerolinecolor": "rgb(255, 255, 255)",
                  "zerolinewidth": 2
                }
              }
            }
          },
          "metadata": {},
          "output_type": "display_data"
        }
      ],
      "source": [
        "# 1. Create processing time DataFrame\n",
        "processing_df = pd.DataFrame({\n",
        "    'Check-In': patients_df['CheckInDurationMin'],\n",
        "    'Triage': patients_df['TriageDurationMin'],\n",
        "    'Consultation': patients_df['TotalConsultationTimeMin'],\n",
        "    'Pharmacy': patients_df['PrescriptionFindTime'] + patients_df['ExplanationTimeMin'],\n",
        "    'Billing': patients_df['BillingDurationMin']\n",
        "})\n",
        "\n",
        "# Add diagnostic test durations with NaNs for non-participants\n",
        "for test in ['Blood Test', 'Neuroimaging', 'EEG']:\n",
        "    mask = patients_df['DiagnosticTests'] == test\n",
        "    processing_df[test] = np.where(mask, patients_df['TestDurationMin'], np.nan)\n",
        "\n",
        "# 2. Plotly box plot figure\n",
        "colors = [\n",
        "    'rgba(93, 164, 214, 0.5)',      # Check-In\n",
        "    'rgba(255, 144, 14, 0.5)',      # Triage\n",
        "    'rgba(44, 160, 101, 0.5)',      # Consultation\n",
        "    'rgba(255, 65, 54, 0.5)',       # Pharmacy\n",
        "    'rgba(207, 114, 255, 0.5)',     # Billing\n",
        "    'rgba(127, 96, 0, 0.5)',        # Blood Test\n",
        "    'rgba(127, 166, 238, 0.5)',     # Neuroimaging\n",
        "    'rgba(234, 153, 153, 0.5)'      # EEG\n",
        "]\n",
        "\n",
        "fig = go.Figure()\n",
        "\n",
        "# 3. Add traces\n",
        "for col, color in zip(processing_df.columns, colors):\n",
        "    fig.add_trace(go.Box(\n",
        "        y=processing_df[col],\n",
        "        name=col,\n",
        "        whiskerwidth=1,\n",
        "        fillcolor=color,\n",
        "        line_width=2\n",
        "    ))\n",
        "\n",
        "# 4. Update layout\n",
        "fig.update_layout(\n",
        "    title=dict(text='Processing Time per Station (Minutes)'),\n",
        "    yaxis=dict(\n",
        "        autorange=True,\n",
        "        showgrid=True,\n",
        "        zeroline=True,\n",
        "        dtick=5,\n",
        "        gridcolor='rgb(255, 255, 255)',\n",
        "        gridwidth=1,\n",
        "        zerolinecolor='rgb(255, 255, 255)',\n",
        "        zerolinewidth=2,\n",
        "    ),\n",
        "    margin=dict(l=40, r=30, b=80, t=100),\n",
        "    paper_bgcolor='rgb(243, 243, 243)',\n",
        "    plot_bgcolor='rgb(243, 243, 243)',\n",
        "    showlegend=False\n",
        ")\n",
        "\n",
        "fig.show()\n"
      ]
    },
    {
      "cell_type": "markdown",
      "metadata": {
        "id": "88jp-B5mgdw2"
      },
      "source": [
        "### 📦 Box Plot: Wait Time per Station\n",
        "\n",
        "This box plot visualizes the **distribution of wait times** (in minutes) across key clinical stations:  \n",
        "**Check-In, Triage, Consultation, Diagnostic Tests (Blood Test, Neuroimaging, EEG), Pharmacy,** and **Billing**.\n",
        "\n",
        "- Each box represents the **median**, **interquartile range (Q1–Q3)**, and **outliers**.\n",
        "- Diagnostic tests include only patients routed to those tests.\n",
        "- Helps identify wait-time-intensive stages and variability across stations."
      ]
    },
    {
      "cell_type": "code",
      "execution_count": 42,
      "metadata": {
        "colab": {
          "base_uri": "https://localhost:8080/",
          "height": 542
        },
        "id": "sDbPmIM6NLr4",
        "outputId": "05df05f7-95d7-4ccb-a64a-9f089351f0f4"
      },
      "outputs": [
        {
          "data": {
            "application/vnd.plotly.v1+json": {
              "config": {
                "plotlyServerURL": "https://plot.ly"
              },
              "data": [
                {
                  "fillcolor": "rgba(93, 164, 214, 0.5)",
                  "line": {
                    "width": 2
                  },
                  "name": "Check-In",
                  "type": "box",
                  "whiskerwidth": 1,
                  "y": {
                    "bdata": "AAAAAAAAAAAAAAAAAAAAAAAAAQMEAwAAAAABAQAAAAAAAAAAAAAAAQECAAAAAQEAAAEAAAIAAAAAAAACBAQAAAAAAAAAAAAAAAEBAAAAAgACBAAAAAAAAAAAAAAAAAEBAAAAAA==",
                    "dtype": "i1"
                  }
                },
                {
                  "fillcolor": "rgba(255, 144, 14, 0.5)",
                  "line": {
                    "width": 2
                  },
                  "name": "Triage",
                  "type": "box",
                  "whiskerwidth": 1,
                  "y": {
                    "bdata": "AAAAAAAAAAAAAAAAAAIAAAAAAAAAAQEBAAAAAAAAAAACAgIAAAAAAAAAAgEAAAIAAAEBAAAAAAAAAAAAAAAAAAACAAAAAAAAAgEDAAAAAAAAAAAAAAAAAAAAAAAAAAEBAAAAAA==",
                    "dtype": "i1"
                  }
                },
                {
                  "fillcolor": "rgba(44, 160, 101, 0.5)",
                  "line": {
                    "width": 2
                  },
                  "name": "Consultation",
                  "type": "box",
                  "whiskerwidth": 1,
                  "y": {
                    "bdata": "AAAAAAAAAAAAAAAAAAAAAAAAAAAAAQcFCgoCDAUMBwkMChEPGxgXBRMBHwAbHiEgAh4eHwEfARESEBQSFRgYFRgWAxwdHBYeHSQEHBwgJBoaGA8FAAAAAAAAAAAAAAIAAAAAAA==",
                    "dtype": "i1"
                  }
                },
                {
                  "fillcolor": "rgba(255, 65, 54, 0.5)",
                  "line": {
                    "width": 2
                  },
                  "name": "Pharmacy",
                  "type": "box",
                  "whiskerwidth": 1,
                  "y": {
                    "bdata": "BgYGBwYGBgYFBgYGBgkNBg8GBQgJBhMNBgYKCwgMDQ4OCQoIDhAPFw4PDBMJDgYMDggLBw4LDwsJBwYGDAwJBg0KDAgFBwYNEAYIDAUPBw0JDwYGBgYGBwYHBQYODQwPCAYGBw==",
                    "dtype": "i1"
                  }
                },
                {
                  "fillcolor": "rgba(207, 114, 255, 0.5)",
                  "line": {
                    "width": 2
                  },
                  "name": "Billing",
                  "type": "box",
                  "whiskerwidth": 1,
                  "y": {
                    "bdata": "AAAAAAAAAAAAAAEAAAAABAAAAAEBAAAAAAAAAAEAAAAAAwACAAABBAEEAAAAAAAAAwAAAQAAAAAAAAAAAAAAAAIAAAAAAAACAAAAAAIAAAABAAAAAAAAAAAAAgAAAAIAAAIAAA==",
                    "dtype": "i1"
                  }
                },
                {
                  "fillcolor": "rgba(127, 96, 0, 0.5)",
                  "line": {
                    "width": 2
                  },
                  "name": "Blood Test",
                  "type": "box",
                  "whiskerwidth": 1,
                  "y": {
                    "bdata": "AAAAAAAA+H8AAAAAAAD4fwAAAAAAAPh/AAAAAAAA+H8AAAAAAAAAAAAAAAAAAAAAAAAAAAAA8D8AAAAAAAD4fwAAAAAAAPh/AAAAAAAA+H8AAAAAAAAAAAAAAAAAAPh/AAAAAAAA+H8AAAAAAAD4fwAAAAAAAAAAAAAAAAAAAAAAAAAAAAD4fwAAAAAAAPh/AAAAAAAA+H8AAAAAAAD4fwAAAAAAAPh/AAAAAAAAAAAAAAAAAAD4fwAAAAAAAPh/AAAAAAAA+H8AAAAAAAD4fwAAAAAAAAAAAAAAAAAA+H8AAAAAAAD4fwAAAAAAAAAAAAAAAAAA+H8AAAAAAAAAAAAAAAAAABhAAAAAAAAA+H8AAAAAAAD4fwAAAAAAAPh/AAAAAAAA+H8AAAAAAAAAAAAAAAAAAPh/AAAAAAAA+H8AAAAAAAAAAAAAAAAAAPh/AAAAAAAAAAAAAAAAAAD4fwAAAAAAAPh/AAAAAAAA+H8AAAAAAAD4fwAAAAAAAPh/AAAAAAAA+H8AAAAAAAAAAAAAAAAAAPh/AAAAAAAA+H8AAAAAAAD4fwAAAAAAAPh/AAAAAAAA+H8AAAAAAAD4fwAAAAAAAAAAAAAAAAAAAAAAAAAAAAAUQAAAAAAAAPh/AAAAAAAA+H8AAAAAAAD4fwAAAAAAAPh/AAAAAAAA+H8AAAAAAAD4fwAAAAAAAPh/AAAAAAAA8D8AAAAAAAD4fwAAAAAAAAAAAAAAAAAA+H8AAAAAAAD4fwAAAAAAAAAAAAAAAAAAAAAAAAAAAAD4fwAAAAAAAPh/AAAAAAAA+H8AAAAAAAD4fwAAAAAAAAAAAAAAAAAA+H8AAAAAAAAAAAAAAAAAAPh/AAAAAAAA+H8AAAAAAAD4fwAAAAAAAAAAAAAAAAAA+H8AAAAAAAD4fwAAAAAAAPh/AAAAAAAA+H8AAAAAAAD4fwAAAAAAAPh/AAAAAAAAAAAAAAAAAAD4fwAAAAAAAPh/AAAAAAAA+H8AAAAAAAD4fwAAAAAAAPh/AAAAAAAA+H8AAAAAAAD4fwAAAAAAAAAAAAAAAAAAAAA=",
                    "dtype": "f8"
                  }
                },
                {
                  "fillcolor": "rgba(127, 166, 238, 0.5)",
                  "line": {
                    "width": 2
                  },
                  "name": "Neuroimaging",
                  "type": "box",
                  "whiskerwidth": 1,
                  "y": {
                    "bdata": "AAAAAAAA+H8AAAAAAAD4fwAAAAAAAPh/AAAAAAAA+H8AAAAAAAD4fwAAAAAAAPh/AAAAAAAA+H8AAAAAAAD4fwAAAAAAAPh/AAAAAAAA+H8AAAAAAAD4fwAAAAAAAPh/AAAAAAAA+H8AAAAAAAAAAAAAAAAAAPh/AAAAAAAA+H8AAAAAAAD4fwAAAAAAAPh/AAAAAAAA+H8AAAAAAAAAAAAAAAAAAPh/AAAAAAAA+H8AAAAAAAAoQAAAAAAAAPh/AAAAAAAA+H8AAAAAAAD4fwAAAAAAAPh/AAAAAAAA+H8AAAAAAAD4fwAAAAAAAPh/AAAAAAAA+H8AAAAAAAD4fwAAAAAAAPh/AAAAAAAA+H8AAAAAAAD4fwAAAAAAAPh/AAAAAAAA+H8AAAAAAAD4fwAAAAAAAPh/AAAAAAAA+H8AAAAAAAD4fwAAAAAAAPh/AAAAAAAA+H8AAAAAAAD4fwAAAAAAAAAAAAAAAAAA+H8AAAAAAAD4fwAAAAAAAPh/AAAAAAAA+H8AAAAAAAD4fwAAAAAAAPh/AAAAAAAA+H8AAAAAAAD4fwAAAAAAAPh/AAAAAAAA+H8AAAAAAAD4fwAAAAAAAPh/AAAAAAAA+H8AAAAAAAD4fwAAAAAAAPh/AAAAAAAA+H8AAAAAAAAAAAAAAAAAAPh/AAAAAAAA+H8AAAAAAAAAAAAAAAAAAPh/AAAAAAAA+H8AAAAAAAD4fwAAAAAAAPh/AAAAAAAA+H8AAAAAAAD4fwAAAAAAAPh/AAAAAAAA+H8AAAAAAAD4fwAAAAAAAPh/AAAAAAAA+H8AAAAAAAD4fwAAAAAAAPh/AAAAAAAA+H8AAAAAAAD4fwAAAAAAAPh/AAAAAAAA+H8AAAAAAAD4fwAAAAAAAPh/AAAAAAAA+H8AAAAAAAD4fwAAAAAAAPh/AAAAAAAA+H8AAAAAAAD4fwAAAAAAAPh/AAAAAAAA+H8AAAAAAAD4fwAAAAAAAPh/AAAAAAAA+H8AAAAAAAD4fwAAAAAAAPh/AAAAAAAA+H8AAAAAAAD4fwAAAAAAAPh/AAAAAAAA+H8=",
                    "dtype": "f8"
                  }
                },
                {
                  "fillcolor": "rgba(234, 153, 153, 0.5)",
                  "line": {
                    "width": 2
                  },
                  "name": "EEG",
                  "type": "box",
                  "whiskerwidth": 1,
                  "y": {
                    "bdata": "AAAAAAAAAAAAAAAAAAD4fwAAAAAAAPh/AAAAAAAA+H8AAAAAAAD4fwAAAAAAAPh/AAAAAAAA+H8AAAAAAAD4fwAAAAAAAPh/AAAAAAAA+H8AAAAAAAD4fwAAAAAAAPh/AAAAAAAA+H8AAAAAAAD4fwAAAAAAAPh/AAAAAAAA+H8AAAAAAAAAAAAAAAAAAPh/AAAAAAAA+H8AAAAAAAD4fwAAAAAAAPh/AAAAAAAA+H8AAAAAAAD4fwAAAAAAAAAAAAAAAAAA+H8AAAAAAAD4fwAAAAAAAPh/AAAAAAAA+H8AAAAAAAD4fwAAAAAAAPh/AAAAAAAA+H8AAAAAAAD4fwAAAAAAAPh/AAAAAAAA+H8AAAAAAAD4fwAAAAAAAPh/AAAAAAAAAAAAAAAAAAD4fwAAAAAAAPh/AAAAAAAA+H8AAAAAAAD4fwAAAAAAAPh/AAAAAAAA+H8AAAAAAAD4fwAAAAAAAPh/AAAAAAAA+H8AAAAAAAAAAAAAAAAAAPh/AAAAAAAA+H8AAAAAAAD4fwAAAAAAAPh/AAAAAAAA+H8AAAAAAAD4fwAAAAAAAPh/AAAAAAAA+H8AAAAAAAD4fwAAAAAAAPh/AAAAAAAA+H8AAAAAAAD4fwAAAAAAAAAAAAAAAAAAIkAAAAAAAAD4fwAAAAAAAPh/AAAAAAAAQUAAAAAAAAD4fwAAAAAAAPh/AAAAAAAA+H8AAAAAAAD4fwAAAAAAAPh/AAAAAAAA+H8AAAAAAAD4fwAAAAAAAPh/AAAAAAAA+H8AAAAAAAD4fwAAAAAAAPh/AAAAAAAA+H8AAAAAAAD4fwAAAAAAAPh/AAAAAAAAAAAAAAAAAAD4fwAAAAAAAPh/AAAAAAAA+H8AAAAAAAA0QAAAAAAAAPh/AAAAAAAANEAAAAAAAABIQAAAAAAAAPh/AAAAAAAA+H8AAAAAAAD4fwAAAAAAAPh/AAAAAAAA+H8AAAAAAAD4fwAAAAAAAPh/AAAAAAAA+H8AAAAAAAD4fwAAAAAAAPh/AAAAAAAA+H8AAAAAAAD4fwAAAAAAAPh/AAAAAAAA+H8=",
                    "dtype": "f8"
                  }
                }
              ],
              "layout": {
                "margin": {
                  "b": 80,
                  "l": 40,
                  "r": 30,
                  "t": 100
                },
                "paper_bgcolor": "rgb(243, 243, 243)",
                "plot_bgcolor": "rgb(243, 243, 243)",
                "showlegend": false,
                "template": {
                  "data": {
                    "bar": [
                      {
                        "error_x": {
                          "color": "#2a3f5f"
                        },
                        "error_y": {
                          "color": "#2a3f5f"
                        },
                        "marker": {
                          "line": {
                            "color": "#E5ECF6",
                            "width": 0.5
                          },
                          "pattern": {
                            "fillmode": "overlay",
                            "size": 10,
                            "solidity": 0.2
                          }
                        },
                        "type": "bar"
                      }
                    ],
                    "barpolar": [
                      {
                        "marker": {
                          "line": {
                            "color": "#E5ECF6",
                            "width": 0.5
                          },
                          "pattern": {
                            "fillmode": "overlay",
                            "size": 10,
                            "solidity": 0.2
                          }
                        },
                        "type": "barpolar"
                      }
                    ],
                    "carpet": [
                      {
                        "aaxis": {
                          "endlinecolor": "#2a3f5f",
                          "gridcolor": "white",
                          "linecolor": "white",
                          "minorgridcolor": "white",
                          "startlinecolor": "#2a3f5f"
                        },
                        "baxis": {
                          "endlinecolor": "#2a3f5f",
                          "gridcolor": "white",
                          "linecolor": "white",
                          "minorgridcolor": "white",
                          "startlinecolor": "#2a3f5f"
                        },
                        "type": "carpet"
                      }
                    ],
                    "choropleth": [
                      {
                        "colorbar": {
                          "outlinewidth": 0,
                          "ticks": ""
                        },
                        "type": "choropleth"
                      }
                    ],
                    "contour": [
                      {
                        "colorbar": {
                          "outlinewidth": 0,
                          "ticks": ""
                        },
                        "colorscale": [
                          [
                            0,
                            "#0d0887"
                          ],
                          [
                            0.1111111111111111,
                            "#46039f"
                          ],
                          [
                            0.2222222222222222,
                            "#7201a8"
                          ],
                          [
                            0.3333333333333333,
                            "#9c179e"
                          ],
                          [
                            0.4444444444444444,
                            "#bd3786"
                          ],
                          [
                            0.5555555555555556,
                            "#d8576b"
                          ],
                          [
                            0.6666666666666666,
                            "#ed7953"
                          ],
                          [
                            0.7777777777777778,
                            "#fb9f3a"
                          ],
                          [
                            0.8888888888888888,
                            "#fdca26"
                          ],
                          [
                            1,
                            "#f0f921"
                          ]
                        ],
                        "type": "contour"
                      }
                    ],
                    "contourcarpet": [
                      {
                        "colorbar": {
                          "outlinewidth": 0,
                          "ticks": ""
                        },
                        "type": "contourcarpet"
                      }
                    ],
                    "heatmap": [
                      {
                        "colorbar": {
                          "outlinewidth": 0,
                          "ticks": ""
                        },
                        "colorscale": [
                          [
                            0,
                            "#0d0887"
                          ],
                          [
                            0.1111111111111111,
                            "#46039f"
                          ],
                          [
                            0.2222222222222222,
                            "#7201a8"
                          ],
                          [
                            0.3333333333333333,
                            "#9c179e"
                          ],
                          [
                            0.4444444444444444,
                            "#bd3786"
                          ],
                          [
                            0.5555555555555556,
                            "#d8576b"
                          ],
                          [
                            0.6666666666666666,
                            "#ed7953"
                          ],
                          [
                            0.7777777777777778,
                            "#fb9f3a"
                          ],
                          [
                            0.8888888888888888,
                            "#fdca26"
                          ],
                          [
                            1,
                            "#f0f921"
                          ]
                        ],
                        "type": "heatmap"
                      }
                    ],
                    "histogram": [
                      {
                        "marker": {
                          "pattern": {
                            "fillmode": "overlay",
                            "size": 10,
                            "solidity": 0.2
                          }
                        },
                        "type": "histogram"
                      }
                    ],
                    "histogram2d": [
                      {
                        "colorbar": {
                          "outlinewidth": 0,
                          "ticks": ""
                        },
                        "colorscale": [
                          [
                            0,
                            "#0d0887"
                          ],
                          [
                            0.1111111111111111,
                            "#46039f"
                          ],
                          [
                            0.2222222222222222,
                            "#7201a8"
                          ],
                          [
                            0.3333333333333333,
                            "#9c179e"
                          ],
                          [
                            0.4444444444444444,
                            "#bd3786"
                          ],
                          [
                            0.5555555555555556,
                            "#d8576b"
                          ],
                          [
                            0.6666666666666666,
                            "#ed7953"
                          ],
                          [
                            0.7777777777777778,
                            "#fb9f3a"
                          ],
                          [
                            0.8888888888888888,
                            "#fdca26"
                          ],
                          [
                            1,
                            "#f0f921"
                          ]
                        ],
                        "type": "histogram2d"
                      }
                    ],
                    "histogram2dcontour": [
                      {
                        "colorbar": {
                          "outlinewidth": 0,
                          "ticks": ""
                        },
                        "colorscale": [
                          [
                            0,
                            "#0d0887"
                          ],
                          [
                            0.1111111111111111,
                            "#46039f"
                          ],
                          [
                            0.2222222222222222,
                            "#7201a8"
                          ],
                          [
                            0.3333333333333333,
                            "#9c179e"
                          ],
                          [
                            0.4444444444444444,
                            "#bd3786"
                          ],
                          [
                            0.5555555555555556,
                            "#d8576b"
                          ],
                          [
                            0.6666666666666666,
                            "#ed7953"
                          ],
                          [
                            0.7777777777777778,
                            "#fb9f3a"
                          ],
                          [
                            0.8888888888888888,
                            "#fdca26"
                          ],
                          [
                            1,
                            "#f0f921"
                          ]
                        ],
                        "type": "histogram2dcontour"
                      }
                    ],
                    "mesh3d": [
                      {
                        "colorbar": {
                          "outlinewidth": 0,
                          "ticks": ""
                        },
                        "type": "mesh3d"
                      }
                    ],
                    "parcoords": [
                      {
                        "line": {
                          "colorbar": {
                            "outlinewidth": 0,
                            "ticks": ""
                          }
                        },
                        "type": "parcoords"
                      }
                    ],
                    "pie": [
                      {
                        "automargin": true,
                        "type": "pie"
                      }
                    ],
                    "scatter": [
                      {
                        "fillpattern": {
                          "fillmode": "overlay",
                          "size": 10,
                          "solidity": 0.2
                        },
                        "type": "scatter"
                      }
                    ],
                    "scatter3d": [
                      {
                        "line": {
                          "colorbar": {
                            "outlinewidth": 0,
                            "ticks": ""
                          }
                        },
                        "marker": {
                          "colorbar": {
                            "outlinewidth": 0,
                            "ticks": ""
                          }
                        },
                        "type": "scatter3d"
                      }
                    ],
                    "scattercarpet": [
                      {
                        "marker": {
                          "colorbar": {
                            "outlinewidth": 0,
                            "ticks": ""
                          }
                        },
                        "type": "scattercarpet"
                      }
                    ],
                    "scattergeo": [
                      {
                        "marker": {
                          "colorbar": {
                            "outlinewidth": 0,
                            "ticks": ""
                          }
                        },
                        "type": "scattergeo"
                      }
                    ],
                    "scattergl": [
                      {
                        "marker": {
                          "colorbar": {
                            "outlinewidth": 0,
                            "ticks": ""
                          }
                        },
                        "type": "scattergl"
                      }
                    ],
                    "scattermap": [
                      {
                        "marker": {
                          "colorbar": {
                            "outlinewidth": 0,
                            "ticks": ""
                          }
                        },
                        "type": "scattermap"
                      }
                    ],
                    "scattermapbox": [
                      {
                        "marker": {
                          "colorbar": {
                            "outlinewidth": 0,
                            "ticks": ""
                          }
                        },
                        "type": "scattermapbox"
                      }
                    ],
                    "scatterpolar": [
                      {
                        "marker": {
                          "colorbar": {
                            "outlinewidth": 0,
                            "ticks": ""
                          }
                        },
                        "type": "scatterpolar"
                      }
                    ],
                    "scatterpolargl": [
                      {
                        "marker": {
                          "colorbar": {
                            "outlinewidth": 0,
                            "ticks": ""
                          }
                        },
                        "type": "scatterpolargl"
                      }
                    ],
                    "scatterternary": [
                      {
                        "marker": {
                          "colorbar": {
                            "outlinewidth": 0,
                            "ticks": ""
                          }
                        },
                        "type": "scatterternary"
                      }
                    ],
                    "surface": [
                      {
                        "colorbar": {
                          "outlinewidth": 0,
                          "ticks": ""
                        },
                        "colorscale": [
                          [
                            0,
                            "#0d0887"
                          ],
                          [
                            0.1111111111111111,
                            "#46039f"
                          ],
                          [
                            0.2222222222222222,
                            "#7201a8"
                          ],
                          [
                            0.3333333333333333,
                            "#9c179e"
                          ],
                          [
                            0.4444444444444444,
                            "#bd3786"
                          ],
                          [
                            0.5555555555555556,
                            "#d8576b"
                          ],
                          [
                            0.6666666666666666,
                            "#ed7953"
                          ],
                          [
                            0.7777777777777778,
                            "#fb9f3a"
                          ],
                          [
                            0.8888888888888888,
                            "#fdca26"
                          ],
                          [
                            1,
                            "#f0f921"
                          ]
                        ],
                        "type": "surface"
                      }
                    ],
                    "table": [
                      {
                        "cells": {
                          "fill": {
                            "color": "#EBF0F8"
                          },
                          "line": {
                            "color": "white"
                          }
                        },
                        "header": {
                          "fill": {
                            "color": "#C8D4E3"
                          },
                          "line": {
                            "color": "white"
                          }
                        },
                        "type": "table"
                      }
                    ]
                  },
                  "layout": {
                    "annotationdefaults": {
                      "arrowcolor": "#2a3f5f",
                      "arrowhead": 0,
                      "arrowwidth": 1
                    },
                    "autotypenumbers": "strict",
                    "coloraxis": {
                      "colorbar": {
                        "outlinewidth": 0,
                        "ticks": ""
                      }
                    },
                    "colorscale": {
                      "diverging": [
                        [
                          0,
                          "#8e0152"
                        ],
                        [
                          0.1,
                          "#c51b7d"
                        ],
                        [
                          0.2,
                          "#de77ae"
                        ],
                        [
                          0.3,
                          "#f1b6da"
                        ],
                        [
                          0.4,
                          "#fde0ef"
                        ],
                        [
                          0.5,
                          "#f7f7f7"
                        ],
                        [
                          0.6,
                          "#e6f5d0"
                        ],
                        [
                          0.7,
                          "#b8e186"
                        ],
                        [
                          0.8,
                          "#7fbc41"
                        ],
                        [
                          0.9,
                          "#4d9221"
                        ],
                        [
                          1,
                          "#276419"
                        ]
                      ],
                      "sequential": [
                        [
                          0,
                          "#0d0887"
                        ],
                        [
                          0.1111111111111111,
                          "#46039f"
                        ],
                        [
                          0.2222222222222222,
                          "#7201a8"
                        ],
                        [
                          0.3333333333333333,
                          "#9c179e"
                        ],
                        [
                          0.4444444444444444,
                          "#bd3786"
                        ],
                        [
                          0.5555555555555556,
                          "#d8576b"
                        ],
                        [
                          0.6666666666666666,
                          "#ed7953"
                        ],
                        [
                          0.7777777777777778,
                          "#fb9f3a"
                        ],
                        [
                          0.8888888888888888,
                          "#fdca26"
                        ],
                        [
                          1,
                          "#f0f921"
                        ]
                      ],
                      "sequentialminus": [
                        [
                          0,
                          "#0d0887"
                        ],
                        [
                          0.1111111111111111,
                          "#46039f"
                        ],
                        [
                          0.2222222222222222,
                          "#7201a8"
                        ],
                        [
                          0.3333333333333333,
                          "#9c179e"
                        ],
                        [
                          0.4444444444444444,
                          "#bd3786"
                        ],
                        [
                          0.5555555555555556,
                          "#d8576b"
                        ],
                        [
                          0.6666666666666666,
                          "#ed7953"
                        ],
                        [
                          0.7777777777777778,
                          "#fb9f3a"
                        ],
                        [
                          0.8888888888888888,
                          "#fdca26"
                        ],
                        [
                          1,
                          "#f0f921"
                        ]
                      ]
                    },
                    "colorway": [
                      "#636efa",
                      "#EF553B",
                      "#00cc96",
                      "#ab63fa",
                      "#FFA15A",
                      "#19d3f3",
                      "#FF6692",
                      "#B6E880",
                      "#FF97FF",
                      "#FECB52"
                    ],
                    "font": {
                      "color": "#2a3f5f"
                    },
                    "geo": {
                      "bgcolor": "white",
                      "lakecolor": "white",
                      "landcolor": "#E5ECF6",
                      "showlakes": true,
                      "showland": true,
                      "subunitcolor": "white"
                    },
                    "hoverlabel": {
                      "align": "left"
                    },
                    "hovermode": "closest",
                    "mapbox": {
                      "style": "light"
                    },
                    "paper_bgcolor": "white",
                    "plot_bgcolor": "#E5ECF6",
                    "polar": {
                      "angularaxis": {
                        "gridcolor": "white",
                        "linecolor": "white",
                        "ticks": ""
                      },
                      "bgcolor": "#E5ECF6",
                      "radialaxis": {
                        "gridcolor": "white",
                        "linecolor": "white",
                        "ticks": ""
                      }
                    },
                    "scene": {
                      "xaxis": {
                        "backgroundcolor": "#E5ECF6",
                        "gridcolor": "white",
                        "gridwidth": 2,
                        "linecolor": "white",
                        "showbackground": true,
                        "ticks": "",
                        "zerolinecolor": "white"
                      },
                      "yaxis": {
                        "backgroundcolor": "#E5ECF6",
                        "gridcolor": "white",
                        "gridwidth": 2,
                        "linecolor": "white",
                        "showbackground": true,
                        "ticks": "",
                        "zerolinecolor": "white"
                      },
                      "zaxis": {
                        "backgroundcolor": "#E5ECF6",
                        "gridcolor": "white",
                        "gridwidth": 2,
                        "linecolor": "white",
                        "showbackground": true,
                        "ticks": "",
                        "zerolinecolor": "white"
                      }
                    },
                    "shapedefaults": {
                      "line": {
                        "color": "#2a3f5f"
                      }
                    },
                    "ternary": {
                      "aaxis": {
                        "gridcolor": "white",
                        "linecolor": "white",
                        "ticks": ""
                      },
                      "baxis": {
                        "gridcolor": "white",
                        "linecolor": "white",
                        "ticks": ""
                      },
                      "bgcolor": "#E5ECF6",
                      "caxis": {
                        "gridcolor": "white",
                        "linecolor": "white",
                        "ticks": ""
                      }
                    },
                    "title": {
                      "x": 0.05
                    },
                    "xaxis": {
                      "automargin": true,
                      "gridcolor": "white",
                      "linecolor": "white",
                      "ticks": "",
                      "title": {
                        "standoff": 15
                      },
                      "zerolinecolor": "white",
                      "zerolinewidth": 2
                    },
                    "yaxis": {
                      "automargin": true,
                      "gridcolor": "white",
                      "linecolor": "white",
                      "ticks": "",
                      "title": {
                        "standoff": 15
                      },
                      "zerolinecolor": "white",
                      "zerolinewidth": 2
                    }
                  }
                },
                "title": {
                  "text": "Wait Time per Station (Minutes)"
                },
                "yaxis": {
                  "autorange": true,
                  "dtick": 5,
                  "gridcolor": "rgb(255, 255, 255)",
                  "gridwidth": 1,
                  "showgrid": true,
                  "zeroline": true,
                  "zerolinecolor": "rgb(255, 255, 255)",
                  "zerolinewidth": 2
                }
              }
            }
          },
          "metadata": {},
          "output_type": "display_data"
        }
      ],
      "source": [
        "# 1. Box plot: Wait Time per Station\n",
        "wait_df = pd.DataFrame({\n",
        "    'Check-In': patients_df['CheckInWaitMin'],\n",
        "    'Triage': patients_df['TriageWaitMin'],\n",
        "    'Consultation': patients_df['ConsultationWaitMin'],\n",
        "    'Pharmacy': patients_df['PharmacyWaitMin'],\n",
        "    'Billing': patients_df['BillingWaitMin']\n",
        "})\n",
        "for test in ['Blood Test', 'Neuroimaging', 'EEG']:\n",
        "    mask = patients_df['DiagnosticTests'] == test\n",
        "    wait_df[test] = np.where(mask, patients_df['TestWaitMin'], np.nan)\n",
        "\n",
        "# 2. Plotly box plot figure\n",
        "colors = [\n",
        "    'rgba(93, 164, 214, 0.5)',      # Check-In\n",
        "    'rgba(255, 144, 14, 0.5)',      # Triage\n",
        "    'rgba(44, 160, 101, 0.5)',      # Consultation\n",
        "    'rgba(255, 65, 54, 0.5)',       # Pharmacy\n",
        "    'rgba(207, 114, 255, 0.5)',     # Billing\n",
        "    'rgba(127, 96, 0, 0.5)',        # Blood Test\n",
        "    'rgba(127, 166, 238, 0.5)',     # Neuroimaging\n",
        "    'rgba(234, 153, 153, 0.5)'      # EEG\n",
        "]\n",
        "\n",
        "fig = go.Figure()\n",
        "\n",
        "# 3. Add traces\n",
        "for col, color in zip(wait_df.columns, colors):\n",
        "    fig.add_trace(go.Box(\n",
        "        y=wait_df[col],\n",
        "        name=col,\n",
        "        whiskerwidth=1,\n",
        "        fillcolor=color,\n",
        "        line_width=2\n",
        "    ))\n",
        "\n",
        "# 4. Update layout\n",
        "fig.update_layout(\n",
        "    title=dict(text='Wait Time per Station (Minutes)'),\n",
        "    yaxis=dict(\n",
        "        autorange=True,\n",
        "        showgrid=True,\n",
        "        zeroline=True,\n",
        "        dtick=5,\n",
        "        gridcolor='rgb(255, 255, 255)',\n",
        "        gridwidth=1,\n",
        "        zerolinecolor='rgb(255, 255, 255)',\n",
        "        zerolinewidth=2,\n",
        "    ),\n",
        "    margin=dict(l=40, r=30, b=80, t=100),\n",
        "    paper_bgcolor='rgb(243, 243, 243)',\n",
        "    plot_bgcolor='rgb(243, 243, 243)',\n",
        "    showlegend=False\n",
        ")\n",
        "\n",
        "fig.show()\n"
      ]
    },
    {
      "cell_type": "markdown",
      "metadata": {
        "id": "f8Jmrztehxxw"
      },
      "source": [
        "## 📊 Time Analysis of Patient Flow\n",
        "\n",
        "This dashboard presents four key visualizations to analyze patient timing patterns.\n",
        "\n",
        "---\n",
        "\n",
        "### 1. ⏰ Bar Plot: Hourly Patient Arrivals\n",
        "\n",
        "- **What it shows**:  \n",
        "  The number of patients arriving at the clinic for each hour of the day, extracted from the `ArrivalTime` column.\n",
        "\n",
        "- **Insight**:  \n",
        "  Identifies peak arrival hours and helps in optimizing staff allocation during busy periods.\n",
        "\n",
        "---\n",
        "\n",
        "### 2. 🚑 Grouped Bar Plot: Wait Times by Triage Category\n",
        "\n",
        "- **What it shows**:  \n",
        "  Average wait times for **Emergency** vs **Routine** patients across:\n",
        "  - Consultation\n",
        "  - Blood Test\n",
        "  - Neuroimaging\n",
        "  - EEG\n",
        "\n",
        "- **Insight**:  \n",
        "  Reveals disparities in wait times between Emergency and Routine categories, useful for service prioritization and triage efficiency.\n",
        "\n",
        "---\n",
        "\n",
        "### 3. ⌛ Histogram: Total Waiting Time per Patient\n",
        "\n",
        "- **What it shows**:  \n",
        "  The distribution of total time patients spend **waiting**\n",
        "\n",
        "- **Insight**:  \n",
        "  Identifies if wait times get too long in the clinic and how to better optimize wait times for patients\n",
        "\n",
        "### 4. ⌛ Histogram: Total Time Spent in Clinic per Patient\n",
        "\n",
        "- **What it shows**:  \n",
        "The complete duration a patient spends in the clinic from arrival to checkout.\n",
        "\n",
        "- **Insight**:  \n",
        "Measures end-to-end time spent in the clinic, supporting overall efficiency analysis and time management improvements.\n"
      ]
    },
    {
      "cell_type": "code",
      "execution_count": 43,
      "metadata": {
        "colab": {
          "base_uri": "https://localhost:8080/",
          "height": 1000
        },
        "id": "Yjm4DXduXEh7",
        "outputId": "055ef9a6-1efb-4c8a-f5a7-9be021b76b07"
      },
      "outputs": [
        {
          "data": {
            "application/vnd.plotly.v1+json": {
              "config": {
                "plotlyServerURL": "https://plot.ly"
              },
              "data": [
                {
                  "marker": {
                    "color": "royalblue"
                  },
                  "name": "Arrivals",
                  "showlegend": false,
                  "type": "bar",
                  "x": {
                    "bdata": "CAkKCwwNDg8Q",
                    "dtype": "i1"
                  },
                  "xaxis": "x",
                  "y": {
                    "bdata": "AgUJFRMWBgUL",
                    "dtype": "i1"
                  },
                  "yaxis": "y"
                },
                {
                  "hovertemplate": "Emergency: %{y:.2f} min<extra></extra>",
                  "marker": {
                    "color": "tomato"
                  },
                  "name": "Emergency",
                  "showlegend": true,
                  "type": "bar",
                  "x": [
                    "Consultation",
                    "Blood Test",
                    "Neuroimaging",
                    "EEG"
                  ],
                  "xaxis": "x2",
                  "y": [
                    1.71,
                    0.5,
                    0,
                    0
                  ],
                  "yaxis": "y2"
                },
                {
                  "hovertemplate": "Routine: %{y:.2f} min<extra></extra>",
                  "marker": {
                    "color": "lightseagreen"
                  },
                  "name": "Routine",
                  "showlegend": true,
                  "type": "bar",
                  "x": [
                    "Consultation",
                    "Blood Test",
                    "Neuroimaging",
                    "EEG"
                  ],
                  "xaxis": "x2",
                  "y": [
                    13.3,
                    0.46,
                    2.4,
                    11.91
                  ],
                  "yaxis": "y2"
                },
                {
                  "marker": {
                    "color": "mediumpurple"
                  },
                  "name": "Total Wait Time",
                  "showlegend": false,
                  "type": "histogram",
                  "x": {
                    "bdata": "AAAAAAAAGEAAAAAAAAAYQAAAAAAAABhAAAAAAAAAHEAAAAAAAAAYQAAAAAAAABhAAAAAAAAAHEAAAAAAAAAYQAAAAAAAABRAAAAAAAAAGEAAAAAAAAAcQAAAAAAAABhAAAAAAAAAGEAAAAAAAAAmQAAAAAAAACpAAAAAAAAAJEAAAAAAAAAuQAAAAAAAABhAAAAAAAAAGEAAAAAAAAAoQAAAAAAAACxAAAAAAAAAJkAAAAAAAIBDQAAAAAAAADNAAAAAAAAAMEAAAAAAAAAwQAAAAAAAACpAAAAAAAAAOEAAAAAAAAAsQAAAAAAAADhAAAAAAAAANEAAAAAAAAA3QAAAAAAAAEFAAAAAAAAAOEAAAAAAAAA9QAAAAAAAADlAAAAAAACAREAAAAAAAABEQAAAAAAAgENAAAAAAACAQEAAAAAAAIBBQAAAAAAAADZAAAAAAACARkAAAAAAAAA0QAAAAAAAAEJAAAAAAACARkAAAAAAAABFQAAAAAAAAEZAAAAAAAAAM0AAAAAAAABEQAAAAAAAAEVAAAAAAACAQ0AAAAAAAAAxQAAAAAAAAEVAAAAAAAAAMEAAAAAAAAA8QAAAAAAAADtAAAAAAAAAN0AAAAAAAAA/QAAAAAAAADpAAAAAAAAAR0AAAAAAAABEQAAAAAAAgEBAAAAAAACATkAAAAAAAIBDQAAAAAAAAEFAAAAAAAAAMEAAAAAAAABCQAAAAAAAAEFAAAAAAACAQUAAAAAAAAA8QAAAAAAAgEZAAAAAAACAR0AAAAAAAABGQAAAAAAAADBAAAAAAAAAREAAAAAAAIBBQAAAAAAAgEdAAAAAAACARkAAAAAAAIBDQAAAAAAAAENAAAAAAACARUAAAAAAAIBEQAAAAAAAACZAAAAAAAAAOkAAAAAAAABLQAAAAAAAABhAAAAAAAAAHEAAAAAAAAAYQAAAAAAAABxAAAAAAAAAHEAAAAAAAAAYQAAAAAAAACxAAAAAAAAAKkAAAAAAAAAyQAAAAAAAADFAAAAAAAAAIEAAAAAAAAAgQAAAAAAAABhAAAAAAAAAHEA=",
                    "dtype": "f8"
                  },
                  "xaxis": "x3",
                  "xbins": {
                    "end": 70,
                    "size": 5,
                    "start": 0
                  },
                  "yaxis": "y3"
                },
                {
                  "marker": {
                    "color": "cadetblue"
                  },
                  "name": "Total Clinic Time",
                  "showlegend": false,
                  "type": "histogram",
                  "x": {
                    "bdata": "AAAAAACAVUAAAAAAAIBDQAAAAAAAgEFAAAAAAAAAREAAAAAAAIBJQAAAAAAAgEhAAAAAAACAS0AAAAAAAABDQAAAAAAAAEFAAAAAAAAAQ0AAAAAAAIBIQAAAAAAAAERAAAAAAAAAQ0AAAAAAAEBXQAAAAAAAgE5AAAAAAACAS0AAAAAAAMBXQAAAAAAAgERAAAAAAACAQ0AAAAAAAEBUQAAAAAAAAEdAAAAAAAAAS0AAAAAAAMBdQAAAAAAAwFpAAAAAAACAR0AAAAAAAABJQAAAAAAAgE5AAAAAAAAATEAAAAAAAABGQAAAAAAAAFFAAAAAAACATEAAAAAAAIBSQAAAAAAAgFJAAAAAAAAAS0AAAAAAAABOQAAAAAAAgE5AAAAAAACAYEAAAAAAAMBVQAAAAAAAwFJAAAAAAADAUEAAAAAAAMBUQAAAAAAAAEpAAAAAAAAAVkAAAAAAAABKQAAAAAAAwFpAAAAAAADAUkAAAAAAAIBdQAAAAAAAQFNAAAAAAACASUAAAAAAAEBVQAAAAAAAAFJAAAAAAADAUkAAAAAAAABIQAAAAAAAQFJAAAAAAACAR0AAAAAAAIBOQAAAAAAAwFFAAAAAAACAUEAAAAAAAEBSQAAAAAAAwFtAAAAAAACAYEAAAAAAAEBeQAAAAAAAAFFAAAAAAABgYkAAAAAAAGBgQAAAAAAAAFBAAAAAAAAAT0AAAAAAAABRQAAAAAAAAFNAAAAAAACAUUAAAAAAAEBQQAAAAAAAgFZAAAAAAACAV0AAAAAAAMBSQAAAAAAAAElAAAAAAACAUkAAAAAAAMBQQAAAAAAAwFZAAAAAAACAX0AAAAAAAABWQAAAAAAAAFJAAAAAAABAU0AAAAAAAEBfQAAAAAAAgExAAAAAAAAAW0AAAAAAAMBhQAAAAAAAAENAAAAAAAAAREAAAAAAAIBEQAAAAAAAgERAAAAAAACASUAAAAAAAIBEQAAAAAAAAEhAAAAAAACARUAAAAAAAIBHQAAAAAAAgElAAAAAAAAAREAAAAAAAIBEQAAAAAAAgEhAAAAAAACASUA=",
                    "dtype": "f8"
                  },
                  "xaxis": "x4",
                  "xbins": {
                    "end": 150,
                    "size": 10,
                    "start": 0
                  },
                  "yaxis": "y4"
                }
              ],
              "layout": {
                "annotations": [
                  {
                    "font": {
                      "size": 16
                    },
                    "showarrow": false,
                    "text": "Hourly Patient Arrivals",
                    "x": 0.225,
                    "xanchor": "center",
                    "xref": "paper",
                    "y": 1,
                    "yanchor": "bottom",
                    "yref": "paper"
                  },
                  {
                    "font": {
                      "size": 16
                    },
                    "showarrow": false,
                    "text": "Wait Times: Emergency vs Routine",
                    "x": 0.775,
                    "xanchor": "center",
                    "xref": "paper",
                    "y": 1,
                    "yanchor": "bottom",
                    "yref": "paper"
                  },
                  {
                    "font": {
                      "size": 16
                    },
                    "showarrow": false,
                    "text": "Total Waiting Time Distribution",
                    "x": 0.225,
                    "xanchor": "center",
                    "xref": "paper",
                    "y": 0.375,
                    "yanchor": "bottom",
                    "yref": "paper"
                  },
                  {
                    "font": {
                      "size": 16
                    },
                    "showarrow": false,
                    "text": "Total Time Spent in Clinic Distribution",
                    "x": 0.775,
                    "xanchor": "center",
                    "xref": "paper",
                    "y": 0.375,
                    "yanchor": "bottom",
                    "yref": "paper"
                  }
                ],
                "barmode": "group",
                "height": 1000,
                "template": {
                  "data": {
                    "bar": [
                      {
                        "error_x": {
                          "color": "#2a3f5f"
                        },
                        "error_y": {
                          "color": "#2a3f5f"
                        },
                        "marker": {
                          "line": {
                            "color": "white",
                            "width": 0.5
                          },
                          "pattern": {
                            "fillmode": "overlay",
                            "size": 10,
                            "solidity": 0.2
                          }
                        },
                        "type": "bar"
                      }
                    ],
                    "barpolar": [
                      {
                        "marker": {
                          "line": {
                            "color": "white",
                            "width": 0.5
                          },
                          "pattern": {
                            "fillmode": "overlay",
                            "size": 10,
                            "solidity": 0.2
                          }
                        },
                        "type": "barpolar"
                      }
                    ],
                    "carpet": [
                      {
                        "aaxis": {
                          "endlinecolor": "#2a3f5f",
                          "gridcolor": "#C8D4E3",
                          "linecolor": "#C8D4E3",
                          "minorgridcolor": "#C8D4E3",
                          "startlinecolor": "#2a3f5f"
                        },
                        "baxis": {
                          "endlinecolor": "#2a3f5f",
                          "gridcolor": "#C8D4E3",
                          "linecolor": "#C8D4E3",
                          "minorgridcolor": "#C8D4E3",
                          "startlinecolor": "#2a3f5f"
                        },
                        "type": "carpet"
                      }
                    ],
                    "choropleth": [
                      {
                        "colorbar": {
                          "outlinewidth": 0,
                          "ticks": ""
                        },
                        "type": "choropleth"
                      }
                    ],
                    "contour": [
                      {
                        "colorbar": {
                          "outlinewidth": 0,
                          "ticks": ""
                        },
                        "colorscale": [
                          [
                            0,
                            "#0d0887"
                          ],
                          [
                            0.1111111111111111,
                            "#46039f"
                          ],
                          [
                            0.2222222222222222,
                            "#7201a8"
                          ],
                          [
                            0.3333333333333333,
                            "#9c179e"
                          ],
                          [
                            0.4444444444444444,
                            "#bd3786"
                          ],
                          [
                            0.5555555555555556,
                            "#d8576b"
                          ],
                          [
                            0.6666666666666666,
                            "#ed7953"
                          ],
                          [
                            0.7777777777777778,
                            "#fb9f3a"
                          ],
                          [
                            0.8888888888888888,
                            "#fdca26"
                          ],
                          [
                            1,
                            "#f0f921"
                          ]
                        ],
                        "type": "contour"
                      }
                    ],
                    "contourcarpet": [
                      {
                        "colorbar": {
                          "outlinewidth": 0,
                          "ticks": ""
                        },
                        "type": "contourcarpet"
                      }
                    ],
                    "heatmap": [
                      {
                        "colorbar": {
                          "outlinewidth": 0,
                          "ticks": ""
                        },
                        "colorscale": [
                          [
                            0,
                            "#0d0887"
                          ],
                          [
                            0.1111111111111111,
                            "#46039f"
                          ],
                          [
                            0.2222222222222222,
                            "#7201a8"
                          ],
                          [
                            0.3333333333333333,
                            "#9c179e"
                          ],
                          [
                            0.4444444444444444,
                            "#bd3786"
                          ],
                          [
                            0.5555555555555556,
                            "#d8576b"
                          ],
                          [
                            0.6666666666666666,
                            "#ed7953"
                          ],
                          [
                            0.7777777777777778,
                            "#fb9f3a"
                          ],
                          [
                            0.8888888888888888,
                            "#fdca26"
                          ],
                          [
                            1,
                            "#f0f921"
                          ]
                        ],
                        "type": "heatmap"
                      }
                    ],
                    "histogram": [
                      {
                        "marker": {
                          "pattern": {
                            "fillmode": "overlay",
                            "size": 10,
                            "solidity": 0.2
                          }
                        },
                        "type": "histogram"
                      }
                    ],
                    "histogram2d": [
                      {
                        "colorbar": {
                          "outlinewidth": 0,
                          "ticks": ""
                        },
                        "colorscale": [
                          [
                            0,
                            "#0d0887"
                          ],
                          [
                            0.1111111111111111,
                            "#46039f"
                          ],
                          [
                            0.2222222222222222,
                            "#7201a8"
                          ],
                          [
                            0.3333333333333333,
                            "#9c179e"
                          ],
                          [
                            0.4444444444444444,
                            "#bd3786"
                          ],
                          [
                            0.5555555555555556,
                            "#d8576b"
                          ],
                          [
                            0.6666666666666666,
                            "#ed7953"
                          ],
                          [
                            0.7777777777777778,
                            "#fb9f3a"
                          ],
                          [
                            0.8888888888888888,
                            "#fdca26"
                          ],
                          [
                            1,
                            "#f0f921"
                          ]
                        ],
                        "type": "histogram2d"
                      }
                    ],
                    "histogram2dcontour": [
                      {
                        "colorbar": {
                          "outlinewidth": 0,
                          "ticks": ""
                        },
                        "colorscale": [
                          [
                            0,
                            "#0d0887"
                          ],
                          [
                            0.1111111111111111,
                            "#46039f"
                          ],
                          [
                            0.2222222222222222,
                            "#7201a8"
                          ],
                          [
                            0.3333333333333333,
                            "#9c179e"
                          ],
                          [
                            0.4444444444444444,
                            "#bd3786"
                          ],
                          [
                            0.5555555555555556,
                            "#d8576b"
                          ],
                          [
                            0.6666666666666666,
                            "#ed7953"
                          ],
                          [
                            0.7777777777777778,
                            "#fb9f3a"
                          ],
                          [
                            0.8888888888888888,
                            "#fdca26"
                          ],
                          [
                            1,
                            "#f0f921"
                          ]
                        ],
                        "type": "histogram2dcontour"
                      }
                    ],
                    "mesh3d": [
                      {
                        "colorbar": {
                          "outlinewidth": 0,
                          "ticks": ""
                        },
                        "type": "mesh3d"
                      }
                    ],
                    "parcoords": [
                      {
                        "line": {
                          "colorbar": {
                            "outlinewidth": 0,
                            "ticks": ""
                          }
                        },
                        "type": "parcoords"
                      }
                    ],
                    "pie": [
                      {
                        "automargin": true,
                        "type": "pie"
                      }
                    ],
                    "scatter": [
                      {
                        "fillpattern": {
                          "fillmode": "overlay",
                          "size": 10,
                          "solidity": 0.2
                        },
                        "type": "scatter"
                      }
                    ],
                    "scatter3d": [
                      {
                        "line": {
                          "colorbar": {
                            "outlinewidth": 0,
                            "ticks": ""
                          }
                        },
                        "marker": {
                          "colorbar": {
                            "outlinewidth": 0,
                            "ticks": ""
                          }
                        },
                        "type": "scatter3d"
                      }
                    ],
                    "scattercarpet": [
                      {
                        "marker": {
                          "colorbar": {
                            "outlinewidth": 0,
                            "ticks": ""
                          }
                        },
                        "type": "scattercarpet"
                      }
                    ],
                    "scattergeo": [
                      {
                        "marker": {
                          "colorbar": {
                            "outlinewidth": 0,
                            "ticks": ""
                          }
                        },
                        "type": "scattergeo"
                      }
                    ],
                    "scattergl": [
                      {
                        "marker": {
                          "colorbar": {
                            "outlinewidth": 0,
                            "ticks": ""
                          }
                        },
                        "type": "scattergl"
                      }
                    ],
                    "scattermap": [
                      {
                        "marker": {
                          "colorbar": {
                            "outlinewidth": 0,
                            "ticks": ""
                          }
                        },
                        "type": "scattermap"
                      }
                    ],
                    "scattermapbox": [
                      {
                        "marker": {
                          "colorbar": {
                            "outlinewidth": 0,
                            "ticks": ""
                          }
                        },
                        "type": "scattermapbox"
                      }
                    ],
                    "scatterpolar": [
                      {
                        "marker": {
                          "colorbar": {
                            "outlinewidth": 0,
                            "ticks": ""
                          }
                        },
                        "type": "scatterpolar"
                      }
                    ],
                    "scatterpolargl": [
                      {
                        "marker": {
                          "colorbar": {
                            "outlinewidth": 0,
                            "ticks": ""
                          }
                        },
                        "type": "scatterpolargl"
                      }
                    ],
                    "scatterternary": [
                      {
                        "marker": {
                          "colorbar": {
                            "outlinewidth": 0,
                            "ticks": ""
                          }
                        },
                        "type": "scatterternary"
                      }
                    ],
                    "surface": [
                      {
                        "colorbar": {
                          "outlinewidth": 0,
                          "ticks": ""
                        },
                        "colorscale": [
                          [
                            0,
                            "#0d0887"
                          ],
                          [
                            0.1111111111111111,
                            "#46039f"
                          ],
                          [
                            0.2222222222222222,
                            "#7201a8"
                          ],
                          [
                            0.3333333333333333,
                            "#9c179e"
                          ],
                          [
                            0.4444444444444444,
                            "#bd3786"
                          ],
                          [
                            0.5555555555555556,
                            "#d8576b"
                          ],
                          [
                            0.6666666666666666,
                            "#ed7953"
                          ],
                          [
                            0.7777777777777778,
                            "#fb9f3a"
                          ],
                          [
                            0.8888888888888888,
                            "#fdca26"
                          ],
                          [
                            1,
                            "#f0f921"
                          ]
                        ],
                        "type": "surface"
                      }
                    ],
                    "table": [
                      {
                        "cells": {
                          "fill": {
                            "color": "#EBF0F8"
                          },
                          "line": {
                            "color": "white"
                          }
                        },
                        "header": {
                          "fill": {
                            "color": "#C8D4E3"
                          },
                          "line": {
                            "color": "white"
                          }
                        },
                        "type": "table"
                      }
                    ]
                  },
                  "layout": {
                    "annotationdefaults": {
                      "arrowcolor": "#2a3f5f",
                      "arrowhead": 0,
                      "arrowwidth": 1
                    },
                    "autotypenumbers": "strict",
                    "coloraxis": {
                      "colorbar": {
                        "outlinewidth": 0,
                        "ticks": ""
                      }
                    },
                    "colorscale": {
                      "diverging": [
                        [
                          0,
                          "#8e0152"
                        ],
                        [
                          0.1,
                          "#c51b7d"
                        ],
                        [
                          0.2,
                          "#de77ae"
                        ],
                        [
                          0.3,
                          "#f1b6da"
                        ],
                        [
                          0.4,
                          "#fde0ef"
                        ],
                        [
                          0.5,
                          "#f7f7f7"
                        ],
                        [
                          0.6,
                          "#e6f5d0"
                        ],
                        [
                          0.7,
                          "#b8e186"
                        ],
                        [
                          0.8,
                          "#7fbc41"
                        ],
                        [
                          0.9,
                          "#4d9221"
                        ],
                        [
                          1,
                          "#276419"
                        ]
                      ],
                      "sequential": [
                        [
                          0,
                          "#0d0887"
                        ],
                        [
                          0.1111111111111111,
                          "#46039f"
                        ],
                        [
                          0.2222222222222222,
                          "#7201a8"
                        ],
                        [
                          0.3333333333333333,
                          "#9c179e"
                        ],
                        [
                          0.4444444444444444,
                          "#bd3786"
                        ],
                        [
                          0.5555555555555556,
                          "#d8576b"
                        ],
                        [
                          0.6666666666666666,
                          "#ed7953"
                        ],
                        [
                          0.7777777777777778,
                          "#fb9f3a"
                        ],
                        [
                          0.8888888888888888,
                          "#fdca26"
                        ],
                        [
                          1,
                          "#f0f921"
                        ]
                      ],
                      "sequentialminus": [
                        [
                          0,
                          "#0d0887"
                        ],
                        [
                          0.1111111111111111,
                          "#46039f"
                        ],
                        [
                          0.2222222222222222,
                          "#7201a8"
                        ],
                        [
                          0.3333333333333333,
                          "#9c179e"
                        ],
                        [
                          0.4444444444444444,
                          "#bd3786"
                        ],
                        [
                          0.5555555555555556,
                          "#d8576b"
                        ],
                        [
                          0.6666666666666666,
                          "#ed7953"
                        ],
                        [
                          0.7777777777777778,
                          "#fb9f3a"
                        ],
                        [
                          0.8888888888888888,
                          "#fdca26"
                        ],
                        [
                          1,
                          "#f0f921"
                        ]
                      ]
                    },
                    "colorway": [
                      "#636efa",
                      "#EF553B",
                      "#00cc96",
                      "#ab63fa",
                      "#FFA15A",
                      "#19d3f3",
                      "#FF6692",
                      "#B6E880",
                      "#FF97FF",
                      "#FECB52"
                    ],
                    "font": {
                      "color": "#2a3f5f"
                    },
                    "geo": {
                      "bgcolor": "white",
                      "lakecolor": "white",
                      "landcolor": "white",
                      "showlakes": true,
                      "showland": true,
                      "subunitcolor": "#C8D4E3"
                    },
                    "hoverlabel": {
                      "align": "left"
                    },
                    "hovermode": "closest",
                    "mapbox": {
                      "style": "light"
                    },
                    "paper_bgcolor": "white",
                    "plot_bgcolor": "white",
                    "polar": {
                      "angularaxis": {
                        "gridcolor": "#EBF0F8",
                        "linecolor": "#EBF0F8",
                        "ticks": ""
                      },
                      "bgcolor": "white",
                      "radialaxis": {
                        "gridcolor": "#EBF0F8",
                        "linecolor": "#EBF0F8",
                        "ticks": ""
                      }
                    },
                    "scene": {
                      "xaxis": {
                        "backgroundcolor": "white",
                        "gridcolor": "#DFE8F3",
                        "gridwidth": 2,
                        "linecolor": "#EBF0F8",
                        "showbackground": true,
                        "ticks": "",
                        "zerolinecolor": "#EBF0F8"
                      },
                      "yaxis": {
                        "backgroundcolor": "white",
                        "gridcolor": "#DFE8F3",
                        "gridwidth": 2,
                        "linecolor": "#EBF0F8",
                        "showbackground": true,
                        "ticks": "",
                        "zerolinecolor": "#EBF0F8"
                      },
                      "zaxis": {
                        "backgroundcolor": "white",
                        "gridcolor": "#DFE8F3",
                        "gridwidth": 2,
                        "linecolor": "#EBF0F8",
                        "showbackground": true,
                        "ticks": "",
                        "zerolinecolor": "#EBF0F8"
                      }
                    },
                    "shapedefaults": {
                      "line": {
                        "color": "#2a3f5f"
                      }
                    },
                    "ternary": {
                      "aaxis": {
                        "gridcolor": "#DFE8F3",
                        "linecolor": "#A2B1C6",
                        "ticks": ""
                      },
                      "baxis": {
                        "gridcolor": "#DFE8F3",
                        "linecolor": "#A2B1C6",
                        "ticks": ""
                      },
                      "bgcolor": "white",
                      "caxis": {
                        "gridcolor": "#DFE8F3",
                        "linecolor": "#A2B1C6",
                        "ticks": ""
                      }
                    },
                    "title": {
                      "x": 0.05
                    },
                    "xaxis": {
                      "automargin": true,
                      "gridcolor": "#EBF0F8",
                      "linecolor": "#EBF0F8",
                      "ticks": "",
                      "title": {
                        "standoff": 15
                      },
                      "zerolinecolor": "#EBF0F8",
                      "zerolinewidth": 2
                    },
                    "yaxis": {
                      "automargin": true,
                      "gridcolor": "#EBF0F8",
                      "linecolor": "#EBF0F8",
                      "ticks": "",
                      "title": {
                        "standoff": 15
                      },
                      "zerolinecolor": "#EBF0F8",
                      "zerolinewidth": 2
                    }
                  }
                },
                "title": {
                  "text": "Time Analysis of Patient Flow",
                  "x": 0.5
                },
                "width": 1000,
                "xaxis": {
                  "anchor": "y",
                  "domain": [
                    0,
                    0.45
                  ],
                  "tickvals": {
                    "bdata": "CAkKCwwNDg8Q",
                    "dtype": "i1"
                  },
                  "title": {
                    "text": "Hour"
                  }
                },
                "xaxis2": {
                  "anchor": "y2",
                  "domain": [
                    0.55,
                    1
                  ],
                  "title": {
                    "text": "Station"
                  }
                },
                "xaxis3": {
                  "anchor": "y3",
                  "domain": [
                    0,
                    0.45
                  ],
                  "tickmode": "array",
                  "tickvals": [
                    10,
                    20,
                    30,
                    40,
                    50,
                    60
                  ],
                  "title": {
                    "text": "Total Waiting Time (Mins)"
                  }
                },
                "xaxis4": {
                  "anchor": "y4",
                  "domain": [
                    0.55,
                    1
                  ],
                  "tickmode": "array",
                  "tickvals": [
                    10,
                    30,
                    50,
                    70,
                    90,
                    110,
                    130,
                    150
                  ],
                  "title": {
                    "text": "Total Time at Clinic (Mins)"
                  }
                },
                "yaxis": {
                  "anchor": "x",
                  "domain": [
                    0.625,
                    1
                  ],
                  "title": {
                    "text": "No of Patients"
                  }
                },
                "yaxis2": {
                  "anchor": "x2",
                  "domain": [
                    0.625,
                    1
                  ],
                  "title": {
                    "text": "Average Wait Time"
                  }
                },
                "yaxis3": {
                  "anchor": "x3",
                  "domain": [
                    0,
                    0.375
                  ],
                  "title": {
                    "text": "No of Patients"
                  }
                },
                "yaxis4": {
                  "anchor": "x4",
                  "domain": [
                    0,
                    0.375
                  ],
                  "title": {
                    "text": "No of Patients"
                  }
                }
              }
            }
          },
          "metadata": {},
          "output_type": "display_data"
        }
      ],
      "source": [
        "# Create subplots\n",
        "fig = make_subplots(\n",
        "    rows=2, cols=2,\n",
        "    subplot_titles=[\n",
        "        \"Hourly Patient Arrivals\",\n",
        "        \"Wait Times: Emergency vs Routine\",\n",
        "        \"Total Waiting Time Distribution\",\n",
        "        \"Total Time Spent in Clinic Distribution\"\n",
        "    ],\n",
        "    specs=[[{\"type\": \"bar\"}, {\"type\": \"bar\"}],\n",
        "           [{\"type\": \"histogram\"}, {\"type\": \"histogram\"}]]\n",
        ")\n",
        "\n",
        "# 1. Hourly Patient Arrivals (corrected)\n",
        "patients_df['ArrivalHour'] = patients_df['ArrivalTime'].apply(lambda t: t.hour)\n",
        "\n",
        "# Count number of patients per hour\n",
        "hourly_counts = patients_df['ArrivalHour'].value_counts().sort_index()\n",
        "\n",
        "# Plot\n",
        "fig.add_trace(\n",
        "    go.Bar(\n",
        "        x=hourly_counts.index,\n",
        "        y=hourly_counts.values,\n",
        "        marker_color='royalblue',\n",
        "        name=\"Arrivals\",\n",
        "        showlegend=False\n",
        "    ),\n",
        "    row=1, col=1\n",
        ")\n",
        "\n",
        "# Update axes for first subplot\n",
        "fig.update_xaxes(title_text='Hour', tickvals = hourly_counts.index, row=1, col=1)\n",
        "fig.update_yaxes(title_text='No of Patients', row=1, col=1)\n",
        "\n",
        "# 2. Grouped Bar Plot: Emergency vs Routine Wait Times\n",
        "bar_data = {'Emergency': [], 'Routine': []}\n",
        "tests = ['Consultation', 'Blood Test', 'Neuroimaging', 'EEG']\n",
        "\n",
        "# Collect rounded wait times\n",
        "for test in tests:\n",
        "    if test == 'Consultation':\n",
        "        emergency_time = patients_df[patients_df['TriageCategory'] == 'Emergency']['ConsultationWaitMin'].mean()\n",
        "        routine_time = patients_df[patients_df['TriageCategory'] == 'Routine']['ConsultationWaitMin'].mean()\n",
        "    else:\n",
        "        emergency_time = patients_df[(patients_df['TriageCategory'] == 'Emergency') & (patients_df['DiagnosticTests'] == test)]['TestWaitMin'].mean()\n",
        "        routine_time = patients_df[(patients_df['TriageCategory'] == 'Routine') & (patients_df['DiagnosticTests'] == test)]['TestWaitMin'].mean()\n",
        "\n",
        "    bar_data['Emergency'].append(round(emergency_time, 2) if pd.notna(emergency_time) else 0)\n",
        "    bar_data['Routine'].append(round(routine_time, 2) if pd.notna(routine_time) else 0)\n",
        "\n",
        "# Add Emergency trace with custom hover\n",
        "fig.add_trace(\n",
        "    go.Bar(x=tests, y=bar_data['Emergency'], name='Emergency', marker_color='tomato', showlegend=True,\n",
        "        hovertemplate='Emergency: %{y:.2f} min<extra></extra>'),\n",
        "    row=1, col=2\n",
        ")\n",
        "\n",
        "# Add Routine trace with custom hover\n",
        "fig.add_trace(\n",
        "    go.Bar(x=tests, y=bar_data['Routine'], name='Routine', marker_color='lightseagreen', showlegend=True,\n",
        "        hovertemplate='Routine: %{y:.2f} min<extra></extra>'),\n",
        "    row=1, col=2\n",
        ")\n",
        "\n",
        "# Update axes for second subplot\n",
        "fig.update_xaxes(title_text='Station', row=1, col=2)\n",
        "fig.update_yaxes(title_text='Average Wait Time', row=1, col=2)\n",
        "\n",
        "\n",
        "# 3. Histogram: Total Wait Time per Patient\n",
        "total_wait = (\n",
        "    patients_df['CheckInWaitMin'] +\n",
        "    patients_df['TriageWaitMin'] +\n",
        "    patients_df['ConsultationWaitMin'] +\n",
        "    patients_df['TestWaitMin'].fillna(0) +\n",
        "    patients_df['PharmacyWaitMin'] +\n",
        "    patients_df['BillingWaitMin']\n",
        ")\n",
        "fig.add_trace(\n",
        "    go.Histogram(x=total_wait, name=\"Total Wait Time\", marker_color='mediumpurple',\n",
        "                 xbins=dict(start=0, end=70,size=5 ),\n",
        "                 showlegend=False),\n",
        "    row=2, col=1\n",
        ")\n",
        "\n",
        "fig.update_xaxes(title_text='Total Waiting Time (Mins)',tickmode='array', tickvals=[10, 20, 30, 40, 50, 60], row=2, col=1)\n",
        "fig.update_yaxes(title_text='No of Patients', row=2, col=1)\n",
        "\n",
        "# 4. Histogram: Total Clinic Time\n",
        "total_clinic_time = (\n",
        "    patients_df['CheckInWaitMin'] + patients_df['CheckInDurationMin'] +\n",
        "    patients_df['TriageWaitMin'] + patients_df['TriageDurationMin'] +\n",
        "    patients_df['ConsultationWaitMin'] + patients_df['TotalConsultationTimeMin'] +\n",
        "    patients_df['TestWaitMin'].fillna(0) + patients_df['TestDurationMin'].fillna(0) +\n",
        "    patients_df['PharmacyWaitMin'] + patients_df['ExplanationTimeMin'] +\n",
        "    patients_df['BillingDurationMin'] + patients_df['BillingWaitMin']\n",
        ")\n",
        "fig.add_trace(\n",
        "    go.Histogram(x=total_clinic_time, name=\"Total Clinic Time\", marker_color='cadetblue',\n",
        "                 xbins=dict(start=0, end=150,size=10),\n",
        "                 showlegend=False),\n",
        "    row=2, col=2\n",
        ")\n",
        "\n",
        "fig.update_xaxes(title_text='Total Time at Clinic (Mins)', tickmode='array', tickvals=[10, 30, 50, 70, 90, 110, 130, 150], row=2, col=2)\n",
        "fig.update_yaxes(title_text='No of Patients', row=2, col=2)\n",
        "\n",
        "\n",
        "# Final layout\n",
        "fig.update_layout(\n",
        "    height=1000,\n",
        "    width=1000,\n",
        "    title=\"Time Analysis of Patient Flow\",\n",
        "    title_x=0.5,\n",
        "    template=\"plotly_white\",\n",
        "    barmode=\"group\",\n",
        "    # showlegend=False  # Hide full legend\n",
        ")\n",
        "\n",
        "fig.show()\n"
      ]
    },
    {
      "cell_type": "markdown",
      "metadata": {
        "id": "_beq-tOVswa8"
      },
      "source": [
        "# 📊 Queue Monitoring Over Time and Others\n",
        "\n",
        "This section presents visual analyses of queue dynamics and doctor workload based on the clinical simulation data.\n",
        "\n",
        "---\n",
        "\n",
        "1. **Line Plot**: Consultation Queue Sizes Over Time\n",
        "\n",
        "Tracks how queue sizes evolve at the **consultation stage** for routine and emergency patients.\n",
        "\n",
        "\n",
        "2. **Line Plot**: Pharmacy Queue Size Over Time\n",
        "\n",
        "Illustrates the queue size at the **pharmacy** over time.\n",
        "\n",
        "\n",
        "3. **Bar Plot**: Number of Patients Seen Per Doctor\n",
        "\n",
        "- Count of patients **grouped by Doctor**"
      ]
    },
    {
      "cell_type": "code",
      "execution_count": 44,
      "metadata": {
        "colab": {
          "base_uri": "https://localhost:8080/",
          "height": 1000
        },
        "id": "7UxX8kE5nSz9",
        "outputId": "bde5066b-cd1c-45e7-8381-78c1af37e078"
      },
      "outputs": [
        {
          "data": {
            "application/vnd.plotly.v1+json": {
              "config": {
                "plotlyServerURL": "https://plot.ly"
              },
              "data": [
                {
                  "line": {
                    "color": "royalblue"
                  },
                  "mode": "lines",
                  "name": "Routine Queue",
                  "showlegend": true,
                  "type": "scatter",
                  "x": [
                    "08:32:00",
                    "08:44:00",
                    "09:11:00",
                    "09:32:00",
                    "09:39:00",
                    "09:40:00",
                    "09:49:00",
                    "10:18:00",
                    "10:21:00",
                    "10:41:00",
                    "10:44:00",
                    "10:47:00",
                    "10:48:00",
                    "10:51:00",
                    "10:58:00",
                    "11:00:00",
                    "11:06:00",
                    "11:11:00",
                    "11:14:00",
                    "11:17:00",
                    "11:19:00",
                    "11:21:00",
                    "11:23:00",
                    "11:24:00",
                    "11:26:00",
                    "11:29:00",
                    "11:32:00",
                    "11:34:00",
                    "11:40:00",
                    "11:41:00",
                    "11:46:00",
                    "11:48:00",
                    "11:49:00",
                    "11:52:00",
                    "11:54:00",
                    "11:56:00",
                    "12:01:00",
                    "12:06:00",
                    "12:10:00",
                    "12:12:00",
                    "12:15:00",
                    "12:16:00",
                    "12:18:00",
                    "12:19:00",
                    "12:25:00",
                    "12:25:00",
                    "12:29:00",
                    "12:34:00",
                    "12:36:00",
                    "12:38:00",
                    "12:40:00",
                    "12:42:00",
                    "12:44:00",
                    "12:47:00",
                    "12:50:00",
                    "13:05:00",
                    "13:07:00",
                    "13:09:00",
                    "13:13:00",
                    "13:16:00",
                    "13:20:00",
                    "13:20:00",
                    "13:24:00",
                    "13:30:00",
                    "13:31:00",
                    "13:34:00",
                    "13:36:00",
                    "13:38:00",
                    "13:41:00",
                    "13:43:00",
                    "13:49:00",
                    "13:49:00",
                    "13:53:00",
                    "13:54:00",
                    "13:58:00",
                    "14:02:00",
                    "14:03:00",
                    "14:05:00",
                    "14:06:00",
                    "14:20:00",
                    "14:21:00",
                    "14:24:00",
                    "14:40:00",
                    "14:55:00",
                    "15:14:00",
                    "15:17:00",
                    "15:31:00",
                    "15:37:00",
                    "16:05:00",
                    "16:10:00",
                    "16:12:00",
                    "16:20:00",
                    "16:24:00",
                    "16:25:00",
                    "16:27:00",
                    "16:29:00",
                    "16:41:00",
                    "16:42:00",
                    "16:48:00",
                    "17:02:00"
                  ],
                  "xaxis": "x",
                  "y": {
                    "bdata": "AAAAAAAAAAAAAAAAAAAAAAAAAAAAAQEBAgMCAwMCAgMEBAQFBAQFAwQEBQUGBwcFBQYHCAgJCAYGBgUGBwYHBgcGBgcHCAcICQgHCAkKCgcICAUBAAAAAAAAAAAAAAEAAAAAAA==",
                    "dtype": "i1"
                  },
                  "yaxis": "y"
                },
                {
                  "line": {
                    "color": "firebrick"
                  },
                  "mode": "lines",
                  "name": "Emergency Queue",
                  "showlegend": true,
                  "type": "scatter",
                  "x": [
                    "08:32:00",
                    "08:44:00",
                    "09:11:00",
                    "09:32:00",
                    "09:39:00",
                    "09:40:00",
                    "09:49:00",
                    "10:18:00",
                    "10:21:00",
                    "10:41:00",
                    "10:44:00",
                    "10:47:00",
                    "10:48:00",
                    "10:51:00",
                    "10:58:00",
                    "11:00:00",
                    "11:06:00",
                    "11:11:00",
                    "11:14:00",
                    "11:17:00",
                    "11:19:00",
                    "11:21:00",
                    "11:23:00",
                    "11:24:00",
                    "11:26:00",
                    "11:29:00",
                    "11:32:00",
                    "11:34:00",
                    "11:40:00",
                    "11:41:00",
                    "11:46:00",
                    "11:48:00",
                    "11:49:00",
                    "11:52:00",
                    "11:54:00",
                    "11:56:00",
                    "12:01:00",
                    "12:06:00",
                    "12:10:00",
                    "12:12:00",
                    "12:15:00",
                    "12:16:00",
                    "12:18:00",
                    "12:19:00",
                    "12:25:00",
                    "12:25:00",
                    "12:29:00",
                    "12:34:00",
                    "12:36:00",
                    "12:38:00",
                    "12:40:00",
                    "12:42:00",
                    "12:44:00",
                    "12:47:00",
                    "12:50:00",
                    "13:05:00",
                    "13:07:00",
                    "13:09:00",
                    "13:13:00",
                    "13:16:00",
                    "13:20:00",
                    "13:20:00",
                    "13:24:00",
                    "13:30:00",
                    "13:31:00",
                    "13:34:00",
                    "13:36:00",
                    "13:38:00",
                    "13:41:00",
                    "13:43:00",
                    "13:49:00",
                    "13:49:00",
                    "13:53:00",
                    "13:54:00",
                    "13:58:00",
                    "14:02:00",
                    "14:03:00",
                    "14:05:00",
                    "14:06:00",
                    "14:20:00",
                    "14:21:00",
                    "14:24:00",
                    "14:40:00",
                    "14:55:00",
                    "15:14:00",
                    "15:17:00",
                    "15:31:00",
                    "15:37:00",
                    "16:05:00",
                    "16:10:00",
                    "16:12:00",
                    "16:20:00",
                    "16:24:00",
                    "16:25:00",
                    "16:27:00",
                    "16:29:00",
                    "16:41:00",
                    "16:42:00",
                    "16:48:00",
                    "17:02:00"
                  ],
                  "xaxis": "x",
                  "y": {
                    "bdata": "AAAAAAAAAAAAAAAAAAAAAAAAAAAAAAABAQABAAAAAAAAAAAAAAAAAQECAAAAAAAAAQAAAAEAAQAAAAAAAAAAAAAAAQEAAAAAAAABAAAAAAAAAAAAAAAAAAAAAAAAAAAAAAAAAA==",
                    "dtype": "i1"
                  },
                  "yaxis": "y"
                },
                {
                  "line": {
                    "color": "seagreen"
                  },
                  "mode": "lines",
                  "name": "Pharmacy Queue",
                  "showlegend": false,
                  "type": "scatter",
                  "x": [
                    "09:02:00",
                    "09:26:00",
                    "09:38:00",
                    "09:50:00",
                    "10:08:00",
                    "10:09:00",
                    "10:21:00",
                    "10:36:00",
                    "10:36:00",
                    "10:58:00",
                    "11:05:00",
                    "11:06:00",
                    "11:10:00",
                    "11:29:00",
                    "11:30:00",
                    "11:30:00",
                    "11:31:00",
                    "11:36:00",
                    "11:52:00",
                    "11:53:00",
                    "11:57:00",
                    "11:58:00",
                    "12:01:00",
                    "12:02:00",
                    "12:06:00",
                    "12:10:00",
                    "12:11:00",
                    "12:12:00",
                    "12:19:00",
                    "12:23:00",
                    "12:28:00",
                    "12:30:00",
                    "12:31:00",
                    "12:33:00",
                    "12:34:00",
                    "12:34:00",
                    "12:38:00",
                    "12:45:00",
                    "12:48:00",
                    "12:52:00",
                    "12:55:00",
                    "13:01:00",
                    "13:02:00",
                    "13:05:00",
                    "13:10:00",
                    "13:13:00",
                    "13:18:00",
                    "13:22:00",
                    "13:25:00",
                    "13:33:00",
                    "13:34:00",
                    "13:38:00",
                    "13:39:00",
                    "13:41:00",
                    "13:48:00",
                    "13:53:00",
                    "13:56:00",
                    "14:05:00",
                    "14:05:00",
                    "14:06:00",
                    "14:09:00",
                    "14:11:00",
                    "14:19:00",
                    "14:23:00",
                    "14:30:00",
                    "14:31:00",
                    "14:39:00",
                    "14:44:00",
                    "14:46:00",
                    "14:47:00",
                    "14:48:00",
                    "14:49:00",
                    "14:51:00",
                    "14:54:00",
                    "15:00:00",
                    "15:04:00",
                    "15:05:00",
                    "15:06:00",
                    "15:11:00",
                    "15:18:00",
                    "15:29:00",
                    "15:33:00",
                    "15:47:00",
                    "15:50:00",
                    "15:53:00",
                    "16:24:00",
                    "16:24:00",
                    "16:29:00",
                    "16:37:00",
                    "16:41:00",
                    "16:41:00",
                    "16:41:00",
                    "16:42:00",
                    "16:45:00",
                    "16:48:00",
                    "16:59:00",
                    "17:01:00",
                    "17:16:00",
                    "17:19:00",
                    "17:31:00"
                  ],
                  "xaxis": "x2",
                  "y": {
                    "bdata": "AAAAAAAAAAAAAAAAAAAAAAECAAAAAQECAgICAgIBAgICAgQDBQMEAgMCAgMEAgMCAgEBAgICAgEBAAABAQIBAQAAAAAAAAECAwMCAgMEAwEAAAAAAAAAAAABAAACAwMBAAAAAA==",
                    "dtype": "i1"
                  },
                  "yaxis": "y2"
                },
                {
                  "marker": {
                    "color": "darkslateblue"
                  },
                  "name": "Patients per Doctor",
                  "showlegend": false,
                  "type": "bar",
                  "x": [
                    "A",
                    "B",
                    "C",
                    "D",
                    "E"
                  ],
                  "xaxis": "x3",
                  "y": {
                    "bdata": "FRQUFBM=",
                    "dtype": "i1"
                  },
                  "yaxis": "y3"
                }
              ],
              "layout": {
                "annotations": [
                  {
                    "font": {
                      "size": 16
                    },
                    "showarrow": false,
                    "text": "Consultation Queue Sizes Over Time",
                    "x": 0.5,
                    "xanchor": "center",
                    "xref": "paper",
                    "y": 1,
                    "yanchor": "bottom",
                    "yref": "paper"
                  },
                  {
                    "font": {
                      "size": 16
                    },
                    "showarrow": false,
                    "text": "Pharmacy Queue Size Over Time",
                    "x": 0.5,
                    "xanchor": "center",
                    "xref": "paper",
                    "y": 0.6111111111111112,
                    "yanchor": "bottom",
                    "yref": "paper"
                  },
                  {
                    "font": {
                      "size": 16
                    },
                    "showarrow": false,
                    "text": "Patients Seen per Doctor",
                    "x": 0.5,
                    "xanchor": "center",
                    "xref": "paper",
                    "y": 0.22222222222222224,
                    "yanchor": "bottom",
                    "yref": "paper"
                  }
                ],
                "height": 1000,
                "template": {
                  "data": {
                    "bar": [
                      {
                        "error_x": {
                          "color": "#2a3f5f"
                        },
                        "error_y": {
                          "color": "#2a3f5f"
                        },
                        "marker": {
                          "line": {
                            "color": "white",
                            "width": 0.5
                          },
                          "pattern": {
                            "fillmode": "overlay",
                            "size": 10,
                            "solidity": 0.2
                          }
                        },
                        "type": "bar"
                      }
                    ],
                    "barpolar": [
                      {
                        "marker": {
                          "line": {
                            "color": "white",
                            "width": 0.5
                          },
                          "pattern": {
                            "fillmode": "overlay",
                            "size": 10,
                            "solidity": 0.2
                          }
                        },
                        "type": "barpolar"
                      }
                    ],
                    "carpet": [
                      {
                        "aaxis": {
                          "endlinecolor": "#2a3f5f",
                          "gridcolor": "#C8D4E3",
                          "linecolor": "#C8D4E3",
                          "minorgridcolor": "#C8D4E3",
                          "startlinecolor": "#2a3f5f"
                        },
                        "baxis": {
                          "endlinecolor": "#2a3f5f",
                          "gridcolor": "#C8D4E3",
                          "linecolor": "#C8D4E3",
                          "minorgridcolor": "#C8D4E3",
                          "startlinecolor": "#2a3f5f"
                        },
                        "type": "carpet"
                      }
                    ],
                    "choropleth": [
                      {
                        "colorbar": {
                          "outlinewidth": 0,
                          "ticks": ""
                        },
                        "type": "choropleth"
                      }
                    ],
                    "contour": [
                      {
                        "colorbar": {
                          "outlinewidth": 0,
                          "ticks": ""
                        },
                        "colorscale": [
                          [
                            0,
                            "#0d0887"
                          ],
                          [
                            0.1111111111111111,
                            "#46039f"
                          ],
                          [
                            0.2222222222222222,
                            "#7201a8"
                          ],
                          [
                            0.3333333333333333,
                            "#9c179e"
                          ],
                          [
                            0.4444444444444444,
                            "#bd3786"
                          ],
                          [
                            0.5555555555555556,
                            "#d8576b"
                          ],
                          [
                            0.6666666666666666,
                            "#ed7953"
                          ],
                          [
                            0.7777777777777778,
                            "#fb9f3a"
                          ],
                          [
                            0.8888888888888888,
                            "#fdca26"
                          ],
                          [
                            1,
                            "#f0f921"
                          ]
                        ],
                        "type": "contour"
                      }
                    ],
                    "contourcarpet": [
                      {
                        "colorbar": {
                          "outlinewidth": 0,
                          "ticks": ""
                        },
                        "type": "contourcarpet"
                      }
                    ],
                    "heatmap": [
                      {
                        "colorbar": {
                          "outlinewidth": 0,
                          "ticks": ""
                        },
                        "colorscale": [
                          [
                            0,
                            "#0d0887"
                          ],
                          [
                            0.1111111111111111,
                            "#46039f"
                          ],
                          [
                            0.2222222222222222,
                            "#7201a8"
                          ],
                          [
                            0.3333333333333333,
                            "#9c179e"
                          ],
                          [
                            0.4444444444444444,
                            "#bd3786"
                          ],
                          [
                            0.5555555555555556,
                            "#d8576b"
                          ],
                          [
                            0.6666666666666666,
                            "#ed7953"
                          ],
                          [
                            0.7777777777777778,
                            "#fb9f3a"
                          ],
                          [
                            0.8888888888888888,
                            "#fdca26"
                          ],
                          [
                            1,
                            "#f0f921"
                          ]
                        ],
                        "type": "heatmap"
                      }
                    ],
                    "histogram": [
                      {
                        "marker": {
                          "pattern": {
                            "fillmode": "overlay",
                            "size": 10,
                            "solidity": 0.2
                          }
                        },
                        "type": "histogram"
                      }
                    ],
                    "histogram2d": [
                      {
                        "colorbar": {
                          "outlinewidth": 0,
                          "ticks": ""
                        },
                        "colorscale": [
                          [
                            0,
                            "#0d0887"
                          ],
                          [
                            0.1111111111111111,
                            "#46039f"
                          ],
                          [
                            0.2222222222222222,
                            "#7201a8"
                          ],
                          [
                            0.3333333333333333,
                            "#9c179e"
                          ],
                          [
                            0.4444444444444444,
                            "#bd3786"
                          ],
                          [
                            0.5555555555555556,
                            "#d8576b"
                          ],
                          [
                            0.6666666666666666,
                            "#ed7953"
                          ],
                          [
                            0.7777777777777778,
                            "#fb9f3a"
                          ],
                          [
                            0.8888888888888888,
                            "#fdca26"
                          ],
                          [
                            1,
                            "#f0f921"
                          ]
                        ],
                        "type": "histogram2d"
                      }
                    ],
                    "histogram2dcontour": [
                      {
                        "colorbar": {
                          "outlinewidth": 0,
                          "ticks": ""
                        },
                        "colorscale": [
                          [
                            0,
                            "#0d0887"
                          ],
                          [
                            0.1111111111111111,
                            "#46039f"
                          ],
                          [
                            0.2222222222222222,
                            "#7201a8"
                          ],
                          [
                            0.3333333333333333,
                            "#9c179e"
                          ],
                          [
                            0.4444444444444444,
                            "#bd3786"
                          ],
                          [
                            0.5555555555555556,
                            "#d8576b"
                          ],
                          [
                            0.6666666666666666,
                            "#ed7953"
                          ],
                          [
                            0.7777777777777778,
                            "#fb9f3a"
                          ],
                          [
                            0.8888888888888888,
                            "#fdca26"
                          ],
                          [
                            1,
                            "#f0f921"
                          ]
                        ],
                        "type": "histogram2dcontour"
                      }
                    ],
                    "mesh3d": [
                      {
                        "colorbar": {
                          "outlinewidth": 0,
                          "ticks": ""
                        },
                        "type": "mesh3d"
                      }
                    ],
                    "parcoords": [
                      {
                        "line": {
                          "colorbar": {
                            "outlinewidth": 0,
                            "ticks": ""
                          }
                        },
                        "type": "parcoords"
                      }
                    ],
                    "pie": [
                      {
                        "automargin": true,
                        "type": "pie"
                      }
                    ],
                    "scatter": [
                      {
                        "fillpattern": {
                          "fillmode": "overlay",
                          "size": 10,
                          "solidity": 0.2
                        },
                        "type": "scatter"
                      }
                    ],
                    "scatter3d": [
                      {
                        "line": {
                          "colorbar": {
                            "outlinewidth": 0,
                            "ticks": ""
                          }
                        },
                        "marker": {
                          "colorbar": {
                            "outlinewidth": 0,
                            "ticks": ""
                          }
                        },
                        "type": "scatter3d"
                      }
                    ],
                    "scattercarpet": [
                      {
                        "marker": {
                          "colorbar": {
                            "outlinewidth": 0,
                            "ticks": ""
                          }
                        },
                        "type": "scattercarpet"
                      }
                    ],
                    "scattergeo": [
                      {
                        "marker": {
                          "colorbar": {
                            "outlinewidth": 0,
                            "ticks": ""
                          }
                        },
                        "type": "scattergeo"
                      }
                    ],
                    "scattergl": [
                      {
                        "marker": {
                          "colorbar": {
                            "outlinewidth": 0,
                            "ticks": ""
                          }
                        },
                        "type": "scattergl"
                      }
                    ],
                    "scattermap": [
                      {
                        "marker": {
                          "colorbar": {
                            "outlinewidth": 0,
                            "ticks": ""
                          }
                        },
                        "type": "scattermap"
                      }
                    ],
                    "scattermapbox": [
                      {
                        "marker": {
                          "colorbar": {
                            "outlinewidth": 0,
                            "ticks": ""
                          }
                        },
                        "type": "scattermapbox"
                      }
                    ],
                    "scatterpolar": [
                      {
                        "marker": {
                          "colorbar": {
                            "outlinewidth": 0,
                            "ticks": ""
                          }
                        },
                        "type": "scatterpolar"
                      }
                    ],
                    "scatterpolargl": [
                      {
                        "marker": {
                          "colorbar": {
                            "outlinewidth": 0,
                            "ticks": ""
                          }
                        },
                        "type": "scatterpolargl"
                      }
                    ],
                    "scatterternary": [
                      {
                        "marker": {
                          "colorbar": {
                            "outlinewidth": 0,
                            "ticks": ""
                          }
                        },
                        "type": "scatterternary"
                      }
                    ],
                    "surface": [
                      {
                        "colorbar": {
                          "outlinewidth": 0,
                          "ticks": ""
                        },
                        "colorscale": [
                          [
                            0,
                            "#0d0887"
                          ],
                          [
                            0.1111111111111111,
                            "#46039f"
                          ],
                          [
                            0.2222222222222222,
                            "#7201a8"
                          ],
                          [
                            0.3333333333333333,
                            "#9c179e"
                          ],
                          [
                            0.4444444444444444,
                            "#bd3786"
                          ],
                          [
                            0.5555555555555556,
                            "#d8576b"
                          ],
                          [
                            0.6666666666666666,
                            "#ed7953"
                          ],
                          [
                            0.7777777777777778,
                            "#fb9f3a"
                          ],
                          [
                            0.8888888888888888,
                            "#fdca26"
                          ],
                          [
                            1,
                            "#f0f921"
                          ]
                        ],
                        "type": "surface"
                      }
                    ],
                    "table": [
                      {
                        "cells": {
                          "fill": {
                            "color": "#EBF0F8"
                          },
                          "line": {
                            "color": "white"
                          }
                        },
                        "header": {
                          "fill": {
                            "color": "#C8D4E3"
                          },
                          "line": {
                            "color": "white"
                          }
                        },
                        "type": "table"
                      }
                    ]
                  },
                  "layout": {
                    "annotationdefaults": {
                      "arrowcolor": "#2a3f5f",
                      "arrowhead": 0,
                      "arrowwidth": 1
                    },
                    "autotypenumbers": "strict",
                    "coloraxis": {
                      "colorbar": {
                        "outlinewidth": 0,
                        "ticks": ""
                      }
                    },
                    "colorscale": {
                      "diverging": [
                        [
                          0,
                          "#8e0152"
                        ],
                        [
                          0.1,
                          "#c51b7d"
                        ],
                        [
                          0.2,
                          "#de77ae"
                        ],
                        [
                          0.3,
                          "#f1b6da"
                        ],
                        [
                          0.4,
                          "#fde0ef"
                        ],
                        [
                          0.5,
                          "#f7f7f7"
                        ],
                        [
                          0.6,
                          "#e6f5d0"
                        ],
                        [
                          0.7,
                          "#b8e186"
                        ],
                        [
                          0.8,
                          "#7fbc41"
                        ],
                        [
                          0.9,
                          "#4d9221"
                        ],
                        [
                          1,
                          "#276419"
                        ]
                      ],
                      "sequential": [
                        [
                          0,
                          "#0d0887"
                        ],
                        [
                          0.1111111111111111,
                          "#46039f"
                        ],
                        [
                          0.2222222222222222,
                          "#7201a8"
                        ],
                        [
                          0.3333333333333333,
                          "#9c179e"
                        ],
                        [
                          0.4444444444444444,
                          "#bd3786"
                        ],
                        [
                          0.5555555555555556,
                          "#d8576b"
                        ],
                        [
                          0.6666666666666666,
                          "#ed7953"
                        ],
                        [
                          0.7777777777777778,
                          "#fb9f3a"
                        ],
                        [
                          0.8888888888888888,
                          "#fdca26"
                        ],
                        [
                          1,
                          "#f0f921"
                        ]
                      ],
                      "sequentialminus": [
                        [
                          0,
                          "#0d0887"
                        ],
                        [
                          0.1111111111111111,
                          "#46039f"
                        ],
                        [
                          0.2222222222222222,
                          "#7201a8"
                        ],
                        [
                          0.3333333333333333,
                          "#9c179e"
                        ],
                        [
                          0.4444444444444444,
                          "#bd3786"
                        ],
                        [
                          0.5555555555555556,
                          "#d8576b"
                        ],
                        [
                          0.6666666666666666,
                          "#ed7953"
                        ],
                        [
                          0.7777777777777778,
                          "#fb9f3a"
                        ],
                        [
                          0.8888888888888888,
                          "#fdca26"
                        ],
                        [
                          1,
                          "#f0f921"
                        ]
                      ]
                    },
                    "colorway": [
                      "#636efa",
                      "#EF553B",
                      "#00cc96",
                      "#ab63fa",
                      "#FFA15A",
                      "#19d3f3",
                      "#FF6692",
                      "#B6E880",
                      "#FF97FF",
                      "#FECB52"
                    ],
                    "font": {
                      "color": "#2a3f5f"
                    },
                    "geo": {
                      "bgcolor": "white",
                      "lakecolor": "white",
                      "landcolor": "white",
                      "showlakes": true,
                      "showland": true,
                      "subunitcolor": "#C8D4E3"
                    },
                    "hoverlabel": {
                      "align": "left"
                    },
                    "hovermode": "closest",
                    "mapbox": {
                      "style": "light"
                    },
                    "paper_bgcolor": "white",
                    "plot_bgcolor": "white",
                    "polar": {
                      "angularaxis": {
                        "gridcolor": "#EBF0F8",
                        "linecolor": "#EBF0F8",
                        "ticks": ""
                      },
                      "bgcolor": "white",
                      "radialaxis": {
                        "gridcolor": "#EBF0F8",
                        "linecolor": "#EBF0F8",
                        "ticks": ""
                      }
                    },
                    "scene": {
                      "xaxis": {
                        "backgroundcolor": "white",
                        "gridcolor": "#DFE8F3",
                        "gridwidth": 2,
                        "linecolor": "#EBF0F8",
                        "showbackground": true,
                        "ticks": "",
                        "zerolinecolor": "#EBF0F8"
                      },
                      "yaxis": {
                        "backgroundcolor": "white",
                        "gridcolor": "#DFE8F3",
                        "gridwidth": 2,
                        "linecolor": "#EBF0F8",
                        "showbackground": true,
                        "ticks": "",
                        "zerolinecolor": "#EBF0F8"
                      },
                      "zaxis": {
                        "backgroundcolor": "white",
                        "gridcolor": "#DFE8F3",
                        "gridwidth": 2,
                        "linecolor": "#EBF0F8",
                        "showbackground": true,
                        "ticks": "",
                        "zerolinecolor": "#EBF0F8"
                      }
                    },
                    "shapedefaults": {
                      "line": {
                        "color": "#2a3f5f"
                      }
                    },
                    "ternary": {
                      "aaxis": {
                        "gridcolor": "#DFE8F3",
                        "linecolor": "#A2B1C6",
                        "ticks": ""
                      },
                      "baxis": {
                        "gridcolor": "#DFE8F3",
                        "linecolor": "#A2B1C6",
                        "ticks": ""
                      },
                      "bgcolor": "white",
                      "caxis": {
                        "gridcolor": "#DFE8F3",
                        "linecolor": "#A2B1C6",
                        "ticks": ""
                      }
                    },
                    "title": {
                      "x": 0.05
                    },
                    "xaxis": {
                      "automargin": true,
                      "gridcolor": "#EBF0F8",
                      "linecolor": "#EBF0F8",
                      "ticks": "",
                      "title": {
                        "standoff": 15
                      },
                      "zerolinecolor": "#EBF0F8",
                      "zerolinewidth": 2
                    },
                    "yaxis": {
                      "automargin": true,
                      "gridcolor": "#EBF0F8",
                      "linecolor": "#EBF0F8",
                      "ticks": "",
                      "title": {
                        "standoff": 15
                      },
                      "zerolinecolor": "#EBF0F8",
                      "zerolinewidth": 2
                    }
                  }
                },
                "title": {
                  "text": "Queue Monitoring and Doctor Load Analysis",
                  "x": 0.7
                },
                "width": 700,
                "xaxis": {
                  "anchor": "y",
                  "domain": [
                    0,
                    1
                  ],
                  "title": {
                    "text": "Time"
                  }
                },
                "xaxis2": {
                  "anchor": "y2",
                  "domain": [
                    0,
                    1
                  ],
                  "title": {
                    "text": "Time"
                  }
                },
                "xaxis3": {
                  "anchor": "y3",
                  "domain": [
                    0,
                    1
                  ],
                  "title": {
                    "text": "Doctor"
                  }
                },
                "yaxis": {
                  "anchor": "x",
                  "domain": [
                    0.7777777777777778,
                    1
                  ],
                  "title": {
                    "text": "Queue Size"
                  }
                },
                "yaxis2": {
                  "anchor": "x2",
                  "domain": [
                    0.3888888888888889,
                    0.6111111111111112
                  ],
                  "title": {
                    "text": "Queue Size"
                  }
                },
                "yaxis3": {
                  "anchor": "x3",
                  "domain": [
                    0,
                    0.22222222222222224
                  ],
                  "title": {
                    "text": "Patients Seen"
                  }
                }
              }
            }
          },
          "metadata": {},
          "output_type": "display_data"
        }
      ],
      "source": [
        "# Group and sort data for plot 1 (Consultation queue over time)\n",
        "consultation_queue_df = patients_df[['TriageOut', 'RoutineQueueSize', 'EmergencyQueueSize']].dropna()\n",
        "consultation_queue_df = consultation_queue_df.sort_values(by='TriageOut')\n",
        "\n",
        "# Group and sort data for plot 2 (Pharmacy queue over time)\n",
        "pharmacy_queue_df = patients_df[['PrescriptionDropoff', 'PharmacyQueueSize']].dropna()\n",
        "pharmacy_queue_df = pharmacy_queue_df.sort_values(by='PrescriptionDropoff')\n",
        "\n",
        "# Group data for plot 3 (patients seen per doctor)\n",
        "doctor_counts = patients_df['Doctor'].value_counts()\n",
        "\n",
        "\n",
        "# Colors\n",
        "colors = {\n",
        "    'Routine': 'royalblue',\n",
        "    'Emergency': 'firebrick',\n",
        "    'Pharmacy': 'seagreen',\n",
        "    'Doctor': 'darkslateblue'\n",
        "}\n",
        "\n",
        "# Create 3x1 subplot\n",
        "fig = make_subplots(\n",
        "    rows=3, cols=1,\n",
        "    subplot_titles=[\n",
        "        \"Consultation Queue Sizes Over Time\",\n",
        "        \"Pharmacy Queue Size Over Time\",\n",
        "        \"Patients Seen per Doctor\"\n",
        "    ]\n",
        ")\n",
        "\n",
        "# Plot 1: Routine vs Emergency queue over time\n",
        "fig.add_trace(go.Scatter(\n",
        "    x=consultation_queue_df['TriageOut'],\n",
        "    y=consultation_queue_df['RoutineQueueSize'],\n",
        "    mode='lines', name='Routine Queue',\n",
        "    line=dict(color=colors['Routine']),\n",
        "    showlegend = True\n",
        "), row=1, col=1)\n",
        "\n",
        "fig.add_trace(go.Scatter(\n",
        "    x=consultation_queue_df['TriageOut'],\n",
        "    y=consultation_queue_df['EmergencyQueueSize'],\n",
        "    mode='lines', name='Emergency Queue',\n",
        "    line=dict(color=colors['Emergency']),\n",
        "    showlegend = True\n",
        "), row=1, col=1)\n",
        "\n",
        "# Plot 2: Pharmacy queue over time\n",
        "fig.add_trace(go.Scatter(\n",
        "    x=pharmacy_queue_df['PrescriptionDropoff'],\n",
        "    y=pharmacy_queue_df['PharmacyQueueSize'],\n",
        "    mode='lines', name='Pharmacy Queue',\n",
        "    line=dict(color=colors['Pharmacy']),\n",
        "    showlegend = False\n",
        "), row=2, col=1)\n",
        "\n",
        "# Plot 3: Patients seen per doctor\n",
        "fig.add_trace(go.Bar(\n",
        "    x=doctor_counts.index,\n",
        "    y=doctor_counts.values,\n",
        "    name='Patients per Doctor',\n",
        "    marker_color=colors['Doctor'],\n",
        "    showlegend = False\n",
        "), row=3, col=1)\n",
        "\n",
        "# Update axis labels\n",
        "fig.update_xaxes(title_text=\"Time\", row=1, col=1)\n",
        "fig.update_yaxes(title_text=\"Queue Size\", row=1, col=1)\n",
        "\n",
        "fig.update_xaxes(title_text=\"Time\", row=2, col=1)\n",
        "fig.update_yaxes(title_text=\"Queue Size\", row=2, col=1)\n",
        "\n",
        "fig.update_xaxes(title_text=\"Doctor\", row=3, col=1)\n",
        "fig.update_yaxes(title_text=\"Patients Seen\", row=3, col=1)\n",
        "\n",
        "\n",
        "# Final layout\n",
        "fig.update_layout(\n",
        "    height=1000, width=700,\n",
        "    title=\"Queue Monitoring and Doctor Load Analysis\",\n",
        "    title_x=0.7,\n",
        "    template=\"plotly_white\"\n",
        ")\n",
        "\n",
        "fig.show()\n"
      ]
    },
    {
      "cell_type": "markdown",
      "metadata": {
        "id": "BDMKto1HwsFm"
      },
      "source": [
        "## 🔬 Diagnostic Tests & Outcomes\n",
        "\n",
        "This section analyzes patterns in diagnostic test usage and turnaround times using two visualizations.\n",
        "\n",
        "---\n",
        "\n",
        "### 1. 📦 Box Plot: Days to Receive Diagnostic Test Results\n",
        "\n",
        "- **What it shows**:  \n",
        "  The distribution of **number of days** patients waited to receive results for each diagnostic test type.\n",
        "\n",
        "- **Insight**:  \n",
        "  Highlights variability in turnaround times across test types.\n",
        "\n",
        "---\n",
        "\n",
        "### 2. 📊 Bar Plot: Count of Diagnostic Tests Ordered\n",
        "\n",
        "- **What it shows**:  \n",
        "  The frequency of each diagnostic test type ordered\n",
        "\n",
        "- **Insight**:  \n",
        "  Reveals the most commonly ordered tests, helping stakeholders understand clinical demand and optimize test station capacity accordingly.\n",
        "\n",
        "---\n"
      ]
    },
    {
      "cell_type": "code",
      "execution_count": 45,
      "metadata": {
        "colab": {
          "base_uri": "https://localhost:8080/",
          "height": 517
        },
        "id": "PZkCE6UfurJP",
        "outputId": "5f4de1a3-770f-4bb2-9209-bb79855d8124"
      },
      "outputs": [
        {
          "data": {
            "application/vnd.plotly.v1+json": {
              "config": {
                "plotlyServerURL": "https://plot.ly"
              },
              "data": [
                {
                  "fillcolor": "rgba(44, 160, 101, 0.5)",
                  "line": {
                    "width": 1
                  },
                  "name": "EEG",
                  "type": "box",
                  "whiskerwidth": 0.5,
                  "xaxis": "x",
                  "y": {
                    "bdata": "AAAAAAAAJkAAAAAAAAAiQAAAAAAAACJAAAAAAAAAIEAAAAAAAAAsQAAAAAAAACpAAAAAAAAALEAAAAAAAAAqQAAAAAAAACpAAAAAAAAAKkAAAAAAAAAkQAAAAAAAACxA",
                    "dtype": "f8"
                  },
                  "yaxis": "y"
                },
                {
                  "fillcolor": "rgba(93, 164, 214, 0.5)",
                  "line": {
                    "width": 1
                  },
                  "name": "Blood Test",
                  "type": "box",
                  "whiskerwidth": 0.5,
                  "xaxis": "x",
                  "y": {
                    "bdata": "AAAAAAAA8D8AAAAAAAAAQAAAAAAAAAhAAAAAAAAACEAAAAAAAAAAQAAAAAAAAABAAAAAAAAAAEAAAAAAAAAAQAAAAAAAAAhAAAAAAAAA8D8AAAAAAADwPwAAAAAAAAhAAAAAAAAA8D8AAAAAAAAIQAAAAAAAAPA/AAAAAAAACEAAAAAAAAAAQAAAAAAAAAhAAAAAAAAA8D8AAAAAAADwPwAAAAAAAABAAAAAAAAACEAAAAAAAADwPwAAAAAAAPA/AAAAAAAA8D8AAAAAAADwPwAAAAAAAABAAAAAAAAAAEA=",
                    "dtype": "f8"
                  },
                  "yaxis": "y"
                },
                {
                  "fillcolor": "rgba(255, 144, 14, 0.5)",
                  "line": {
                    "width": 1
                  },
                  "name": "Neuroimaging",
                  "type": "box",
                  "whiskerwidth": 0.5,
                  "xaxis": "x",
                  "y": {
                    "bdata": "AAAAAAAAEEAAAAAAAAAQQAAAAAAAAABAAAAAAAAACEAAAAAAAAAAQAAAAAAAAABA",
                    "dtype": "f8"
                  },
                  "yaxis": "y"
                },
                {
                  "marker": {
                    "color": [
                      "rgba(93, 164, 214, 0.5)",
                      "rgba(44, 160, 101, 0.5)",
                      "rgba(255, 144, 14, 0.5)"
                    ]
                  },
                  "name": "Test Orders",
                  "type": "bar",
                  "x": [
                    "Blood Test",
                    "EEG",
                    "Neuroimaging"
                  ],
                  "xaxis": "x2",
                  "y": {
                    "bdata": "HAwG",
                    "dtype": "i1"
                  },
                  "yaxis": "y2"
                }
              ],
              "layout": {
                "annotations": [
                  {
                    "font": {
                      "size": 16
                    },
                    "showarrow": false,
                    "text": "Days to Receive Diagnostic Test Results",
                    "x": 0.225,
                    "xanchor": "center",
                    "xref": "paper",
                    "y": 1,
                    "yanchor": "bottom",
                    "yref": "paper"
                  },
                  {
                    "font": {
                      "size": 16
                    },
                    "showarrow": false,
                    "text": "Diagnostic Test Order Counts",
                    "x": 0.775,
                    "xanchor": "center",
                    "xref": "paper",
                    "y": 1,
                    "yanchor": "bottom",
                    "yref": "paper"
                  }
                ],
                "height": 500,
                "margin": {
                  "b": 60,
                  "l": 50,
                  "r": 50,
                  "t": 100
                },
                "paper_bgcolor": "rgb(243, 243, 243)",
                "plot_bgcolor": "rgb(243, 243, 243)",
                "showlegend": false,
                "template": {
                  "data": {
                    "bar": [
                      {
                        "error_x": {
                          "color": "#2a3f5f"
                        },
                        "error_y": {
                          "color": "#2a3f5f"
                        },
                        "marker": {
                          "line": {
                            "color": "#E5ECF6",
                            "width": 0.5
                          },
                          "pattern": {
                            "fillmode": "overlay",
                            "size": 10,
                            "solidity": 0.2
                          }
                        },
                        "type": "bar"
                      }
                    ],
                    "barpolar": [
                      {
                        "marker": {
                          "line": {
                            "color": "#E5ECF6",
                            "width": 0.5
                          },
                          "pattern": {
                            "fillmode": "overlay",
                            "size": 10,
                            "solidity": 0.2
                          }
                        },
                        "type": "barpolar"
                      }
                    ],
                    "carpet": [
                      {
                        "aaxis": {
                          "endlinecolor": "#2a3f5f",
                          "gridcolor": "white",
                          "linecolor": "white",
                          "minorgridcolor": "white",
                          "startlinecolor": "#2a3f5f"
                        },
                        "baxis": {
                          "endlinecolor": "#2a3f5f",
                          "gridcolor": "white",
                          "linecolor": "white",
                          "minorgridcolor": "white",
                          "startlinecolor": "#2a3f5f"
                        },
                        "type": "carpet"
                      }
                    ],
                    "choropleth": [
                      {
                        "colorbar": {
                          "outlinewidth": 0,
                          "ticks": ""
                        },
                        "type": "choropleth"
                      }
                    ],
                    "contour": [
                      {
                        "colorbar": {
                          "outlinewidth": 0,
                          "ticks": ""
                        },
                        "colorscale": [
                          [
                            0,
                            "#0d0887"
                          ],
                          [
                            0.1111111111111111,
                            "#46039f"
                          ],
                          [
                            0.2222222222222222,
                            "#7201a8"
                          ],
                          [
                            0.3333333333333333,
                            "#9c179e"
                          ],
                          [
                            0.4444444444444444,
                            "#bd3786"
                          ],
                          [
                            0.5555555555555556,
                            "#d8576b"
                          ],
                          [
                            0.6666666666666666,
                            "#ed7953"
                          ],
                          [
                            0.7777777777777778,
                            "#fb9f3a"
                          ],
                          [
                            0.8888888888888888,
                            "#fdca26"
                          ],
                          [
                            1,
                            "#f0f921"
                          ]
                        ],
                        "type": "contour"
                      }
                    ],
                    "contourcarpet": [
                      {
                        "colorbar": {
                          "outlinewidth": 0,
                          "ticks": ""
                        },
                        "type": "contourcarpet"
                      }
                    ],
                    "heatmap": [
                      {
                        "colorbar": {
                          "outlinewidth": 0,
                          "ticks": ""
                        },
                        "colorscale": [
                          [
                            0,
                            "#0d0887"
                          ],
                          [
                            0.1111111111111111,
                            "#46039f"
                          ],
                          [
                            0.2222222222222222,
                            "#7201a8"
                          ],
                          [
                            0.3333333333333333,
                            "#9c179e"
                          ],
                          [
                            0.4444444444444444,
                            "#bd3786"
                          ],
                          [
                            0.5555555555555556,
                            "#d8576b"
                          ],
                          [
                            0.6666666666666666,
                            "#ed7953"
                          ],
                          [
                            0.7777777777777778,
                            "#fb9f3a"
                          ],
                          [
                            0.8888888888888888,
                            "#fdca26"
                          ],
                          [
                            1,
                            "#f0f921"
                          ]
                        ],
                        "type": "heatmap"
                      }
                    ],
                    "histogram": [
                      {
                        "marker": {
                          "pattern": {
                            "fillmode": "overlay",
                            "size": 10,
                            "solidity": 0.2
                          }
                        },
                        "type": "histogram"
                      }
                    ],
                    "histogram2d": [
                      {
                        "colorbar": {
                          "outlinewidth": 0,
                          "ticks": ""
                        },
                        "colorscale": [
                          [
                            0,
                            "#0d0887"
                          ],
                          [
                            0.1111111111111111,
                            "#46039f"
                          ],
                          [
                            0.2222222222222222,
                            "#7201a8"
                          ],
                          [
                            0.3333333333333333,
                            "#9c179e"
                          ],
                          [
                            0.4444444444444444,
                            "#bd3786"
                          ],
                          [
                            0.5555555555555556,
                            "#d8576b"
                          ],
                          [
                            0.6666666666666666,
                            "#ed7953"
                          ],
                          [
                            0.7777777777777778,
                            "#fb9f3a"
                          ],
                          [
                            0.8888888888888888,
                            "#fdca26"
                          ],
                          [
                            1,
                            "#f0f921"
                          ]
                        ],
                        "type": "histogram2d"
                      }
                    ],
                    "histogram2dcontour": [
                      {
                        "colorbar": {
                          "outlinewidth": 0,
                          "ticks": ""
                        },
                        "colorscale": [
                          [
                            0,
                            "#0d0887"
                          ],
                          [
                            0.1111111111111111,
                            "#46039f"
                          ],
                          [
                            0.2222222222222222,
                            "#7201a8"
                          ],
                          [
                            0.3333333333333333,
                            "#9c179e"
                          ],
                          [
                            0.4444444444444444,
                            "#bd3786"
                          ],
                          [
                            0.5555555555555556,
                            "#d8576b"
                          ],
                          [
                            0.6666666666666666,
                            "#ed7953"
                          ],
                          [
                            0.7777777777777778,
                            "#fb9f3a"
                          ],
                          [
                            0.8888888888888888,
                            "#fdca26"
                          ],
                          [
                            1,
                            "#f0f921"
                          ]
                        ],
                        "type": "histogram2dcontour"
                      }
                    ],
                    "mesh3d": [
                      {
                        "colorbar": {
                          "outlinewidth": 0,
                          "ticks": ""
                        },
                        "type": "mesh3d"
                      }
                    ],
                    "parcoords": [
                      {
                        "line": {
                          "colorbar": {
                            "outlinewidth": 0,
                            "ticks": ""
                          }
                        },
                        "type": "parcoords"
                      }
                    ],
                    "pie": [
                      {
                        "automargin": true,
                        "type": "pie"
                      }
                    ],
                    "scatter": [
                      {
                        "fillpattern": {
                          "fillmode": "overlay",
                          "size": 10,
                          "solidity": 0.2
                        },
                        "type": "scatter"
                      }
                    ],
                    "scatter3d": [
                      {
                        "line": {
                          "colorbar": {
                            "outlinewidth": 0,
                            "ticks": ""
                          }
                        },
                        "marker": {
                          "colorbar": {
                            "outlinewidth": 0,
                            "ticks": ""
                          }
                        },
                        "type": "scatter3d"
                      }
                    ],
                    "scattercarpet": [
                      {
                        "marker": {
                          "colorbar": {
                            "outlinewidth": 0,
                            "ticks": ""
                          }
                        },
                        "type": "scattercarpet"
                      }
                    ],
                    "scattergeo": [
                      {
                        "marker": {
                          "colorbar": {
                            "outlinewidth": 0,
                            "ticks": ""
                          }
                        },
                        "type": "scattergeo"
                      }
                    ],
                    "scattergl": [
                      {
                        "marker": {
                          "colorbar": {
                            "outlinewidth": 0,
                            "ticks": ""
                          }
                        },
                        "type": "scattergl"
                      }
                    ],
                    "scattermap": [
                      {
                        "marker": {
                          "colorbar": {
                            "outlinewidth": 0,
                            "ticks": ""
                          }
                        },
                        "type": "scattermap"
                      }
                    ],
                    "scattermapbox": [
                      {
                        "marker": {
                          "colorbar": {
                            "outlinewidth": 0,
                            "ticks": ""
                          }
                        },
                        "type": "scattermapbox"
                      }
                    ],
                    "scatterpolar": [
                      {
                        "marker": {
                          "colorbar": {
                            "outlinewidth": 0,
                            "ticks": ""
                          }
                        },
                        "type": "scatterpolar"
                      }
                    ],
                    "scatterpolargl": [
                      {
                        "marker": {
                          "colorbar": {
                            "outlinewidth": 0,
                            "ticks": ""
                          }
                        },
                        "type": "scatterpolargl"
                      }
                    ],
                    "scatterternary": [
                      {
                        "marker": {
                          "colorbar": {
                            "outlinewidth": 0,
                            "ticks": ""
                          }
                        },
                        "type": "scatterternary"
                      }
                    ],
                    "surface": [
                      {
                        "colorbar": {
                          "outlinewidth": 0,
                          "ticks": ""
                        },
                        "colorscale": [
                          [
                            0,
                            "#0d0887"
                          ],
                          [
                            0.1111111111111111,
                            "#46039f"
                          ],
                          [
                            0.2222222222222222,
                            "#7201a8"
                          ],
                          [
                            0.3333333333333333,
                            "#9c179e"
                          ],
                          [
                            0.4444444444444444,
                            "#bd3786"
                          ],
                          [
                            0.5555555555555556,
                            "#d8576b"
                          ],
                          [
                            0.6666666666666666,
                            "#ed7953"
                          ],
                          [
                            0.7777777777777778,
                            "#fb9f3a"
                          ],
                          [
                            0.8888888888888888,
                            "#fdca26"
                          ],
                          [
                            1,
                            "#f0f921"
                          ]
                        ],
                        "type": "surface"
                      }
                    ],
                    "table": [
                      {
                        "cells": {
                          "fill": {
                            "color": "#EBF0F8"
                          },
                          "line": {
                            "color": "white"
                          }
                        },
                        "header": {
                          "fill": {
                            "color": "#C8D4E3"
                          },
                          "line": {
                            "color": "white"
                          }
                        },
                        "type": "table"
                      }
                    ]
                  },
                  "layout": {
                    "annotationdefaults": {
                      "arrowcolor": "#2a3f5f",
                      "arrowhead": 0,
                      "arrowwidth": 1
                    },
                    "autotypenumbers": "strict",
                    "coloraxis": {
                      "colorbar": {
                        "outlinewidth": 0,
                        "ticks": ""
                      }
                    },
                    "colorscale": {
                      "diverging": [
                        [
                          0,
                          "#8e0152"
                        ],
                        [
                          0.1,
                          "#c51b7d"
                        ],
                        [
                          0.2,
                          "#de77ae"
                        ],
                        [
                          0.3,
                          "#f1b6da"
                        ],
                        [
                          0.4,
                          "#fde0ef"
                        ],
                        [
                          0.5,
                          "#f7f7f7"
                        ],
                        [
                          0.6,
                          "#e6f5d0"
                        ],
                        [
                          0.7,
                          "#b8e186"
                        ],
                        [
                          0.8,
                          "#7fbc41"
                        ],
                        [
                          0.9,
                          "#4d9221"
                        ],
                        [
                          1,
                          "#276419"
                        ]
                      ],
                      "sequential": [
                        [
                          0,
                          "#0d0887"
                        ],
                        [
                          0.1111111111111111,
                          "#46039f"
                        ],
                        [
                          0.2222222222222222,
                          "#7201a8"
                        ],
                        [
                          0.3333333333333333,
                          "#9c179e"
                        ],
                        [
                          0.4444444444444444,
                          "#bd3786"
                        ],
                        [
                          0.5555555555555556,
                          "#d8576b"
                        ],
                        [
                          0.6666666666666666,
                          "#ed7953"
                        ],
                        [
                          0.7777777777777778,
                          "#fb9f3a"
                        ],
                        [
                          0.8888888888888888,
                          "#fdca26"
                        ],
                        [
                          1,
                          "#f0f921"
                        ]
                      ],
                      "sequentialminus": [
                        [
                          0,
                          "#0d0887"
                        ],
                        [
                          0.1111111111111111,
                          "#46039f"
                        ],
                        [
                          0.2222222222222222,
                          "#7201a8"
                        ],
                        [
                          0.3333333333333333,
                          "#9c179e"
                        ],
                        [
                          0.4444444444444444,
                          "#bd3786"
                        ],
                        [
                          0.5555555555555556,
                          "#d8576b"
                        ],
                        [
                          0.6666666666666666,
                          "#ed7953"
                        ],
                        [
                          0.7777777777777778,
                          "#fb9f3a"
                        ],
                        [
                          0.8888888888888888,
                          "#fdca26"
                        ],
                        [
                          1,
                          "#f0f921"
                        ]
                      ]
                    },
                    "colorway": [
                      "#636efa",
                      "#EF553B",
                      "#00cc96",
                      "#ab63fa",
                      "#FFA15A",
                      "#19d3f3",
                      "#FF6692",
                      "#B6E880",
                      "#FF97FF",
                      "#FECB52"
                    ],
                    "font": {
                      "color": "#2a3f5f"
                    },
                    "geo": {
                      "bgcolor": "white",
                      "lakecolor": "white",
                      "landcolor": "#E5ECF6",
                      "showlakes": true,
                      "showland": true,
                      "subunitcolor": "white"
                    },
                    "hoverlabel": {
                      "align": "left"
                    },
                    "hovermode": "closest",
                    "mapbox": {
                      "style": "light"
                    },
                    "paper_bgcolor": "white",
                    "plot_bgcolor": "#E5ECF6",
                    "polar": {
                      "angularaxis": {
                        "gridcolor": "white",
                        "linecolor": "white",
                        "ticks": ""
                      },
                      "bgcolor": "#E5ECF6",
                      "radialaxis": {
                        "gridcolor": "white",
                        "linecolor": "white",
                        "ticks": ""
                      }
                    },
                    "scene": {
                      "xaxis": {
                        "backgroundcolor": "#E5ECF6",
                        "gridcolor": "white",
                        "gridwidth": 2,
                        "linecolor": "white",
                        "showbackground": true,
                        "ticks": "",
                        "zerolinecolor": "white"
                      },
                      "yaxis": {
                        "backgroundcolor": "#E5ECF6",
                        "gridcolor": "white",
                        "gridwidth": 2,
                        "linecolor": "white",
                        "showbackground": true,
                        "ticks": "",
                        "zerolinecolor": "white"
                      },
                      "zaxis": {
                        "backgroundcolor": "#E5ECF6",
                        "gridcolor": "white",
                        "gridwidth": 2,
                        "linecolor": "white",
                        "showbackground": true,
                        "ticks": "",
                        "zerolinecolor": "white"
                      }
                    },
                    "shapedefaults": {
                      "line": {
                        "color": "#2a3f5f"
                      }
                    },
                    "ternary": {
                      "aaxis": {
                        "gridcolor": "white",
                        "linecolor": "white",
                        "ticks": ""
                      },
                      "baxis": {
                        "gridcolor": "white",
                        "linecolor": "white",
                        "ticks": ""
                      },
                      "bgcolor": "#E5ECF6",
                      "caxis": {
                        "gridcolor": "white",
                        "linecolor": "white",
                        "ticks": ""
                      }
                    },
                    "title": {
                      "x": 0.05
                    },
                    "xaxis": {
                      "automargin": true,
                      "gridcolor": "white",
                      "linecolor": "white",
                      "ticks": "",
                      "title": {
                        "standoff": 15
                      },
                      "zerolinecolor": "white",
                      "zerolinewidth": 2
                    },
                    "yaxis": {
                      "automargin": true,
                      "gridcolor": "white",
                      "linecolor": "white",
                      "ticks": "",
                      "title": {
                        "standoff": 15
                      },
                      "zerolinecolor": "white",
                      "zerolinewidth": 2
                    }
                  }
                },
                "title": {
                  "text": "Diagnostic Test Analysis",
                  "x": 0.5
                },
                "width": 1000,
                "xaxis": {
                  "anchor": "y",
                  "domain": [
                    0,
                    0.45
                  ]
                },
                "xaxis2": {
                  "anchor": "y2",
                  "domain": [
                    0.55,
                    1
                  ]
                },
                "yaxis": {
                  "anchor": "x",
                  "domain": [
                    0,
                    1
                  ],
                  "dtick": 1,
                  "gridcolor": "white",
                  "title": {
                    "text": "Days to Receive Results"
                  },
                  "zerolinecolor": "white"
                },
                "yaxis2": {
                  "anchor": "x2",
                  "domain": [
                    0,
                    1
                  ],
                  "dtick": 5,
                  "gridcolor": "white",
                  "title": {
                    "text": "Count of Tests Ordered"
                  },
                  "zerolinecolor": "white"
                }
              }
            }
          },
          "metadata": {},
          "output_type": "display_data"
        }
      ],
      "source": [
        "# Filter out rows with missing values for diagnostic tests\n",
        "diagnostic_df = patients_df[['DiagnosticTests', 'TestResultDays']].dropna()\n",
        "\n",
        "# Colors for each diagnostic test (customizable if you know exact test names)\n",
        "color_map = {\n",
        "    'Blood Test': 'rgba(93, 164, 214, 0.5)',\n",
        "    'Neuroimaging': 'rgba(255, 144, 14, 0.5)',\n",
        "    'EEG': 'rgba(44, 160, 101, 0.5)'\n",
        "}\n",
        "\n",
        "# Unique diagnostic tests\n",
        "unique_tests = diagnostic_df['DiagnosticTests'].unique()\n",
        "\n",
        "# Create subplot (1 row, 2 columns)\n",
        "fig = make_subplots(\n",
        "    rows=1, cols=2,\n",
        "    subplot_titles=(\n",
        "        \"Days to Receive Diagnostic Test Results\",\n",
        "        \"Diagnostic Test Order Counts\"\n",
        "    )\n",
        ")\n",
        "\n",
        "# === Plot 1: Box Plot (TestResultDays by Diagnostic Test) ===\n",
        "for test in unique_tests:\n",
        "    filtered = diagnostic_df[diagnostic_df['DiagnosticTests'] == test]\n",
        "    fig.add_trace(go.Box(\n",
        "        y=filtered['TestResultDays'],\n",
        "        name=test,\n",
        "        whiskerwidth=0.5,\n",
        "        fillcolor=color_map.get(test, 'rgba(93, 164, 214, 0.5)'),  # fallback color\n",
        "        line_width=1\n",
        "    ), row=1, col=1)\n",
        "\n",
        "# === Plot 2: Bar Plot (Test Type Counts) ===\n",
        "test_counts = diagnostic_df['DiagnosticTests'].value_counts()\n",
        "bar_colors = [color_map.get(test, 'rgba(93, 164, 214, 0.8)') for test in test_counts.index]\n",
        "\n",
        "fig.add_trace(go.Bar(\n",
        "    x=test_counts.index,\n",
        "    y=test_counts.values,\n",
        "    marker_color=bar_colors,\n",
        "    name='Test Orders'\n",
        "), row=1, col=2)\n",
        "\n",
        "# === Update Layout ===\n",
        "fig.update_layout(\n",
        "    title=dict(text=\"Diagnostic Test Analysis\", x=0.5),\n",
        "    height=500, width=1000,\n",
        "    paper_bgcolor='rgb(243, 243, 243)',\n",
        "    plot_bgcolor='rgb(243, 243, 243)',\n",
        "    margin=dict(l=50, r=50, t=100, b=60),\n",
        "    showlegend=False\n",
        ")\n",
        "\n",
        "# Y-axis tweaks for box plot\n",
        "fig.update_yaxes(\n",
        "    title_text=\"Days to Receive Results\", row=1, col=1,\n",
        "    gridcolor='white', zerolinecolor='white', dtick=1\n",
        ")\n",
        "\n",
        "# Y-axis for bar plot\n",
        "fig.update_yaxes(\n",
        "    title_text=\"Count of Tests Ordered\", row=1, col=2,\n",
        "    gridcolor='white', zerolinecolor='white', dtick=5\n",
        ")\n",
        "\n",
        "# Show plot\n",
        "fig.show()\n"
      ]
    },
    {
      "cell_type": "markdown",
      "metadata": {
        "id": "sOxflhnH0JmB"
      },
      "source": [
        "## ⚙️ Efficiency & Bottleneck Insights\n",
        "\n",
        "This section highlights how patient queues and wait times can signal areas needing process improvement.\n",
        "\n",
        "---\n",
        "\n",
        "### 1. 📊 Bar Plot: Average Queue Length per Station\n",
        "\n",
        "- **What it shows**:  \n",
        "  The average number of patients waiting at each key station.\n",
        "\n",
        "- **Insight**:  \n",
        "  Helps identify service areas experiencing consistent bottlenecks or staffing shortages.\n",
        "\n",
        "---\n",
        "\n",
        "### 2. ⏳ Scatter Plot: Wait Time vs Arrival Time\n",
        "\n",
        "- **What it shows**:  \n",
        "  Plots patient `ArrivalTime` on the x-axis and **total wait time** on the y-axis\n",
        "\n",
        "- **Insight**:  \n",
        "  Highlights specific time windows during the day when bottlenecks and delays peak, useful for shift planning and patient flow optimization.\n"
      ]
    },
    {
      "cell_type": "code",
      "execution_count": 46,
      "metadata": {
        "colab": {
          "base_uri": "https://localhost:8080/",
          "height": 698
        },
        "id": "WAepJE3jykeE",
        "outputId": "0825cb14-d3a9-4320-90b6-442fd6a729e1"
      },
      "outputs": [
        {
          "name": "stderr",
          "output_type": "stream",
          "text": [
            "/var/folders/f7/m7lk9wjj6yb6xqfx1qr63tnh0000gq/T/ipykernel_23723/2195578018.py:11: FutureWarning:\n",
            "\n",
            "A value is trying to be set on a copy of a DataFrame or Series through chained assignment using an inplace method.\n",
            "The behavior will change in pandas 3.0. This inplace method will never work because the intermediate object on which we are setting values always behaves as a copy.\n",
            "\n",
            "For example, when doing 'df[col].method(value, inplace=True)', try using 'df.method({col: value}, inplace=True)' or df[col] = df[col].method(value) instead, to perform the operation inplace on the original object.\n",
            "\n",
            "\n",
            "\n"
          ]
        },
        {
          "data": {
            "application/vnd.plotly.v1+json": {
              "config": {
                "plotlyServerURL": "https://plot.ly"
              },
              "data": [
                {
                  "marker": {
                    "color": "rgba(93, 164, 214, 0.7)"
                  },
                  "name": "Avg Queue Length",
                  "type": "bar",
                  "x": [
                    "Check-In",
                    "Triage",
                    "Consultation",
                    "Pharmacy",
                    "Billing"
                  ],
                  "xaxis": "x",
                  "y": [
                    0.27,
                    0.2,
                    3.65,
                    1.22,
                    0.2
                  ],
                  "yaxis": "y"
                },
                {
                  "marker": {
                    "color": "rgba(255, 65, 54, 0.7)",
                    "size": 6
                  },
                  "mode": "markers",
                  "name": "Wait Time",
                  "type": "scatter",
                  "x": [
                    "08:28:00",
                    "08:40:00",
                    "09:06:00",
                    "09:27:00",
                    "09:34:00",
                    "09:35:00",
                    "09:43:00",
                    "10:13:00",
                    "10:16:00",
                    "10:35:00",
                    "10:37:00",
                    "10:42:00",
                    "10:43:00",
                    "10:44:00",
                    "10:52:00",
                    "10:55:00",
                    "11:01:00",
                    "11:04:00",
                    "11:06:00",
                    "11:07:00",
                    "11:08:00",
                    "11:12:00",
                    "11:17:00",
                    "11:19:00",
                    "11:22:00",
                    "11:23:00",
                    "11:24:00",
                    "11:27:00",
                    "11:35:00",
                    "11:36:00",
                    "11:38:00",
                    "11:42:00",
                    "11:43:00",
                    "11:45:00",
                    "11:46:00",
                    "11:49:00",
                    "11:53:00",
                    "12:00:00",
                    "12:03:00",
                    "12:05:00",
                    "12:07:00",
                    "12:09:00",
                    "12:12:00",
                    "12:14:00",
                    "12:19:00",
                    "12:20:00",
                    "12:21:00",
                    "12:28:00",
                    "12:30:00",
                    "12:31:00",
                    "12:33:00",
                    "12:36:00",
                    "12:37:00",
                    "12:41:00",
                    "12:46:00",
                    "12:59:00",
                    "13:03:00",
                    "13:04:00",
                    "13:07:00",
                    "13:08:00",
                    "13:09:00",
                    "13:11:00",
                    "13:18:00",
                    "13:22:00",
                    "13:25:00",
                    "13:27:00",
                    "13:29:00",
                    "13:33:00",
                    "13:36:00",
                    "13:39:00",
                    "13:42:00",
                    "13:44:00",
                    "13:45:00",
                    "13:46:00",
                    "13:47:00",
                    "13:55:00",
                    "13:58:00",
                    "13:59:00",
                    "14:00:00",
                    "14:12:00",
                    "14:13:00",
                    "14:14:00",
                    "14:34:00",
                    "14:48:00",
                    "15:09:00",
                    "15:12:00",
                    "15:24:00",
                    "15:29:00",
                    "15:59:00",
                    "16:04:00",
                    "16:07:00",
                    "16:12:00",
                    "16:18:00",
                    "16:20:00",
                    "16:21:00",
                    "16:22:00",
                    "16:36:00",
                    "16:38:00",
                    "16:41:00",
                    "16:57:00"
                  ],
                  "xaxis": "x2",
                  "y": {
                    "bdata": "AAAAAAAAGEAAAAAAAAAYQAAAAAAAABhAAAAAAAAAHEAAAAAAAAAYQAAAAAAAABhAAAAAAAAAHEAAAAAAAAAYQAAAAAAAABRAAAAAAAAAGEAAAAAAAAAcQAAAAAAAABhAAAAAAAAAGEAAAAAAAAAmQAAAAAAAACpAAAAAAAAAJEAAAAAAAAAuQAAAAAAAABhAAAAAAAAAGEAAAAAAAAAoQAAAAAAAACxAAAAAAAAAJkAAAAAAAIBDQAAAAAAAADNAAAAAAAAAMEAAAAAAAAAwQAAAAAAAACpAAAAAAAAAOEAAAAAAAAAsQAAAAAAAADhAAAAAAAAANEAAAAAAAAA3QAAAAAAAAEFAAAAAAAAAOEAAAAAAAAA9QAAAAAAAADlAAAAAAACAREAAAAAAAABEQAAAAAAAgENAAAAAAACAQEAAAAAAAIBBQAAAAAAAADZAAAAAAACARkAAAAAAAAA0QAAAAAAAAEJAAAAAAACARkAAAAAAAABFQAAAAAAAAEZAAAAAAAAAM0AAAAAAAABEQAAAAAAAAEVAAAAAAACAQ0AAAAAAAAAxQAAAAAAAAEVAAAAAAAAAMEAAAAAAAAA8QAAAAAAAADtAAAAAAAAAN0AAAAAAAAA/QAAAAAAAADpAAAAAAAAAR0AAAAAAAABEQAAAAAAAgEBAAAAAAACATkAAAAAAAIBDQAAAAAAAAEFAAAAAAAAAMEAAAAAAAABCQAAAAAAAAEFAAAAAAACAQUAAAAAAAAA8QAAAAAAAgEZAAAAAAACAR0AAAAAAAABGQAAAAAAAADBAAAAAAAAAREAAAAAAAIBBQAAAAAAAgEdAAAAAAACARkAAAAAAAIBDQAAAAAAAAENAAAAAAACARUAAAAAAAIBEQAAAAAAAACZAAAAAAAAAOkAAAAAAAABLQAAAAAAAABhAAAAAAAAAHEAAAAAAAAAYQAAAAAAAABxAAAAAAAAAHEAAAAAAAAAYQAAAAAAAACxAAAAAAAAAKkAAAAAAAAAyQAAAAAAAADFAAAAAAAAAIEAAAAAAAAAgQAAAAAAAABhAAAAAAAAAHEA=",
                    "dtype": "f8"
                  },
                  "yaxis": "y2"
                }
              ],
              "layout": {
                "annotations": [
                  {
                    "font": {
                      "size": 16
                    },
                    "showarrow": false,
                    "text": "Average Queue Length per Station",
                    "x": 0.225,
                    "xanchor": "center",
                    "xref": "paper",
                    "y": 1,
                    "yanchor": "bottom",
                    "yref": "paper"
                  },
                  {
                    "font": {
                      "size": 16
                    },
                    "showarrow": false,
                    "text": "Total Wait Time vs. Arrival Time",
                    "x": 0.775,
                    "xanchor": "center",
                    "xref": "paper",
                    "y": 1,
                    "yanchor": "bottom",
                    "yref": "paper"
                  }
                ],
                "height": 500,
                "margin": {
                  "b": 60,
                  "l": 50,
                  "r": 50,
                  "t": 100
                },
                "showlegend": false,
                "template": {
                  "data": {
                    "bar": [
                      {
                        "error_x": {
                          "color": "#2a3f5f"
                        },
                        "error_y": {
                          "color": "#2a3f5f"
                        },
                        "marker": {
                          "line": {
                            "color": "#E5ECF6",
                            "width": 0.5
                          },
                          "pattern": {
                            "fillmode": "overlay",
                            "size": 10,
                            "solidity": 0.2
                          }
                        },
                        "type": "bar"
                      }
                    ],
                    "barpolar": [
                      {
                        "marker": {
                          "line": {
                            "color": "#E5ECF6",
                            "width": 0.5
                          },
                          "pattern": {
                            "fillmode": "overlay",
                            "size": 10,
                            "solidity": 0.2
                          }
                        },
                        "type": "barpolar"
                      }
                    ],
                    "carpet": [
                      {
                        "aaxis": {
                          "endlinecolor": "#2a3f5f",
                          "gridcolor": "white",
                          "linecolor": "white",
                          "minorgridcolor": "white",
                          "startlinecolor": "#2a3f5f"
                        },
                        "baxis": {
                          "endlinecolor": "#2a3f5f",
                          "gridcolor": "white",
                          "linecolor": "white",
                          "minorgridcolor": "white",
                          "startlinecolor": "#2a3f5f"
                        },
                        "type": "carpet"
                      }
                    ],
                    "choropleth": [
                      {
                        "colorbar": {
                          "outlinewidth": 0,
                          "ticks": ""
                        },
                        "type": "choropleth"
                      }
                    ],
                    "contour": [
                      {
                        "colorbar": {
                          "outlinewidth": 0,
                          "ticks": ""
                        },
                        "colorscale": [
                          [
                            0,
                            "#0d0887"
                          ],
                          [
                            0.1111111111111111,
                            "#46039f"
                          ],
                          [
                            0.2222222222222222,
                            "#7201a8"
                          ],
                          [
                            0.3333333333333333,
                            "#9c179e"
                          ],
                          [
                            0.4444444444444444,
                            "#bd3786"
                          ],
                          [
                            0.5555555555555556,
                            "#d8576b"
                          ],
                          [
                            0.6666666666666666,
                            "#ed7953"
                          ],
                          [
                            0.7777777777777778,
                            "#fb9f3a"
                          ],
                          [
                            0.8888888888888888,
                            "#fdca26"
                          ],
                          [
                            1,
                            "#f0f921"
                          ]
                        ],
                        "type": "contour"
                      }
                    ],
                    "contourcarpet": [
                      {
                        "colorbar": {
                          "outlinewidth": 0,
                          "ticks": ""
                        },
                        "type": "contourcarpet"
                      }
                    ],
                    "heatmap": [
                      {
                        "colorbar": {
                          "outlinewidth": 0,
                          "ticks": ""
                        },
                        "colorscale": [
                          [
                            0,
                            "#0d0887"
                          ],
                          [
                            0.1111111111111111,
                            "#46039f"
                          ],
                          [
                            0.2222222222222222,
                            "#7201a8"
                          ],
                          [
                            0.3333333333333333,
                            "#9c179e"
                          ],
                          [
                            0.4444444444444444,
                            "#bd3786"
                          ],
                          [
                            0.5555555555555556,
                            "#d8576b"
                          ],
                          [
                            0.6666666666666666,
                            "#ed7953"
                          ],
                          [
                            0.7777777777777778,
                            "#fb9f3a"
                          ],
                          [
                            0.8888888888888888,
                            "#fdca26"
                          ],
                          [
                            1,
                            "#f0f921"
                          ]
                        ],
                        "type": "heatmap"
                      }
                    ],
                    "histogram": [
                      {
                        "marker": {
                          "pattern": {
                            "fillmode": "overlay",
                            "size": 10,
                            "solidity": 0.2
                          }
                        },
                        "type": "histogram"
                      }
                    ],
                    "histogram2d": [
                      {
                        "colorbar": {
                          "outlinewidth": 0,
                          "ticks": ""
                        },
                        "colorscale": [
                          [
                            0,
                            "#0d0887"
                          ],
                          [
                            0.1111111111111111,
                            "#46039f"
                          ],
                          [
                            0.2222222222222222,
                            "#7201a8"
                          ],
                          [
                            0.3333333333333333,
                            "#9c179e"
                          ],
                          [
                            0.4444444444444444,
                            "#bd3786"
                          ],
                          [
                            0.5555555555555556,
                            "#d8576b"
                          ],
                          [
                            0.6666666666666666,
                            "#ed7953"
                          ],
                          [
                            0.7777777777777778,
                            "#fb9f3a"
                          ],
                          [
                            0.8888888888888888,
                            "#fdca26"
                          ],
                          [
                            1,
                            "#f0f921"
                          ]
                        ],
                        "type": "histogram2d"
                      }
                    ],
                    "histogram2dcontour": [
                      {
                        "colorbar": {
                          "outlinewidth": 0,
                          "ticks": ""
                        },
                        "colorscale": [
                          [
                            0,
                            "#0d0887"
                          ],
                          [
                            0.1111111111111111,
                            "#46039f"
                          ],
                          [
                            0.2222222222222222,
                            "#7201a8"
                          ],
                          [
                            0.3333333333333333,
                            "#9c179e"
                          ],
                          [
                            0.4444444444444444,
                            "#bd3786"
                          ],
                          [
                            0.5555555555555556,
                            "#d8576b"
                          ],
                          [
                            0.6666666666666666,
                            "#ed7953"
                          ],
                          [
                            0.7777777777777778,
                            "#fb9f3a"
                          ],
                          [
                            0.8888888888888888,
                            "#fdca26"
                          ],
                          [
                            1,
                            "#f0f921"
                          ]
                        ],
                        "type": "histogram2dcontour"
                      }
                    ],
                    "mesh3d": [
                      {
                        "colorbar": {
                          "outlinewidth": 0,
                          "ticks": ""
                        },
                        "type": "mesh3d"
                      }
                    ],
                    "parcoords": [
                      {
                        "line": {
                          "colorbar": {
                            "outlinewidth": 0,
                            "ticks": ""
                          }
                        },
                        "type": "parcoords"
                      }
                    ],
                    "pie": [
                      {
                        "automargin": true,
                        "type": "pie"
                      }
                    ],
                    "scatter": [
                      {
                        "fillpattern": {
                          "fillmode": "overlay",
                          "size": 10,
                          "solidity": 0.2
                        },
                        "type": "scatter"
                      }
                    ],
                    "scatter3d": [
                      {
                        "line": {
                          "colorbar": {
                            "outlinewidth": 0,
                            "ticks": ""
                          }
                        },
                        "marker": {
                          "colorbar": {
                            "outlinewidth": 0,
                            "ticks": ""
                          }
                        },
                        "type": "scatter3d"
                      }
                    ],
                    "scattercarpet": [
                      {
                        "marker": {
                          "colorbar": {
                            "outlinewidth": 0,
                            "ticks": ""
                          }
                        },
                        "type": "scattercarpet"
                      }
                    ],
                    "scattergeo": [
                      {
                        "marker": {
                          "colorbar": {
                            "outlinewidth": 0,
                            "ticks": ""
                          }
                        },
                        "type": "scattergeo"
                      }
                    ],
                    "scattergl": [
                      {
                        "marker": {
                          "colorbar": {
                            "outlinewidth": 0,
                            "ticks": ""
                          }
                        },
                        "type": "scattergl"
                      }
                    ],
                    "scattermap": [
                      {
                        "marker": {
                          "colorbar": {
                            "outlinewidth": 0,
                            "ticks": ""
                          }
                        },
                        "type": "scattermap"
                      }
                    ],
                    "scattermapbox": [
                      {
                        "marker": {
                          "colorbar": {
                            "outlinewidth": 0,
                            "ticks": ""
                          }
                        },
                        "type": "scattermapbox"
                      }
                    ],
                    "scatterpolar": [
                      {
                        "marker": {
                          "colorbar": {
                            "outlinewidth": 0,
                            "ticks": ""
                          }
                        },
                        "type": "scatterpolar"
                      }
                    ],
                    "scatterpolargl": [
                      {
                        "marker": {
                          "colorbar": {
                            "outlinewidth": 0,
                            "ticks": ""
                          }
                        },
                        "type": "scatterpolargl"
                      }
                    ],
                    "scatterternary": [
                      {
                        "marker": {
                          "colorbar": {
                            "outlinewidth": 0,
                            "ticks": ""
                          }
                        },
                        "type": "scatterternary"
                      }
                    ],
                    "surface": [
                      {
                        "colorbar": {
                          "outlinewidth": 0,
                          "ticks": ""
                        },
                        "colorscale": [
                          [
                            0,
                            "#0d0887"
                          ],
                          [
                            0.1111111111111111,
                            "#46039f"
                          ],
                          [
                            0.2222222222222222,
                            "#7201a8"
                          ],
                          [
                            0.3333333333333333,
                            "#9c179e"
                          ],
                          [
                            0.4444444444444444,
                            "#bd3786"
                          ],
                          [
                            0.5555555555555556,
                            "#d8576b"
                          ],
                          [
                            0.6666666666666666,
                            "#ed7953"
                          ],
                          [
                            0.7777777777777778,
                            "#fb9f3a"
                          ],
                          [
                            0.8888888888888888,
                            "#fdca26"
                          ],
                          [
                            1,
                            "#f0f921"
                          ]
                        ],
                        "type": "surface"
                      }
                    ],
                    "table": [
                      {
                        "cells": {
                          "fill": {
                            "color": "#EBF0F8"
                          },
                          "line": {
                            "color": "white"
                          }
                        },
                        "header": {
                          "fill": {
                            "color": "#C8D4E3"
                          },
                          "line": {
                            "color": "white"
                          }
                        },
                        "type": "table"
                      }
                    ]
                  },
                  "layout": {
                    "annotationdefaults": {
                      "arrowcolor": "#2a3f5f",
                      "arrowhead": 0,
                      "arrowwidth": 1
                    },
                    "autotypenumbers": "strict",
                    "coloraxis": {
                      "colorbar": {
                        "outlinewidth": 0,
                        "ticks": ""
                      }
                    },
                    "colorscale": {
                      "diverging": [
                        [
                          0,
                          "#8e0152"
                        ],
                        [
                          0.1,
                          "#c51b7d"
                        ],
                        [
                          0.2,
                          "#de77ae"
                        ],
                        [
                          0.3,
                          "#f1b6da"
                        ],
                        [
                          0.4,
                          "#fde0ef"
                        ],
                        [
                          0.5,
                          "#f7f7f7"
                        ],
                        [
                          0.6,
                          "#e6f5d0"
                        ],
                        [
                          0.7,
                          "#b8e186"
                        ],
                        [
                          0.8,
                          "#7fbc41"
                        ],
                        [
                          0.9,
                          "#4d9221"
                        ],
                        [
                          1,
                          "#276419"
                        ]
                      ],
                      "sequential": [
                        [
                          0,
                          "#0d0887"
                        ],
                        [
                          0.1111111111111111,
                          "#46039f"
                        ],
                        [
                          0.2222222222222222,
                          "#7201a8"
                        ],
                        [
                          0.3333333333333333,
                          "#9c179e"
                        ],
                        [
                          0.4444444444444444,
                          "#bd3786"
                        ],
                        [
                          0.5555555555555556,
                          "#d8576b"
                        ],
                        [
                          0.6666666666666666,
                          "#ed7953"
                        ],
                        [
                          0.7777777777777778,
                          "#fb9f3a"
                        ],
                        [
                          0.8888888888888888,
                          "#fdca26"
                        ],
                        [
                          1,
                          "#f0f921"
                        ]
                      ],
                      "sequentialminus": [
                        [
                          0,
                          "#0d0887"
                        ],
                        [
                          0.1111111111111111,
                          "#46039f"
                        ],
                        [
                          0.2222222222222222,
                          "#7201a8"
                        ],
                        [
                          0.3333333333333333,
                          "#9c179e"
                        ],
                        [
                          0.4444444444444444,
                          "#bd3786"
                        ],
                        [
                          0.5555555555555556,
                          "#d8576b"
                        ],
                        [
                          0.6666666666666666,
                          "#ed7953"
                        ],
                        [
                          0.7777777777777778,
                          "#fb9f3a"
                        ],
                        [
                          0.8888888888888888,
                          "#fdca26"
                        ],
                        [
                          1,
                          "#f0f921"
                        ]
                      ]
                    },
                    "colorway": [
                      "#636efa",
                      "#EF553B",
                      "#00cc96",
                      "#ab63fa",
                      "#FFA15A",
                      "#19d3f3",
                      "#FF6692",
                      "#B6E880",
                      "#FF97FF",
                      "#FECB52"
                    ],
                    "font": {
                      "color": "#2a3f5f"
                    },
                    "geo": {
                      "bgcolor": "white",
                      "lakecolor": "white",
                      "landcolor": "#E5ECF6",
                      "showlakes": true,
                      "showland": true,
                      "subunitcolor": "white"
                    },
                    "hoverlabel": {
                      "align": "left"
                    },
                    "hovermode": "closest",
                    "mapbox": {
                      "style": "light"
                    },
                    "paper_bgcolor": "white",
                    "plot_bgcolor": "#E5ECF6",
                    "polar": {
                      "angularaxis": {
                        "gridcolor": "white",
                        "linecolor": "white",
                        "ticks": ""
                      },
                      "bgcolor": "#E5ECF6",
                      "radialaxis": {
                        "gridcolor": "white",
                        "linecolor": "white",
                        "ticks": ""
                      }
                    },
                    "scene": {
                      "xaxis": {
                        "backgroundcolor": "#E5ECF6",
                        "gridcolor": "white",
                        "gridwidth": 2,
                        "linecolor": "white",
                        "showbackground": true,
                        "ticks": "",
                        "zerolinecolor": "white"
                      },
                      "yaxis": {
                        "backgroundcolor": "#E5ECF6",
                        "gridcolor": "white",
                        "gridwidth": 2,
                        "linecolor": "white",
                        "showbackground": true,
                        "ticks": "",
                        "zerolinecolor": "white"
                      },
                      "zaxis": {
                        "backgroundcolor": "#E5ECF6",
                        "gridcolor": "white",
                        "gridwidth": 2,
                        "linecolor": "white",
                        "showbackground": true,
                        "ticks": "",
                        "zerolinecolor": "white"
                      }
                    },
                    "shapedefaults": {
                      "line": {
                        "color": "#2a3f5f"
                      }
                    },
                    "ternary": {
                      "aaxis": {
                        "gridcolor": "white",
                        "linecolor": "white",
                        "ticks": ""
                      },
                      "baxis": {
                        "gridcolor": "white",
                        "linecolor": "white",
                        "ticks": ""
                      },
                      "bgcolor": "#E5ECF6",
                      "caxis": {
                        "gridcolor": "white",
                        "linecolor": "white",
                        "ticks": ""
                      }
                    },
                    "title": {
                      "x": 0.05
                    },
                    "xaxis": {
                      "automargin": true,
                      "gridcolor": "white",
                      "linecolor": "white",
                      "ticks": "",
                      "title": {
                        "standoff": 15
                      },
                      "zerolinecolor": "white",
                      "zerolinewidth": 2
                    },
                    "yaxis": {
                      "automargin": true,
                      "gridcolor": "white",
                      "linecolor": "white",
                      "ticks": "",
                      "title": {
                        "standoff": 15
                      },
                      "zerolinecolor": "white",
                      "zerolinewidth": 2
                    }
                  }
                },
                "title": {
                  "text": "Queue Lengths and Wait Time Analysis",
                  "x": 0.5
                },
                "width": 1000,
                "xaxis": {
                  "anchor": "y",
                  "domain": [
                    0,
                    0.45
                  ],
                  "title": {
                    "text": "Station"
                  }
                },
                "xaxis2": {
                  "anchor": "y2",
                  "domain": [
                    0.55,
                    1
                  ],
                  "title": {
                    "text": "Arrival Time"
                  }
                },
                "yaxis": {
                  "anchor": "x",
                  "domain": [
                    0,
                    1
                  ],
                  "title": {
                    "text": "Average Queue Length"
                  }
                },
                "yaxis2": {
                  "anchor": "x2",
                  "domain": [
                    0,
                    1
                  ],
                  "title": {
                    "text": "Total Wait Time (min)"
                  }
                }
              }
            }
          },
          "metadata": {},
          "output_type": "display_data"
        }
      ],
      "source": [
        "# Plot 1: Average queue lengths\n",
        "avg_queues = {\n",
        "    'Check-In': patients_df['PatientsWaitingCheckIn'].mean(),\n",
        "    'Triage': patients_df['PatientsWaitingTriage'].mean(),\n",
        "    'Consultation': (patients_df['RoutineQueueSize'] + patients_df['EmergencyQueueSize']).mean(),\n",
        "    'Pharmacy': patients_df['PharmacyQueueSize'].mean(),\n",
        "    'Billing': patients_df['BillingQueueSize'].mean()\n",
        "}\n",
        "\n",
        "# Plot 2: Wait time vs ArrivalTime\n",
        "patients_df['TestWaitMin'].fillna(0, inplace=True)\n",
        "patients_df['TotalWaitTime'] = (\n",
        "    patients_df['CheckInWaitMin'] +\n",
        "    patients_df['TriageWaitMin'] +\n",
        "    patients_df['ConsultationWaitMin'] +\n",
        "    patients_df['TestWaitMin'] +\n",
        "    patients_df['PharmacyWaitMin'] +\n",
        "    patients_df['BillingWaitMin']\n",
        ")\n",
        "\n",
        "# Subplots\n",
        "fig = make_subplots(\n",
        "    rows=1, cols=2,\n",
        "    subplot_titles=(\n",
        "        \"Average Queue Length per Station\",\n",
        "        \"Total Wait Time vs. Arrival Time\"\n",
        "    )\n",
        ")\n",
        "\n",
        "# Bar plot\n",
        "fig.add_trace(go.Bar(\n",
        "    x=list(avg_queues.keys()),\n",
        "    y=list(avg_queues.values()),\n",
        "    marker_color='rgba(93, 164, 214, 0.7)',\n",
        "    name=\"Avg Queue Length\"\n",
        "), row=1, col=1)\n",
        "\n",
        "# Scatter plot\n",
        "fig.add_trace(go.Scatter(\n",
        "    x=patients_df['ArrivalTime'],\n",
        "    y=patients_df['TotalWaitTime'],\n",
        "    mode='markers',\n",
        "    marker=dict(size=6, color='rgba(255, 65, 54, 0.7)'),\n",
        "    name=\"Wait Time\"\n",
        "), row=1, col=2)\n",
        "\n",
        "# Layout\n",
        "fig.update_layout(\n",
        "    title=dict(text=\"Queue Lengths and Wait Time Analysis\", x=0.5),\n",
        "    height=500, width=1000,\n",
        "    margin=dict(l=50, r=50, t=100, b=60),\n",
        "    showlegend=False\n",
        ")\n",
        "\n",
        "fig.update_yaxes(title_text=\"Average Queue Length\", row=1, col=1)\n",
        "fig.update_yaxes(title_text=\"Total Wait Time (min)\", row=1, col=2)\n",
        "fig.update_xaxes(title_text=\"Station\", row=1, col=1)\n",
        "fig.update_xaxes(title_text=\"Arrival Time\", row=1, col=2)\n",
        "\n",
        "fig.show()\n"
      ]
    }
  ],
  "metadata": {
    "colab": {
      "provenance": [],
      "toc_visible": true
    },
    "kernelspec": {
      "display_name": "streamlitenv",
      "language": "python",
      "name": "python3"
    },
    "language_info": {
      "codemirror_mode": {
        "name": "ipython",
        "version": 3
      },
      "file_extension": ".py",
      "mimetype": "text/x-python",
      "name": "python",
      "nbconvert_exporter": "python",
      "pygments_lexer": "ipython3",
      "version": "3.9.21"
    }
  },
  "nbformat": 4,
  "nbformat_minor": 0
}
